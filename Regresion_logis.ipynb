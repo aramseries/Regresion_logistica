{
 "cells": [
  {
   "cell_type": "markdown",
   "id": "6bbd9a5d",
   "metadata": {},
   "source": [
    "## Horas de estudio y aprobar el examen de Modelos Lineales Generalizados"
   ]
  },
  {
   "cell_type": "code",
   "execution_count": 1,
   "id": "ca756188",
   "metadata": {},
   "outputs": [],
   "source": [
    "Hours=c(0.5,0.75,1,1.25,1.5,1.75,1.75,2,2.25,2.5,2.75,3,3.25,3.5,4,4.25,4.5,4.75,5,5.5) #horas de estudio\n",
    "Pass=c(0,0,0,0,0,0,1,0,1,0,1,0,1,0,1,1,1,1,1,1) #Aprobar el examen\n",
    "# O es No aprobar\n",
    "# 1 es Sí aprobar"
   ]
  },
  {
   "cell_type": "code",
   "execution_count": 2,
   "id": "6ca72810",
   "metadata": {},
   "outputs": [
    {
     "data": {
      "text/html": [
       "<table class=\"dataframe\">\n",
       "<caption>A data.frame: 10 × 2</caption>\n",
       "<thead>\n",
       "\t<tr><th></th><th scope=col>Hours</th><th scope=col>Pass</th></tr>\n",
       "\t<tr><th></th><th scope=col>&lt;dbl&gt;</th><th scope=col>&lt;dbl&gt;</th></tr>\n",
       "</thead>\n",
       "<tbody>\n",
       "\t<tr><th scope=row>1</th><td>0.50</td><td>0</td></tr>\n",
       "\t<tr><th scope=row>2</th><td>0.75</td><td>0</td></tr>\n",
       "\t<tr><th scope=row>3</th><td>1.00</td><td>0</td></tr>\n",
       "\t<tr><th scope=row>4</th><td>1.25</td><td>0</td></tr>\n",
       "\t<tr><th scope=row>5</th><td>1.50</td><td>0</td></tr>\n",
       "\t<tr><th scope=row>6</th><td>1.75</td><td>0</td></tr>\n",
       "\t<tr><th scope=row>7</th><td>1.75</td><td>1</td></tr>\n",
       "\t<tr><th scope=row>8</th><td>2.00</td><td>0</td></tr>\n",
       "\t<tr><th scope=row>9</th><td>2.25</td><td>1</td></tr>\n",
       "\t<tr><th scope=row>10</th><td>2.50</td><td>0</td></tr>\n",
       "</tbody>\n",
       "</table>\n"
      ],
      "text/latex": [
       "A data.frame: 10 × 2\n",
       "\\begin{tabular}{r|ll}\n",
       "  & Hours & Pass\\\\\n",
       "  & <dbl> & <dbl>\\\\\n",
       "\\hline\n",
       "\t1 & 0.50 & 0\\\\\n",
       "\t2 & 0.75 & 0\\\\\n",
       "\t3 & 1.00 & 0\\\\\n",
       "\t4 & 1.25 & 0\\\\\n",
       "\t5 & 1.50 & 0\\\\\n",
       "\t6 & 1.75 & 0\\\\\n",
       "\t7 & 1.75 & 1\\\\\n",
       "\t8 & 2.00 & 0\\\\\n",
       "\t9 & 2.25 & 1\\\\\n",
       "\t10 & 2.50 & 0\\\\\n",
       "\\end{tabular}\n"
      ],
      "text/markdown": [
       "\n",
       "A data.frame: 10 × 2\n",
       "\n",
       "| <!--/--> | Hours &lt;dbl&gt; | Pass &lt;dbl&gt; |\n",
       "|---|---|---|\n",
       "| 1 | 0.50 | 0 |\n",
       "| 2 | 0.75 | 0 |\n",
       "| 3 | 1.00 | 0 |\n",
       "| 4 | 1.25 | 0 |\n",
       "| 5 | 1.50 | 0 |\n",
       "| 6 | 1.75 | 0 |\n",
       "| 7 | 1.75 | 1 |\n",
       "| 8 | 2.00 | 0 |\n",
       "| 9 | 2.25 | 1 |\n",
       "| 10 | 2.50 | 0 |\n",
       "\n"
      ],
      "text/plain": [
       "   Hours Pass\n",
       "1  0.50  0   \n",
       "2  0.75  0   \n",
       "3  1.00  0   \n",
       "4  1.25  0   \n",
       "5  1.50  0   \n",
       "6  1.75  0   \n",
       "7  1.75  1   \n",
       "8  2.00  0   \n",
       "9  2.25  1   \n",
       "10 2.50  0   "
      ]
     },
     "metadata": {},
     "output_type": "display_data"
    }
   ],
   "source": [
    "df1=data.frame(Hours,Pass)\n",
    "head(df1,10)"
   ]
  },
  {
   "cell_type": "code",
   "execution_count": 3,
   "id": "0ec21227",
   "metadata": {},
   "outputs": [
    {
     "data": {
      "text/plain": [
       "\n",
       "Call:\n",
       "glm(formula = Pass ~ Hours, family = \"binomial\", data = df1)\n",
       "\n",
       "Deviance Residuals: \n",
       "     Min        1Q    Median        3Q       Max  \n",
       "-1.70557  -0.57357  -0.04654   0.45470   1.82008  \n",
       "\n",
       "Coefficients:\n",
       "            Estimate Std. Error z value Pr(>|z|)  \n",
       "(Intercept)  -4.0777     1.7610  -2.316   0.0206 *\n",
       "Hours         1.5046     0.6287   2.393   0.0167 *\n",
       "---\n",
       "Signif. codes:  0 '***' 0.001 '**' 0.01 '*' 0.05 '.' 0.1 ' ' 1\n",
       "\n",
       "(Dispersion parameter for binomial family taken to be 1)\n",
       "\n",
       "    Null deviance: 27.726  on 19  degrees of freedom\n",
       "Residual deviance: 16.060  on 18  degrees of freedom\n",
       "AIC: 20.06\n",
       "\n",
       "Number of Fisher Scoring iterations: 5\n"
      ]
     },
     "metadata": {},
     "output_type": "display_data"
    }
   ],
   "source": [
    "#Crear nuestro MLG con glm \n",
    "logit0=glm(Pass~Hours,data=df1,family='binomial') #en rls o rlm, la función es lm\n",
    "#logit0 es un objeto glm \n",
    "summary(logit0)"
   ]
  },
  {
   "cell_type": "code",
   "execution_count": 4,
   "id": "49604de1",
   "metadata": {},
   "outputs": [
    {
     "data": {
      "text/plain": [
       "'log Lik.' -8.029878 (df=2)"
      ]
     },
     "metadata": {},
     "output_type": "display_data"
    }
   ],
   "source": [
    "logLik(logit0) #Esto es la verosimilitud del modelo log0"
   ]
  },
  {
   "cell_type": "code",
   "execution_count": 5,
   "id": "ae15232e",
   "metadata": {},
   "outputs": [
    {
     "data": {
      "text/plain": [
       "'log Lik.' 16.05976 (df=2)"
      ]
     },
     "metadata": {},
     "output_type": "display_data"
    }
   ],
   "source": [
    "-2*logLik(logit0) #Esto es la devianza del modelo log0 (-2*logLik(log0))"
   ]
  },
  {
   "cell_type": "markdown",
   "id": "0b28e338",
   "metadata": {},
   "source": [
    "### Construir el modelo nulo de regresión logística para df1"
   ]
  },
  {
   "cell_type": "code",
   "execution_count": 6,
   "id": "cbf6e1ca",
   "metadata": {},
   "outputs": [
    {
     "data": {
      "text/plain": [
       "\n",
       "Call:\n",
       "glm(formula = Pass ~ 1, family = \"binomial\", data = df1)\n",
       "\n",
       "Deviance Residuals: \n",
       "   Min      1Q  Median      3Q     Max  \n",
       "-1.177  -1.177   0.000   1.177   1.177  \n",
       "\n",
       "Coefficients:\n",
       "              Estimate Std. Error z value Pr(>|z|)\n",
       "(Intercept) -9.930e-17  4.472e-01       0        1\n",
       "\n",
       "(Dispersion parameter for binomial family taken to be 1)\n",
       "\n",
       "    Null deviance: 27.726  on 19  degrees of freedom\n",
       "Residual deviance: 27.726  on 19  degrees of freedom\n",
       "AIC: 29.726\n",
       "\n",
       "Number of Fisher Scoring iterations: 2\n"
      ]
     },
     "metadata": {},
     "output_type": "display_data"
    }
   ],
   "source": [
    "logit_nulo=glm(Pass~1,data=df1,family='binomial')\n",
    "summary(logit_nulo)"
   ]
  },
  {
   "cell_type": "code",
   "execution_count": 7,
   "id": "0fe14649",
   "metadata": {},
   "outputs": [
    {
     "data": {
      "text/plain": [
       "'log Lik.' -13.86294 (df=1)"
      ]
     },
     "metadata": {},
     "output_type": "display_data"
    }
   ],
   "source": [
    "logLik(logit_nulo)"
   ]
  },
  {
   "cell_type": "code",
   "execution_count": 8,
   "id": "e37fdff5",
   "metadata": {},
   "outputs": [
    {
     "name": "stderr",
     "output_type": "stream",
     "text": [
      "Warning message:\n",
      "\"package 'lmtest' was built under R version 4.0.5\"\n",
      "Loading required package: zoo\n",
      "\n",
      "Warning message:\n",
      "\"package 'zoo' was built under R version 4.0.5\"\n",
      "\n",
      "Attaching package: 'zoo'\n",
      "\n",
      "\n",
      "The following objects are masked from 'package:base':\n",
      "\n",
      "    as.Date, as.Date.numeric\n",
      "\n",
      "\n"
     ]
    }
   ],
   "source": [
    "library(lmtest)"
   ]
  },
  {
   "cell_type": "code",
   "execution_count": 9,
   "id": "469e8a11",
   "metadata": {},
   "outputs": [
    {
     "data": {
      "text/html": [
       "<table class=\"dataframe\">\n",
       "<caption>A anova: 2 × 5</caption>\n",
       "<thead>\n",
       "\t<tr><th></th><th scope=col>#Df</th><th scope=col>LogLik</th><th scope=col>Df</th><th scope=col>Chisq</th><th scope=col>Pr(&gt;Chisq)</th></tr>\n",
       "\t<tr><th></th><th scope=col>&lt;dbl&gt;</th><th scope=col>&lt;dbl&gt;</th><th scope=col>&lt;dbl&gt;</th><th scope=col>&lt;dbl&gt;</th><th scope=col>&lt;dbl&gt;</th></tr>\n",
       "</thead>\n",
       "<tbody>\n",
       "\t<tr><th scope=row>1</th><td>2</td><td> -8.029878</td><td>NA</td><td>      NA</td><td>          NA</td></tr>\n",
       "\t<tr><th scope=row>2</th><td>1</td><td>-13.862944</td><td>-1</td><td>11.66613</td><td>0.0006364826</td></tr>\n",
       "</tbody>\n",
       "</table>\n"
      ],
      "text/latex": [
       "A anova: 2 × 5\n",
       "\\begin{tabular}{r|lllll}\n",
       "  & \\#Df & LogLik & Df & Chisq & Pr(>Chisq)\\\\\n",
       "  & <dbl> & <dbl> & <dbl> & <dbl> & <dbl>\\\\\n",
       "\\hline\n",
       "\t1 & 2 &  -8.029878 & NA &       NA &           NA\\\\\n",
       "\t2 & 1 & -13.862944 & -1 & 11.66613 & 0.0006364826\\\\\n",
       "\\end{tabular}\n"
      ],
      "text/markdown": [
       "\n",
       "A anova: 2 × 5\n",
       "\n",
       "| <!--/--> | #Df &lt;dbl&gt; | LogLik &lt;dbl&gt; | Df &lt;dbl&gt; | Chisq &lt;dbl&gt; | Pr(&gt;Chisq) &lt;dbl&gt; |\n",
       "|---|---|---|---|---|---|\n",
       "| 1 | 2 |  -8.029878 | NA |       NA |           NA |\n",
       "| 2 | 1 | -13.862944 | -1 | 11.66613 | 0.0006364826 |\n",
       "\n"
      ],
      "text/plain": [
       "  #Df LogLik     Df Chisq    Pr(>Chisq)  \n",
       "1 2    -8.029878 NA       NA           NA\n",
       "2 1   -13.862944 -1 11.66613 0.0006364826"
      ]
     },
     "metadata": {},
     "output_type": "display_data"
    }
   ],
   "source": [
    "lrtest(logit0,logit_nulo)"
   ]
  },
  {
   "cell_type": "code",
   "execution_count": 10,
   "id": "429f02b3",
   "metadata": {},
   "outputs": [
    {
     "data": {
      "text/html": [
       "11.6661302937085"
      ],
      "text/latex": [
       "11.6661302937085"
      ],
      "text/markdown": [
       "11.6661302937085"
      ],
      "text/plain": [
       "[1] 11.66613"
      ]
     },
     "metadata": {},
     "output_type": "display_data"
    }
   ],
   "source": [
    "#Deviance\n",
    "with(logit0,null.deviance-deviance) #pull "
   ]
  },
  {
   "cell_type": "code",
   "execution_count": 11,
   "id": "c0d37933",
   "metadata": {},
   "outputs": [
    {
     "data": {
      "text/html": [
       "11.6661302937085"
      ],
      "text/latex": [
       "11.6661302937085"
      ],
      "text/markdown": [
       "11.6661302937085"
      ],
      "text/plain": [
       "[1] 11.66613"
      ]
     },
     "metadata": {},
     "output_type": "display_data"
    }
   ],
   "source": [
    "logit0$null.deviance-logit0$deviance"
   ]
  },
  {
   "cell_type": "code",
   "execution_count": 12,
   "id": "6d8a4acb",
   "metadata": {},
   "outputs": [
    {
     "data": {
      "text/html": [
       "0.000636482618521712"
      ],
      "text/latex": [
       "0.000636482618521712"
      ],
      "text/markdown": [
       "0.000636482618521712"
      ],
      "text/plain": [
       "[1] 0.0006364826"
      ]
     },
     "metadata": {},
     "output_type": "display_data"
    }
   ],
   "source": [
    "with(logit0,pchisq(null.deviance-deviance,df.null-df.residual,lower.tail=FALSE))"
   ]
  },
  {
   "cell_type": "code",
   "execution_count": 13,
   "id": "14e58734",
   "metadata": {},
   "outputs": [
    {
     "data": {
      "text/html": [
       "<style>\n",
       ".list-inline {list-style: none; margin:0; padding: 0}\n",
       ".list-inline>li {display: inline-block}\n",
       ".list-inline>li:not(:last-child)::after {content: \"\\00b7\"; padding: 0 .5ex}\n",
       "</style>\n",
       "<ol class=list-inline><li>'glm'</li><li>'lm'</li></ol>\n"
      ],
      "text/latex": [
       "\\begin{enumerate*}\n",
       "\\item 'glm'\n",
       "\\item 'lm'\n",
       "\\end{enumerate*}\n"
      ],
      "text/markdown": [
       "1. 'glm'\n",
       "2. 'lm'\n",
       "\n",
       "\n"
      ],
      "text/plain": [
       "[1] \"glm\" \"lm\" "
      ]
     },
     "metadata": {},
     "output_type": "display_data"
    }
   ],
   "source": [
    "class(logit0)"
   ]
  },
  {
   "cell_type": "code",
   "execution_count": 14,
   "id": "c71bafcb",
   "metadata": {},
   "outputs": [],
   "source": [
    "#Hacer las observaciones pronósticadas (y gorrito)\n",
    "df1$fit_logodds=predict(logit0,list(df1$Hours),type='term')\n",
    "df1$fit_prob=predict(logit0,list(df1$Hours),type='response')"
   ]
  },
  {
   "cell_type": "code",
   "execution_count": 15,
   "id": "e1ac5f31",
   "metadata": {},
   "outputs": [
    {
     "data": {
      "text/html": [
       "'D:/PythonSSD'"
      ],
      "text/latex": [
       "'D:/PythonSSD'"
      ],
      "text/markdown": [
       "'D:/PythonSSD'"
      ],
      "text/plain": [
       "[1] \"D:/PythonSSD\""
      ]
     },
     "metadata": {},
     "output_type": "display_data"
    }
   ],
   "source": [
    "getwd()"
   ]
  },
  {
   "cell_type": "code",
   "execution_count": null,
   "id": "a0089363",
   "metadata": {},
   "outputs": [],
   "source": []
  },
  {
   "cell_type": "code",
   "execution_count": 16,
   "id": "6cd34156",
   "metadata": {},
   "outputs": [
    {
     "data": {
      "text/html": [
       "<table class=\"dataframe\">\n",
       "<caption>A data.frame: 20 × 4</caption>\n",
       "<thead>\n",
       "\t<tr><th scope=col>Hours</th><th scope=col>Pass</th><th scope=col>fit_logodds</th><th scope=col>fit_prob</th></tr>\n",
       "\t<tr><th scope=col>&lt;dbl&gt;</th><th scope=col>&lt;dbl&gt;</th><th scope=col>&lt;dbl[,1]&gt;</th><th scope=col>&lt;dbl&gt;</th></tr>\n",
       "</thead>\n",
       "<tbody>\n",
       "\t<tr><td>0.50</td><td>0</td><td>-3.4418764</td><td>0.03471034</td></tr>\n",
       "\t<tr><td>0.75</td><td>0</td><td>-3.0657151</td><td>0.04977295</td></tr>\n",
       "\t<tr><td>1.00</td><td>0</td><td>-2.6895537</td><td>0.07089196</td></tr>\n",
       "\t<tr><td>1.25</td><td>0</td><td>-2.3133923</td><td>0.10002862</td></tr>\n",
       "\t<tr><td>1.50</td><td>0</td><td>-1.9372310</td><td>0.13934447</td></tr>\n",
       "\t<tr><td>1.75</td><td>0</td><td>-1.5610696</td><td>0.19083650</td></tr>\n",
       "\t<tr><td>1.75</td><td>1</td><td>-1.5610696</td><td>0.19083650</td></tr>\n",
       "\t<tr><td>2.00</td><td>0</td><td>-1.1849083</td><td>0.25570318</td></tr>\n",
       "\t<tr><td>2.25</td><td>1</td><td>-0.8087469</td><td>0.33353024</td></tr>\n",
       "\t<tr><td>2.50</td><td>0</td><td>-0.4325856</td><td>0.42162653</td></tr>\n",
       "\t<tr><td>2.75</td><td>1</td><td>-0.0564242</td><td>0.51501086</td></tr>\n",
       "\t<tr><td>3.00</td><td>0</td><td> 0.3197372</td><td>0.60735865</td></tr>\n",
       "\t<tr><td>3.25</td><td>1</td><td> 0.6958985</td><td>0.69261733</td></tr>\n",
       "\t<tr><td>3.50</td><td>0</td><td> 1.0720599</td><td>0.76648084</td></tr>\n",
       "\t<tr><td>4.00</td><td>1</td><td> 1.8243826</td><td>0.87444750</td></tr>\n",
       "\t<tr><td>4.25</td><td>1</td><td> 2.2005439</td><td>0.91027764</td></tr>\n",
       "\t<tr><td>4.50</td><td>1</td><td> 2.5767053</td><td>0.93662366</td></tr>\n",
       "\t<tr><td>4.75</td><td>1</td><td> 2.9528667</td><td>0.95561071</td></tr>\n",
       "\t<tr><td>5.00</td><td>1</td><td> 3.3290280</td><td>0.96909707</td></tr>\n",
       "\t<tr><td>5.50</td><td>1</td><td> 4.0813507</td><td>0.98519444</td></tr>\n",
       "</tbody>\n",
       "</table>\n"
      ],
      "text/latex": [
       "A data.frame: 20 × 4\n",
       "\\begin{tabular}{llll}\n",
       " Hours & Pass & fit\\_logodds & fit\\_prob\\\\\n",
       " <dbl> & <dbl> & <dbl{[},1{]}> & <dbl>\\\\\n",
       "\\hline\n",
       "\t 0.50 & 0 & -3.4418764 & 0.03471034\\\\\n",
       "\t 0.75 & 0 & -3.0657151 & 0.04977295\\\\\n",
       "\t 1.00 & 0 & -2.6895537 & 0.07089196\\\\\n",
       "\t 1.25 & 0 & -2.3133923 & 0.10002862\\\\\n",
       "\t 1.50 & 0 & -1.9372310 & 0.13934447\\\\\n",
       "\t 1.75 & 0 & -1.5610696 & 0.19083650\\\\\n",
       "\t 1.75 & 1 & -1.5610696 & 0.19083650\\\\\n",
       "\t 2.00 & 0 & -1.1849083 & 0.25570318\\\\\n",
       "\t 2.25 & 1 & -0.8087469 & 0.33353024\\\\\n",
       "\t 2.50 & 0 & -0.4325856 & 0.42162653\\\\\n",
       "\t 2.75 & 1 & -0.0564242 & 0.51501086\\\\\n",
       "\t 3.00 & 0 &  0.3197372 & 0.60735865\\\\\n",
       "\t 3.25 & 1 &  0.6958985 & 0.69261733\\\\\n",
       "\t 3.50 & 0 &  1.0720599 & 0.76648084\\\\\n",
       "\t 4.00 & 1 &  1.8243826 & 0.87444750\\\\\n",
       "\t 4.25 & 1 &  2.2005439 & 0.91027764\\\\\n",
       "\t 4.50 & 1 &  2.5767053 & 0.93662366\\\\\n",
       "\t 4.75 & 1 &  2.9528667 & 0.95561071\\\\\n",
       "\t 5.00 & 1 &  3.3290280 & 0.96909707\\\\\n",
       "\t 5.50 & 1 &  4.0813507 & 0.98519444\\\\\n",
       "\\end{tabular}\n"
      ],
      "text/markdown": [
       "\n",
       "A data.frame: 20 × 4\n",
       "\n",
       "| Hours &lt;dbl&gt; | Pass &lt;dbl&gt; | fit_logodds &lt;dbl[,1]&gt; | fit_prob &lt;dbl&gt; |\n",
       "|---|---|---|---|\n",
       "| 0.50 | 0 | -3.4418764 | 0.03471034 |\n",
       "| 0.75 | 0 | -3.0657151 | 0.04977295 |\n",
       "| 1.00 | 0 | -2.6895537 | 0.07089196 |\n",
       "| 1.25 | 0 | -2.3133923 | 0.10002862 |\n",
       "| 1.50 | 0 | -1.9372310 | 0.13934447 |\n",
       "| 1.75 | 0 | -1.5610696 | 0.19083650 |\n",
       "| 1.75 | 1 | -1.5610696 | 0.19083650 |\n",
       "| 2.00 | 0 | -1.1849083 | 0.25570318 |\n",
       "| 2.25 | 1 | -0.8087469 | 0.33353024 |\n",
       "| 2.50 | 0 | -0.4325856 | 0.42162653 |\n",
       "| 2.75 | 1 | -0.0564242 | 0.51501086 |\n",
       "| 3.00 | 0 |  0.3197372 | 0.60735865 |\n",
       "| 3.25 | 1 |  0.6958985 | 0.69261733 |\n",
       "| 3.50 | 0 |  1.0720599 | 0.76648084 |\n",
       "| 4.00 | 1 |  1.8243826 | 0.87444750 |\n",
       "| 4.25 | 1 |  2.2005439 | 0.91027764 |\n",
       "| 4.50 | 1 |  2.5767053 | 0.93662366 |\n",
       "| 4.75 | 1 |  2.9528667 | 0.95561071 |\n",
       "| 5.00 | 1 |  3.3290280 | 0.96909707 |\n",
       "| 5.50 | 1 |  4.0813507 | 0.98519444 |\n",
       "\n"
      ],
      "text/plain": [
       "   Hours Pass fit_logodds fit_prob  \n",
       "1  0.50  0    -3.4418764  0.03471034\n",
       "2  0.75  0    -3.0657151  0.04977295\n",
       "3  1.00  0    -2.6895537  0.07089196\n",
       "4  1.25  0    -2.3133923  0.10002862\n",
       "5  1.50  0    -1.9372310  0.13934447\n",
       "6  1.75  0    -1.5610696  0.19083650\n",
       "7  1.75  1    -1.5610696  0.19083650\n",
       "8  2.00  0    -1.1849083  0.25570318\n",
       "9  2.25  1    -0.8087469  0.33353024\n",
       "10 2.50  0    -0.4325856  0.42162653\n",
       "11 2.75  1    -0.0564242  0.51501086\n",
       "12 3.00  0     0.3197372  0.60735865\n",
       "13 3.25  1     0.6958985  0.69261733\n",
       "14 3.50  0     1.0720599  0.76648084\n",
       "15 4.00  1     1.8243826  0.87444750\n",
       "16 4.25  1     2.2005439  0.91027764\n",
       "17 4.50  1     2.5767053  0.93662366\n",
       "18 4.75  1     2.9528667  0.95561071\n",
       "19 5.00  1     3.3290280  0.96909707\n",
       "20 5.50  1     4.0813507  0.98519444"
      ]
     },
     "metadata": {},
     "output_type": "display_data"
    }
   ],
   "source": [
    "df1\n",
    "write.csv(df1,'logistica.csv')"
   ]
  },
  {
   "cell_type": "code",
   "execution_count": 17,
   "id": "76b87e4a",
   "metadata": {},
   "outputs": [
    {
     "data": {
      "text/html": [
       "<table class=\"dataframe\">\n",
       "<caption>A data.frame: 10 × 5</caption>\n",
       "<thead>\n",
       "\t<tr><th></th><th scope=col>Hours</th><th scope=col>Pass</th><th scope=col>fit_logodds</th><th scope=col>fit_prob</th><th scope=col>pass_pred</th></tr>\n",
       "\t<tr><th></th><th scope=col>&lt;dbl&gt;</th><th scope=col>&lt;dbl&gt;</th><th scope=col>&lt;dbl[,1]&gt;</th><th scope=col>&lt;dbl&gt;</th><th scope=col>&lt;dbl&gt;</th></tr>\n",
       "</thead>\n",
       "<tbody>\n",
       "\t<tr><th scope=row>1</th><td>0.50</td><td>0</td><td>-3.4418764</td><td>0.03471034</td><td>0</td></tr>\n",
       "\t<tr><th scope=row>2</th><td>0.75</td><td>0</td><td>-3.0657151</td><td>0.04977295</td><td>0</td></tr>\n",
       "\t<tr><th scope=row>3</th><td>1.00</td><td>0</td><td>-2.6895537</td><td>0.07089196</td><td>0</td></tr>\n",
       "\t<tr><th scope=row>4</th><td>1.25</td><td>0</td><td>-2.3133923</td><td>0.10002862</td><td>0</td></tr>\n",
       "\t<tr><th scope=row>5</th><td>1.50</td><td>0</td><td>-1.9372310</td><td>0.13934447</td><td>0</td></tr>\n",
       "\t<tr><th scope=row>6</th><td>1.75</td><td>0</td><td>-1.5610696</td><td>0.19083650</td><td>0</td></tr>\n",
       "\t<tr><th scope=row>7</th><td>1.75</td><td>1</td><td>-1.5610696</td><td>0.19083650</td><td>0</td></tr>\n",
       "\t<tr><th scope=row>8</th><td>2.00</td><td>0</td><td>-1.1849083</td><td>0.25570318</td><td>0</td></tr>\n",
       "\t<tr><th scope=row>9</th><td>2.25</td><td>1</td><td>-0.8087469</td><td>0.33353024</td><td>0</td></tr>\n",
       "\t<tr><th scope=row>10</th><td>2.50</td><td>0</td><td>-0.4325856</td><td>0.42162653</td><td>0</td></tr>\n",
       "</tbody>\n",
       "</table>\n"
      ],
      "text/latex": [
       "A data.frame: 10 × 5\n",
       "\\begin{tabular}{r|lllll}\n",
       "  & Hours & Pass & fit\\_logodds & fit\\_prob & pass\\_pred\\\\\n",
       "  & <dbl> & <dbl> & <dbl{[},1{]}> & <dbl> & <dbl>\\\\\n",
       "\\hline\n",
       "\t1 & 0.50 & 0 & -3.4418764 & 0.03471034 & 0\\\\\n",
       "\t2 & 0.75 & 0 & -3.0657151 & 0.04977295 & 0\\\\\n",
       "\t3 & 1.00 & 0 & -2.6895537 & 0.07089196 & 0\\\\\n",
       "\t4 & 1.25 & 0 & -2.3133923 & 0.10002862 & 0\\\\\n",
       "\t5 & 1.50 & 0 & -1.9372310 & 0.13934447 & 0\\\\\n",
       "\t6 & 1.75 & 0 & -1.5610696 & 0.19083650 & 0\\\\\n",
       "\t7 & 1.75 & 1 & -1.5610696 & 0.19083650 & 0\\\\\n",
       "\t8 & 2.00 & 0 & -1.1849083 & 0.25570318 & 0\\\\\n",
       "\t9 & 2.25 & 1 & -0.8087469 & 0.33353024 & 0\\\\\n",
       "\t10 & 2.50 & 0 & -0.4325856 & 0.42162653 & 0\\\\\n",
       "\\end{tabular}\n"
      ],
      "text/markdown": [
       "\n",
       "A data.frame: 10 × 5\n",
       "\n",
       "| <!--/--> | Hours &lt;dbl&gt; | Pass &lt;dbl&gt; | fit_logodds &lt;dbl[,1]&gt; | fit_prob &lt;dbl&gt; | pass_pred &lt;dbl&gt; |\n",
       "|---|---|---|---|---|---|\n",
       "| 1 | 0.50 | 0 | -3.4418764 | 0.03471034 | 0 |\n",
       "| 2 | 0.75 | 0 | -3.0657151 | 0.04977295 | 0 |\n",
       "| 3 | 1.00 | 0 | -2.6895537 | 0.07089196 | 0 |\n",
       "| 4 | 1.25 | 0 | -2.3133923 | 0.10002862 | 0 |\n",
       "| 5 | 1.50 | 0 | -1.9372310 | 0.13934447 | 0 |\n",
       "| 6 | 1.75 | 0 | -1.5610696 | 0.19083650 | 0 |\n",
       "| 7 | 1.75 | 1 | -1.5610696 | 0.19083650 | 0 |\n",
       "| 8 | 2.00 | 0 | -1.1849083 | 0.25570318 | 0 |\n",
       "| 9 | 2.25 | 1 | -0.8087469 | 0.33353024 | 0 |\n",
       "| 10 | 2.50 | 0 | -0.4325856 | 0.42162653 | 0 |\n",
       "\n"
      ],
      "text/plain": [
       "   Hours Pass fit_logodds fit_prob   pass_pred\n",
       "1  0.50  0    -3.4418764  0.03471034 0        \n",
       "2  0.75  0    -3.0657151  0.04977295 0        \n",
       "3  1.00  0    -2.6895537  0.07089196 0        \n",
       "4  1.25  0    -2.3133923  0.10002862 0        \n",
       "5  1.50  0    -1.9372310  0.13934447 0        \n",
       "6  1.75  0    -1.5610696  0.19083650 0        \n",
       "7  1.75  1    -1.5610696  0.19083650 0        \n",
       "8  2.00  0    -1.1849083  0.25570318 0        \n",
       "9  2.25  1    -0.8087469  0.33353024 0        \n",
       "10 2.50  0    -0.4325856  0.42162653 0        "
      ]
     },
     "metadata": {},
     "output_type": "display_data"
    }
   ],
   "source": [
    "df1$pass_pred=ifelse(df1$fit_prob<0.5,0,1)\n",
    "head(df1,10)"
   ]
  },
  {
   "cell_type": "code",
   "execution_count": 18,
   "id": "599a40fe",
   "metadata": {},
   "outputs": [
    {
     "data": {
      "image/png": "[encoded data removed]",
      "text/plain": [
       "Plot with title \"Normal Q-Q Plot\""
      ]
     },
     "metadata": {
      "image/png": {
       "height": 420,
       "width": 420
      }
     },
     "output_type": "display_data"
    }
   ],
   "source": [
    "#Ayuda visual de los residuos\n",
    "layout(matrix(c(1,1,2,3),2,2,byrow=T)) #matriz para layout\n",
    "plot(logit0$resid~df1$Pass[order(df1$Pass)],\n",
    " main=\"Predict x Residuals\\nfor Simple Regression\",\n",
    " xlab=\"Predict\", ylab=\"Residuals\")\n",
    "abline(h=0,lty=2)\n",
    "#Histogram of Residuals\n",
    "hist(logit0$resid, main=\"Histogram of Residuals\",\n",
    " ylab=\"Residuals\")\n",
    "#Q-Q Plot\n",
    "qqnorm(logit0$resid)\n",
    "qqline(logit0$resid)"
   ]
  },
  {
   "cell_type": "code",
   "execution_count": 19,
   "id": "5ee63888",
   "metadata": {},
   "outputs": [
    {
     "data": {
      "text/html": [
       "11.6661302937085"
      ],
      "text/latex": [
       "11.6661302937085"
      ],
      "text/markdown": [
       "11.6661302937085"
      ],
      "text/plain": [
       "[1] 11.66613"
      ]
     },
     "metadata": {},
     "output_type": "display_data"
    }
   ],
   "source": [
    "#Deviance\n",
    "with(logit0,null.deviance-deviance)"
   ]
  },
  {
   "cell_type": "code",
   "execution_count": 20,
   "id": "a1225a7e",
   "metadata": {},
   "outputs": [
    {
     "data": {
      "text/html": [
       "1"
      ],
      "text/latex": [
       "1"
      ],
      "text/markdown": [
       "1"
      ],
      "text/plain": [
       "[1] 1"
      ]
     },
     "metadata": {},
     "output_type": "display_data"
    }
   ],
   "source": [
    "with(logit0,df.null-df.residual)"
   ]
  },
  {
   "cell_type": "code",
   "execution_count": 21,
   "id": "8097718e",
   "metadata": {},
   "outputs": [
    {
     "data": {
      "text/html": [
       "0.000636482618521712"
      ],
      "text/latex": [
       "0.000636482618521712"
      ],
      "text/markdown": [
       "0.000636482618521712"
      ],
      "text/plain": [
       "[1] 0.0006364826"
      ]
     },
     "metadata": {},
     "output_type": "display_data"
    }
   ],
   "source": [
    "with(logit0,pchisq(null.deviance-deviance,df.null-df.residual,lower.tail=FALSE))"
   ]
  },
  {
   "cell_type": "code",
   "execution_count": 22,
   "id": "dcdcaef6",
   "metadata": {},
   "outputs": [],
   "source": [
    "#library(lmtest)"
   ]
  },
  {
   "cell_type": "code",
   "execution_count": 23,
   "id": "935b6928",
   "metadata": {},
   "outputs": [
    {
     "data": {
      "text/plain": [
       "\n",
       "Call:\n",
       "glm(formula = Pass ~ 1, family = \"binomial\", data = df1)\n",
       "\n",
       "Deviance Residuals: \n",
       "   Min      1Q  Median      3Q     Max  \n",
       "-1.177  -1.177   0.000   1.177   1.177  \n",
       "\n",
       "Coefficients:\n",
       "              Estimate Std. Error z value Pr(>|z|)\n",
       "(Intercept) -9.930e-17  4.472e-01       0        1\n",
       "\n",
       "(Dispersion parameter for binomial family taken to be 1)\n",
       "\n",
       "    Null deviance: 27.726  on 19  degrees of freedom\n",
       "Residual deviance: 27.726  on 19  degrees of freedom\n",
       "AIC: 29.726\n",
       "\n",
       "Number of Fisher Scoring iterations: 2\n"
      ]
     },
     "metadata": {},
     "output_type": "display_data"
    }
   ],
   "source": [
    "logit00=glm(Pass~1,data=df1,family='binomial') #modelo nulo\n",
    "summary(logit00)"
   ]
  },
  {
   "cell_type": "code",
   "execution_count": 24,
   "id": "3bfe9eb5",
   "metadata": {},
   "outputs": [
    {
     "data": {
      "text/html": [
       "<table class=\"dataframe\">\n",
       "<caption>A anova: 2 × 5</caption>\n",
       "<thead>\n",
       "\t<tr><th></th><th scope=col>#Df</th><th scope=col>LogLik</th><th scope=col>Df</th><th scope=col>Chisq</th><th scope=col>Pr(&gt;Chisq)</th></tr>\n",
       "\t<tr><th></th><th scope=col>&lt;dbl&gt;</th><th scope=col>&lt;dbl&gt;</th><th scope=col>&lt;dbl&gt;</th><th scope=col>&lt;dbl&gt;</th><th scope=col>&lt;dbl&gt;</th></tr>\n",
       "</thead>\n",
       "<tbody>\n",
       "\t<tr><th scope=row>1</th><td>2</td><td> -8.029878</td><td>NA</td><td>      NA</td><td>          NA</td></tr>\n",
       "\t<tr><th scope=row>2</th><td>1</td><td>-13.862944</td><td>-1</td><td>11.66613</td><td>0.0006364826</td></tr>\n",
       "</tbody>\n",
       "</table>\n"
      ],
      "text/latex": [
       "A anova: 2 × 5\n",
       "\\begin{tabular}{r|lllll}\n",
       "  & \\#Df & LogLik & Df & Chisq & Pr(>Chisq)\\\\\n",
       "  & <dbl> & <dbl> & <dbl> & <dbl> & <dbl>\\\\\n",
       "\\hline\n",
       "\t1 & 2 &  -8.029878 & NA &       NA &           NA\\\\\n",
       "\t2 & 1 & -13.862944 & -1 & 11.66613 & 0.0006364826\\\\\n",
       "\\end{tabular}\n"
      ],
      "text/markdown": [
       "\n",
       "A anova: 2 × 5\n",
       "\n",
       "| <!--/--> | #Df &lt;dbl&gt; | LogLik &lt;dbl&gt; | Df &lt;dbl&gt; | Chisq &lt;dbl&gt; | Pr(&gt;Chisq) &lt;dbl&gt; |\n",
       "|---|---|---|---|---|---|\n",
       "| 1 | 2 |  -8.029878 | NA |       NA |           NA |\n",
       "| 2 | 1 | -13.862944 | -1 | 11.66613 | 0.0006364826 |\n",
       "\n"
      ],
      "text/plain": [
       "  #Df LogLik     Df Chisq    Pr(>Chisq)  \n",
       "1 2    -8.029878 NA       NA           NA\n",
       "2 1   -13.862944 -1 11.66613 0.0006364826"
      ]
     },
     "metadata": {},
     "output_type": "display_data"
    }
   ],
   "source": [
    "lrtest(logit0,logit00)"
   ]
  },
  {
   "cell_type": "code",
   "execution_count": 25,
   "id": "a02b7567",
   "metadata": {},
   "outputs": [
    {
     "data": {
      "text/plain": [
       "'log Lik.' -8.029878 (df=2)"
      ]
     },
     "metadata": {},
     "output_type": "display_data"
    }
   ],
   "source": [
    "logLik(logit0)"
   ]
  },
  {
   "cell_type": "markdown",
   "id": "ca939417",
   "metadata": {},
   "source": [
    "## Ejercicio 2\n",
    "\n",
    "A researcher is interested in how variables, such as GRE (Graduate Record Exam scores), GPA (grade point average) and prestige of the undergraduate institution, effect admission into graduate school. The response variable, admit/don’t admit, is a binary variable.\n",
    "\n",
    "### Tarea: Construir un modelo de regresión logística para este ejemplo\n"
   ]
  },
  {
   "cell_type": "code",
   "execution_count": 26,
   "id": "6bd64804",
   "metadata": {},
   "outputs": [
    {
     "data": {
      "text/html": [
       "<table class=\"dataframe\">\n",
       "<caption>A data.frame: 10 × 4</caption>\n",
       "<thead>\n",
       "\t<tr><th></th><th scope=col>admit</th><th scope=col>gre</th><th scope=col>gpa</th><th scope=col>rank</th></tr>\n",
       "\t<tr><th></th><th scope=col>&lt;int&gt;</th><th scope=col>&lt;int&gt;</th><th scope=col>&lt;dbl&gt;</th><th scope=col>&lt;int&gt;</th></tr>\n",
       "</thead>\n",
       "<tbody>\n",
       "\t<tr><th scope=row>391</th><td>1</td><td>800</td><td>3.05</td><td>2</td></tr>\n",
       "\t<tr><th scope=row>392</th><td>1</td><td>660</td><td>3.88</td><td>2</td></tr>\n",
       "\t<tr><th scope=row>393</th><td>1</td><td>600</td><td>3.38</td><td>3</td></tr>\n",
       "\t<tr><th scope=row>394</th><td>1</td><td>620</td><td>3.75</td><td>2</td></tr>\n",
       "\t<tr><th scope=row>395</th><td>1</td><td>460</td><td>3.99</td><td>3</td></tr>\n",
       "\t<tr><th scope=row>396</th><td>0</td><td>620</td><td>4.00</td><td>2</td></tr>\n",
       "\t<tr><th scope=row>397</th><td>0</td><td>560</td><td>3.04</td><td>3</td></tr>\n",
       "\t<tr><th scope=row>398</th><td>0</td><td>460</td><td>2.63</td><td>2</td></tr>\n",
       "\t<tr><th scope=row>399</th><td>0</td><td>700</td><td>3.65</td><td>2</td></tr>\n",
       "\t<tr><th scope=row>400</th><td>0</td><td>600</td><td>3.89</td><td>3</td></tr>\n",
       "</tbody>\n",
       "</table>\n"
      ],
      "text/latex": [
       "A data.frame: 10 × 4\n",
       "\\begin{tabular}{r|llll}\n",
       "  & admit & gre & gpa & rank\\\\\n",
       "  & <int> & <int> & <dbl> & <int>\\\\\n",
       "\\hline\n",
       "\t391 & 1 & 800 & 3.05 & 2\\\\\n",
       "\t392 & 1 & 660 & 3.88 & 2\\\\\n",
       "\t393 & 1 & 600 & 3.38 & 3\\\\\n",
       "\t394 & 1 & 620 & 3.75 & 2\\\\\n",
       "\t395 & 1 & 460 & 3.99 & 3\\\\\n",
       "\t396 & 0 & 620 & 4.00 & 2\\\\\n",
       "\t397 & 0 & 560 & 3.04 & 3\\\\\n",
       "\t398 & 0 & 460 & 2.63 & 2\\\\\n",
       "\t399 & 0 & 700 & 3.65 & 2\\\\\n",
       "\t400 & 0 & 600 & 3.89 & 3\\\\\n",
       "\\end{tabular}\n"
      ],
      "text/markdown": [
       "\n",
       "A data.frame: 10 × 4\n",
       "\n",
       "| <!--/--> | admit &lt;int&gt; | gre &lt;int&gt; | gpa &lt;dbl&gt; | rank &lt;int&gt; |\n",
       "|---|---|---|---|---|\n",
       "| 391 | 1 | 800 | 3.05 | 2 |\n",
       "| 392 | 1 | 660 | 3.88 | 2 |\n",
       "| 393 | 1 | 600 | 3.38 | 3 |\n",
       "| 394 | 1 | 620 | 3.75 | 2 |\n",
       "| 395 | 1 | 460 | 3.99 | 3 |\n",
       "| 396 | 0 | 620 | 4.00 | 2 |\n",
       "| 397 | 0 | 560 | 3.04 | 3 |\n",
       "| 398 | 0 | 460 | 2.63 | 2 |\n",
       "| 399 | 0 | 700 | 3.65 | 2 |\n",
       "| 400 | 0 | 600 | 3.89 | 3 |\n",
       "\n"
      ],
      "text/plain": [
       "    admit gre gpa  rank\n",
       "391 1     800 3.05 2   \n",
       "392 1     660 3.88 2   \n",
       "393 1     600 3.38 3   \n",
       "394 1     620 3.75 2   \n",
       "395 1     460 3.99 3   \n",
       "396 0     620 4.00 2   \n",
       "397 0     560 3.04 3   \n",
       "398 0     460 2.63 2   \n",
       "399 0     700 3.65 2   \n",
       "400 0     600 3.89 3   "
      ]
     },
     "metadata": {},
     "output_type": "display_data"
    }
   ],
   "source": [
    "admission<-read.csv(\"https://stats.idre.ucla.edu/stat/data/binary.csv\")\n",
    "tail(admission,10)"
   ]
  },
  {
   "cell_type": "code",
   "execution_count": 27,
   "id": "92851f34",
   "metadata": {},
   "outputs": [
    {
     "data": {
      "text/plain": [
       "     admit             gre             gpa             rank      \n",
       " Min.   :0.0000   Min.   :220.0   Min.   :2.260   Min.   :1.000  \n",
       " 1st Qu.:0.0000   1st Qu.:520.0   1st Qu.:3.130   1st Qu.:2.000  \n",
       " Median :0.0000   Median :580.0   Median :3.395   Median :2.000  \n",
       " Mean   :0.3175   Mean   :587.7   Mean   :3.390   Mean   :2.485  \n",
       " 3rd Qu.:1.0000   3rd Qu.:660.0   3rd Qu.:3.670   3rd Qu.:3.000  \n",
       " Max.   :1.0000   Max.   :800.0   Max.   :4.000   Max.   :4.000  "
      ]
     },
     "metadata": {},
     "output_type": "display_data"
    }
   ],
   "source": [
    "summary(admission)"
   ]
  },
  {
   "cell_type": "code",
   "execution_count": 28,
   "id": "38f7170d",
   "metadata": {},
   "outputs": [
    {
     "data": {
      "text/html": [
       "<style>\n",
       ".dl-inline {width: auto; margin:0; padding: 0}\n",
       ".dl-inline>dt, .dl-inline>dd {float: none; width: auto; display: inline-block}\n",
       ".dl-inline>dt::after {content: \":\\0020\"; padding-right: .5ex}\n",
       ".dl-inline>dt:not(:first-of-type) {padding-left: .5ex}\n",
       "</style><dl class=dl-inline><dt>admit</dt><dd>0.3175</dd><dt>gre</dt><dd>587.7</dd><dt>gpa</dt><dd>3.3899</dd><dt>rank</dt><dd>2.485</dd></dl>\n"
      ],
      "text/latex": [
       "\\begin{description*}\n",
       "\\item[admit] 0.3175\n",
       "\\item[gre] 587.7\n",
       "\\item[gpa] 3.3899\n",
       "\\item[rank] 2.485\n",
       "\\end{description*}\n"
      ],
      "text/markdown": [
       "admit\n",
       ":   0.3175gre\n",
       ":   587.7gpa\n",
       ":   3.3899rank\n",
       ":   2.485\n",
       "\n"
      ],
      "text/plain": [
       "   admit      gre      gpa     rank \n",
       "  0.3175 587.7000   3.3899   2.4850 "
      ]
     },
     "metadata": {},
     "output_type": "display_data"
    }
   ],
   "source": [
    "sapply(admission,mean) #apply(mydata,2,mean)"
   ]
  },
  {
   "cell_type": "code",
   "execution_count": 29,
   "id": "e2cfaac8",
   "metadata": {},
   "outputs": [
    {
     "data": {
      "text/html": [
       "<style>\n",
       ".dl-inline {width: auto; margin:0; padding: 0}\n",
       ".dl-inline>dt, .dl-inline>dd {float: none; width: auto; display: inline-block}\n",
       ".dl-inline>dt::after {content: \":\\0020\"; padding-right: .5ex}\n",
       ".dl-inline>dt:not(:first-of-type) {padding-left: .5ex}\n",
       "</style><dl class=dl-inline><dt>admit</dt><dd>0.3175</dd><dt>gre</dt><dd>587.7</dd><dt>gpa</dt><dd>3.3899</dd><dt>rank</dt><dd>2.485</dd></dl>\n"
      ],
      "text/latex": [
       "\\begin{description*}\n",
       "\\item[admit] 0.3175\n",
       "\\item[gre] 587.7\n",
       "\\item[gpa] 3.3899\n",
       "\\item[rank] 2.485\n",
       "\\end{description*}\n"
      ],
      "text/markdown": [
       "admit\n",
       ":   0.3175gre\n",
       ":   587.7gpa\n",
       ":   3.3899rank\n",
       ":   2.485\n",
       "\n"
      ],
      "text/plain": [
       "   admit      gre      gpa     rank \n",
       "  0.3175 587.7000   3.3899   2.4850 "
      ]
     },
     "metadata": {},
     "output_type": "display_data"
    }
   ],
   "source": [
    "apply(admission,2,mean)"
   ]
  },
  {
   "cell_type": "code",
   "execution_count": 30,
   "id": "c25a32e1",
   "metadata": {},
   "outputs": [
    {
     "name": "stdout",
     "output_type": "stream",
     "text": [
      "[1] 587.7\n",
      "[1] 3.3899\n"
     ]
    }
   ],
   "source": [
    "#admit_count=count(as.factor(admission$admit)) #algo tan básico como contar lo hace complejo\n",
    "gre_mean=mean(admission$gre)\n",
    "gpa_mean=mean(admission$gpa)\n",
    "print(gre_mean)\n",
    "print(gpa_mean)"
   ]
  },
  {
   "cell_type": "code",
   "execution_count": 31,
   "id": "7c0c73ec",
   "metadata": {},
   "outputs": [
    {
     "data": {
      "text/plain": [
       "\n",
       "  0   1 \n",
       "273 127 "
      ]
     },
     "metadata": {},
     "output_type": "display_data"
    }
   ],
   "source": [
    "#Algo tan sencillo como contar, en ocasiones puede ser complejo en R\n",
    "admit_count=table(admission$admit)\n",
    "admit_count"
   ]
  },
  {
   "cell_type": "code",
   "execution_count": 32,
   "id": "b60f92e5",
   "metadata": {},
   "outputs": [
    {
     "name": "stdout",
     "output_type": "stream",
     "text": [
      "'data.frame':\t400 obs. of  4 variables:\n",
      " $ admit: int  0 1 1 1 0 1 1 0 1 0 ...\n",
      " $ gre  : int  380 660 800 640 520 760 560 400 540 700 ...\n",
      " $ gpa  : num  3.61 3.67 4 3.19 2.93 3 2.98 3.08 3.39 3.92 ...\n",
      " $ rank : int  3 3 1 4 4 2 1 2 3 2 ...\n"
     ]
    }
   ],
   "source": [
    "str(admission)"
   ]
  },
  {
   "cell_type": "code",
   "execution_count": 33,
   "id": "0649125c",
   "metadata": {},
   "outputs": [
    {
     "data": {
      "text/plain": [
       "\n",
       "     0      1 \n",
       "0.6825 0.3175 "
      ]
     },
     "metadata": {},
     "output_type": "display_data"
    }
   ],
   "source": [
    "#En términos relativos (%)\n",
    "admit_count/length(admission$admit) #Datos desbalanceados"
   ]
  },
  {
   "cell_type": "markdown",
   "id": "60e5548a",
   "metadata": {},
   "source": [
    "### Tarea: Hacer una gráfica de barras respecto admit_cout"
   ]
  },
  {
   "cell_type": "markdown",
   "id": "d935928b",
   "metadata": {},
   "source": [
    "Estamos observando que nuestros datos están desbalanceados, el método usado pronosticará con sobreajuste la clase mayoritaría, realmente no es lo mejor. **Tarea: Investigar como tratar datos desbalanceados** "
   ]
  },
  {
   "cell_type": "code",
   "execution_count": 34,
   "id": "6c77db87",
   "metadata": {},
   "outputs": [
    {
     "data": {
      "text/plain": [
       "\n",
       "     1      2      3      4 \n",
       "0.1525 0.3775 0.3025 0.1675 "
      ]
     },
     "metadata": {},
     "output_type": "display_data"
    }
   ],
   "source": [
    "rank_count=table(admission$rank)/length(admission$rank)\n",
    "rank_count\n",
    "#¿Qué tipo de variable es rank? Es una variable cualitativa multi-ordinal\n",
    "#Este tipo de variables juegan un papel muy importante GLM, desde su interpretación hasta peso."
   ]
  },
  {
   "cell_type": "code",
   "execution_count": 36,
   "id": "670b8e70",
   "metadata": {},
   "outputs": [
    {
     "name": "stderr",
     "output_type": "stream",
     "text": [
      "Warning message:\n",
      "\"package 'dplyr' was built under R version 4.0.5\"\n",
      "\n",
      "Attaching package: 'dplyr'\n",
      "\n",
      "\n",
      "The following objects are masked from 'package:stats':\n",
      "\n",
      "    filter, lag\n",
      "\n",
      "\n",
      "The following objects are masked from 'package:base':\n",
      "\n",
      "    intersect, setdiff, setequal, union\n",
      "\n",
      "\n",
      "`summarise()` has grouped output by 'admit'. You can override using the `.groups` argument.\n",
      "\n"
     ]
    },
    {
     "data": {
      "text/html": [
       "<table class=\"dataframe\">\n",
       "<caption>A grouped_df: 8 × 5</caption>\n",
       "<thead>\n",
       "\t<tr><th scope=col>admit</th><th scope=col>rank</th><th scope=col>count_rank</th><th scope=col>mean_gre</th><th scope=col>mean_gpa</th></tr>\n",
       "\t<tr><th scope=col>&lt;int&gt;</th><th scope=col>&lt;int&gt;</th><th scope=col>&lt;int&gt;</th><th scope=col>&lt;dbl&gt;</th><th scope=col>&lt;dbl&gt;</th></tr>\n",
       "</thead>\n",
       "<tbody>\n",
       "\t<tr><td>0</td><td>1</td><td>28</td><td>582.9</td><td>3.3</td></tr>\n",
       "\t<tr><td>0</td><td>2</td><td>97</td><td>586.6</td><td>3.3</td></tr>\n",
       "\t<tr><td>0</td><td>3</td><td>93</td><td>562.4</td><td>3.4</td></tr>\n",
       "\t<tr><td>0</td><td>4</td><td>55</td><td>562.9</td><td>3.3</td></tr>\n",
       "\t<tr><td>1</td><td>1</td><td>33</td><td>636.4</td><td>3.5</td></tr>\n",
       "\t<tr><td>1</td><td>2</td><td>54</td><td>613.0</td><td>3.4</td></tr>\n",
       "\t<tr><td>1</td><td>3</td><td>28</td><td>616.4</td><td>3.5</td></tr>\n",
       "\t<tr><td>1</td><td>4</td><td>12</td><td>603.3</td><td>3.4</td></tr>\n",
       "</tbody>\n",
       "</table>\n"
      ],
      "text/latex": [
       "A grouped\\_df: 8 × 5\n",
       "\\begin{tabular}{lllll}\n",
       " admit & rank & count\\_rank & mean\\_gre & mean\\_gpa\\\\\n",
       " <int> & <int> & <int> & <dbl> & <dbl>\\\\\n",
       "\\hline\n",
       "\t 0 & 1 & 28 & 582.9 & 3.3\\\\\n",
       "\t 0 & 2 & 97 & 586.6 & 3.3\\\\\n",
       "\t 0 & 3 & 93 & 562.4 & 3.4\\\\\n",
       "\t 0 & 4 & 55 & 562.9 & 3.3\\\\\n",
       "\t 1 & 1 & 33 & 636.4 & 3.5\\\\\n",
       "\t 1 & 2 & 54 & 613.0 & 3.4\\\\\n",
       "\t 1 & 3 & 28 & 616.4 & 3.5\\\\\n",
       "\t 1 & 4 & 12 & 603.3 & 3.4\\\\\n",
       "\\end{tabular}\n"
      ],
      "text/markdown": [
       "\n",
       "A grouped_df: 8 × 5\n",
       "\n",
       "| admit &lt;int&gt; | rank &lt;int&gt; | count_rank &lt;int&gt; | mean_gre &lt;dbl&gt; | mean_gpa &lt;dbl&gt; |\n",
       "|---|---|---|---|---|\n",
       "| 0 | 1 | 28 | 582.9 | 3.3 |\n",
       "| 0 | 2 | 97 | 586.6 | 3.3 |\n",
       "| 0 | 3 | 93 | 562.4 | 3.4 |\n",
       "| 0 | 4 | 55 | 562.9 | 3.3 |\n",
       "| 1 | 1 | 33 | 636.4 | 3.5 |\n",
       "| 1 | 2 | 54 | 613.0 | 3.4 |\n",
       "| 1 | 3 | 28 | 616.4 | 3.5 |\n",
       "| 1 | 4 | 12 | 603.3 | 3.4 |\n",
       "\n"
      ],
      "text/plain": [
       "  admit rank count_rank mean_gre mean_gpa\n",
       "1 0     1    28         582.9    3.3     \n",
       "2 0     2    97         586.6    3.3     \n",
       "3 0     3    93         562.4    3.4     \n",
       "4 0     4    55         562.9    3.3     \n",
       "5 1     1    33         636.4    3.5     \n",
       "6 1     2    54         613.0    3.4     \n",
       "7 1     3    28         616.4    3.5     \n",
       "8 1     4    12         603.3    3.4     "
      ]
     },
     "metadata": {},
     "output_type": "display_data"
    }
   ],
   "source": [
    "library(dplyr)\n",
    "\n",
    "admission%>% #operador %>% pipe\n",
    " group_by(admit,rank)%>%\n",
    " summarize(count_rank=n(),\n",
    "           mean_gre=round(mean(gre),1),\n",
    "           mean_gpa=round(mean(gpa),1)) #¿Cómo ponemos rank?"
   ]
  },
  {
   "cell_type": "code",
   "execution_count": 37,
   "id": "faf00516",
   "metadata": {},
   "outputs": [
    {
     "data": {
      "text/html": [
       "<table class=\"dataframe\">\n",
       "<caption>A data.frame: 10 × 8</caption>\n",
       "<thead>\n",
       "\t<tr><th></th><th scope=col>admit</th><th scope=col>gre</th><th scope=col>gpa</th><th scope=col>rank</th><th scope=col>rank_1</th><th scope=col>rank_2</th><th scope=col>rank_3</th><th scope=col>rank_4</th></tr>\n",
       "\t<tr><th></th><th scope=col>&lt;int&gt;</th><th scope=col>&lt;int&gt;</th><th scope=col>&lt;dbl&gt;</th><th scope=col>&lt;int&gt;</th><th scope=col>&lt;dbl&gt;</th><th scope=col>&lt;dbl&gt;</th><th scope=col>&lt;dbl&gt;</th><th scope=col>&lt;dbl&gt;</th></tr>\n",
       "</thead>\n",
       "<tbody>\n",
       "\t<tr><th scope=row>1</th><td>0</td><td>380</td><td>3.61</td><td>3</td><td>0</td><td>0</td><td>1</td><td>0</td></tr>\n",
       "\t<tr><th scope=row>2</th><td>1</td><td>660</td><td>3.67</td><td>3</td><td>0</td><td>0</td><td>1</td><td>0</td></tr>\n",
       "\t<tr><th scope=row>3</th><td>1</td><td>800</td><td>4.00</td><td>1</td><td>1</td><td>0</td><td>0</td><td>0</td></tr>\n",
       "\t<tr><th scope=row>4</th><td>1</td><td>640</td><td>3.19</td><td>4</td><td>0</td><td>0</td><td>0</td><td>1</td></tr>\n",
       "\t<tr><th scope=row>5</th><td>0</td><td>520</td><td>2.93</td><td>4</td><td>0</td><td>0</td><td>0</td><td>1</td></tr>\n",
       "\t<tr><th scope=row>6</th><td>1</td><td>760</td><td>3.00</td><td>2</td><td>0</td><td>1</td><td>0</td><td>0</td></tr>\n",
       "\t<tr><th scope=row>7</th><td>1</td><td>560</td><td>2.98</td><td>1</td><td>1</td><td>0</td><td>0</td><td>0</td></tr>\n",
       "\t<tr><th scope=row>8</th><td>0</td><td>400</td><td>3.08</td><td>2</td><td>0</td><td>1</td><td>0</td><td>0</td></tr>\n",
       "\t<tr><th scope=row>9</th><td>1</td><td>540</td><td>3.39</td><td>3</td><td>0</td><td>0</td><td>1</td><td>0</td></tr>\n",
       "\t<tr><th scope=row>10</th><td>0</td><td>700</td><td>3.92</td><td>2</td><td>0</td><td>1</td><td>0</td><td>0</td></tr>\n",
       "</tbody>\n",
       "</table>\n"
      ],
      "text/latex": [
       "A data.frame: 10 × 8\n",
       "\\begin{tabular}{r|llllllll}\n",
       "  & admit & gre & gpa & rank & rank\\_1 & rank\\_2 & rank\\_3 & rank\\_4\\\\\n",
       "  & <int> & <int> & <dbl> & <int> & <dbl> & <dbl> & <dbl> & <dbl>\\\\\n",
       "\\hline\n",
       "\t1 & 0 & 380 & 3.61 & 3 & 0 & 0 & 1 & 0\\\\\n",
       "\t2 & 1 & 660 & 3.67 & 3 & 0 & 0 & 1 & 0\\\\\n",
       "\t3 & 1 & 800 & 4.00 & 1 & 1 & 0 & 0 & 0\\\\\n",
       "\t4 & 1 & 640 & 3.19 & 4 & 0 & 0 & 0 & 1\\\\\n",
       "\t5 & 0 & 520 & 2.93 & 4 & 0 & 0 & 0 & 1\\\\\n",
       "\t6 & 1 & 760 & 3.00 & 2 & 0 & 1 & 0 & 0\\\\\n",
       "\t7 & 1 & 560 & 2.98 & 1 & 1 & 0 & 0 & 0\\\\\n",
       "\t8 & 0 & 400 & 3.08 & 2 & 0 & 1 & 0 & 0\\\\\n",
       "\t9 & 1 & 540 & 3.39 & 3 & 0 & 0 & 1 & 0\\\\\n",
       "\t10 & 0 & 700 & 3.92 & 2 & 0 & 1 & 0 & 0\\\\\n",
       "\\end{tabular}\n"
      ],
      "text/markdown": [
       "\n",
       "A data.frame: 10 × 8\n",
       "\n",
       "| <!--/--> | admit &lt;int&gt; | gre &lt;int&gt; | gpa &lt;dbl&gt; | rank &lt;int&gt; | rank_1 &lt;dbl&gt; | rank_2 &lt;dbl&gt; | rank_3 &lt;dbl&gt; | rank_4 &lt;dbl&gt; |\n",
       "|---|---|---|---|---|---|---|---|---|\n",
       "| 1 | 0 | 380 | 3.61 | 3 | 0 | 0 | 1 | 0 |\n",
       "| 2 | 1 | 660 | 3.67 | 3 | 0 | 0 | 1 | 0 |\n",
       "| 3 | 1 | 800 | 4.00 | 1 | 1 | 0 | 0 | 0 |\n",
       "| 4 | 1 | 640 | 3.19 | 4 | 0 | 0 | 0 | 1 |\n",
       "| 5 | 0 | 520 | 2.93 | 4 | 0 | 0 | 0 | 1 |\n",
       "| 6 | 1 | 760 | 3.00 | 2 | 0 | 1 | 0 | 0 |\n",
       "| 7 | 1 | 560 | 2.98 | 1 | 1 | 0 | 0 | 0 |\n",
       "| 8 | 0 | 400 | 3.08 | 2 | 0 | 1 | 0 | 0 |\n",
       "| 9 | 1 | 540 | 3.39 | 3 | 0 | 0 | 1 | 0 |\n",
       "| 10 | 0 | 700 | 3.92 | 2 | 0 | 1 | 0 | 0 |\n",
       "\n"
      ],
      "text/plain": [
       "   admit gre gpa  rank rank_1 rank_2 rank_3 rank_4\n",
       "1  0     380 3.61 3    0      0      1      0     \n",
       "2  1     660 3.67 3    0      0      1      0     \n",
       "3  1     800 4.00 1    1      0      0      0     \n",
       "4  1     640 3.19 4    0      0      0      1     \n",
       "5  0     520 2.93 4    0      0      0      1     \n",
       "6  1     760 3.00 2    0      1      0      0     \n",
       "7  1     560 2.98 1    1      0      0      0     \n",
       "8  0     400 3.08 2    0      1      0      0     \n",
       "9  1     540 3.39 3    0      0      1      0     \n",
       "10 0     700 3.92 2    0      1      0      0     "
      ]
     },
     "metadata": {},
     "output_type": "display_data"
    }
   ],
   "source": [
    "#Hacer dummy rank (1:4)...varios paquetes, pero es sencillo con base R\n",
    "admission$rank_1=ifelse(admission$rank==1,1,0)\n",
    "admission$rank_2=ifelse(admission$rank==2,1,0)\n",
    "admission$rank_3=ifelse(admission$rank==3,1,0)\n",
    "admission$rank_4=ifelse(admission$rank==4,1,0) #en teoría no tendríamos que hacer esta dummy, pero\n",
    "\n",
    "\n",
    "head(admission,10)"
   ]
  },
  {
   "cell_type": "markdown",
   "id": "12c87306",
   "metadata": {},
   "source": [
    "### Tarea: Hacer gráficas para ver la distribución de GPA & GRE según ranks y admitidos (diagrama de cajas)"
   ]
  },
  {
   "cell_type": "markdown",
   "id": "12346eb6",
   "metadata": {},
   "source": [
    "Construimos un primer modelo de regresión logística"
   ]
  },
  {
   "cell_type": "code",
   "execution_count": 38,
   "id": "1fb5fb73",
   "metadata": {},
   "outputs": [
    {
     "data": {
      "text/plain": [
       "\n",
       "Call:\n",
       "glm(formula = admit ~ gre + gpa, family = \"binomial\", data = admission)\n",
       "\n",
       "Deviance Residuals: \n",
       "    Min       1Q   Median       3Q      Max  \n",
       "-1.2730  -0.8988  -0.7206   1.3013   2.0620  \n",
       "\n",
       "Coefficients:\n",
       "             Estimate Std. Error z value Pr(>|z|)    \n",
       "(Intercept) -4.949378   1.075093  -4.604 4.15e-06 ***\n",
       "gre          0.002691   0.001057   2.544   0.0109 *  \n",
       "gpa          0.754687   0.319586   2.361   0.0182 *  \n",
       "---\n",
       "Signif. codes:  0 '***' 0.001 '**' 0.01 '*' 0.05 '.' 0.1 ' ' 1\n",
       "\n",
       "(Dispersion parameter for binomial family taken to be 1)\n",
       "\n",
       "    Null deviance: 499.98  on 399  degrees of freedom\n",
       "Residual deviance: 480.34  on 397  degrees of freedom\n",
       "AIC: 486.34\n",
       "\n",
       "Number of Fisher Scoring iterations: 4\n"
      ]
     },
     "metadata": {},
     "output_type": "display_data"
    }
   ],
   "source": [
    "logit1=glm(admit~gre+gpa,data=admission,family='binomial')\n",
    "summary(logit1)"
   ]
  },
  {
   "cell_type": "markdown",
   "id": "e018e4b6",
   "metadata": {},
   "source": [
    "Construimos un segundo modelo de regresión logística, empleando la variable rank como factor, haciendo esto no es necesario construir dummies para esa variable....pero"
   ]
  },
  {
   "cell_type": "code",
   "execution_count": 39,
   "id": "9b078633",
   "metadata": {},
   "outputs": [
    {
     "data": {
      "text/plain": [
       "\n",
       "Call:\n",
       "glm(formula = admit ~ gre + gpa + rank, family = \"binomial\", \n",
       "    data = admission)\n",
       "\n",
       "Deviance Residuals: \n",
       "    Min       1Q   Median       3Q      Max  \n",
       "-1.6268  -0.8662  -0.6388   1.1490   2.0790  \n",
       "\n",
       "Coefficients:\n",
       "             Estimate Std. Error z value Pr(>|z|)    \n",
       "(Intercept) -3.989979   1.139951  -3.500 0.000465 ***\n",
       "gre          0.002264   0.001094   2.070 0.038465 *  \n",
       "gpa          0.804038   0.331819   2.423 0.015388 *  \n",
       "rank2       -0.675443   0.316490  -2.134 0.032829 *  \n",
       "rank3       -1.340204   0.345306  -3.881 0.000104 ***\n",
       "rank4       -1.551464   0.417832  -3.713 0.000205 ***\n",
       "---\n",
       "Signif. codes:  0 '***' 0.001 '**' 0.01 '*' 0.05 '.' 0.1 ' ' 1\n",
       "\n",
       "(Dispersion parameter for binomial family taken to be 1)\n",
       "\n",
       "    Null deviance: 499.98  on 399  degrees of freedom\n",
       "Residual deviance: 458.52  on 394  degrees of freedom\n",
       "AIC: 470.52\n",
       "\n",
       "Number of Fisher Scoring iterations: 4\n"
      ]
     },
     "metadata": {},
     "output_type": "display_data"
    }
   ],
   "source": [
    "admission$rank=as.factor(admission$rank)\n",
    "logit2=glm(admit~gre+gpa+rank,data=admission,family='binomial') #la variable pivote es rango=1\n",
    "summary(logit2)"
   ]
  },
  {
   "cell_type": "markdown",
   "id": "fca4d377",
   "metadata": {},
   "source": [
    "Algunos odd ratio...¿cómo se interpretan en función de rank=1?"
   ]
  },
  {
   "cell_type": "code",
   "execution_count": 40,
   "id": "7dbae90a",
   "metadata": {},
   "outputs": [
    {
     "data": {
      "text/html": [
       "0.508930914266562"
      ],
      "text/latex": [
       "0.508930914266562"
      ],
      "text/markdown": [
       "0.508930914266562"
      ],
      "text/plain": [
       "[1] 0.5089309"
      ]
     },
     "metadata": {},
     "output_type": "display_data"
    }
   ],
   "source": [
    "odd_rank2=exp(-0.675443)\n",
    "odd_rank2"
   ]
  },
  {
   "cell_type": "code",
   "execution_count": 41,
   "id": "11f7d07b",
   "metadata": {},
   "outputs": [
    {
     "data": {
      "text/html": [
       "0.21193747013722"
      ],
      "text/latex": [
       "0.21193747013722"
      ],
      "text/markdown": [
       "0.21193747013722"
      ],
      "text/plain": [
       "[1] 0.2119375"
      ]
     },
     "metadata": {},
     "output_type": "display_data"
    }
   ],
   "source": [
    "odd_rank4=exp(-1.551464)\n",
    "odd_rank4"
   ]
  },
  {
   "cell_type": "markdown",
   "id": "fdf4375c",
   "metadata": {},
   "source": [
    "Ahora emulamos el ejercicio anterior, pero introduciendo nuestras variables dummy, donde rank_1 es la pivote"
   ]
  },
  {
   "cell_type": "code",
   "execution_count": 42,
   "id": "40fd5e16",
   "metadata": {},
   "outputs": [
    {
     "data": {
      "text/plain": [
       "\n",
       "Call:\n",
       "glm(formula = admit ~ gre + gpa + rank_2 + rank_3 + rank_4, family = \"binomial\", \n",
       "    data = admission)\n",
       "\n",
       "Deviance Residuals: \n",
       "    Min       1Q   Median       3Q      Max  \n",
       "-1.6268  -0.8662  -0.6388   1.1490   2.0790  \n",
       "\n",
       "Coefficients:\n",
       "             Estimate Std. Error z value Pr(>|z|)    \n",
       "(Intercept) -3.989979   1.139951  -3.500 0.000465 ***\n",
       "gre          0.002264   0.001094   2.070 0.038465 *  \n",
       "gpa          0.804038   0.331819   2.423 0.015388 *  \n",
       "rank_2      -0.675443   0.316490  -2.134 0.032829 *  \n",
       "rank_3      -1.340204   0.345306  -3.881 0.000104 ***\n",
       "rank_4      -1.551464   0.417832  -3.713 0.000205 ***\n",
       "---\n",
       "Signif. codes:  0 '***' 0.001 '**' 0.01 '*' 0.05 '.' 0.1 ' ' 1\n",
       "\n",
       "(Dispersion parameter for binomial family taken to be 1)\n",
       "\n",
       "    Null deviance: 499.98  on 399  degrees of freedom\n",
       "Residual deviance: 458.52  on 394  degrees of freedom\n",
       "AIC: 470.52\n",
       "\n",
       "Number of Fisher Scoring iterations: 4\n"
      ]
     },
     "metadata": {},
     "output_type": "display_data"
    }
   ],
   "source": [
    "#emulando el ejercicio anterior\n",
    "logit3=glm(admit~gre+gpa+rank_2+rank_3+rank_4,data=admission,family='binomial')\n",
    "summary(logit3)\n",
    "#https://www.theanalysisfactor.com/odds-ratio-categorical-predictor/"
   ]
  },
  {
   "cell_type": "code",
   "execution_count": 43,
   "id": "51d0ba01",
   "metadata": {},
   "outputs": [
    {
     "data": {
      "text/html": [
       "0.21193747013722"
      ],
      "text/latex": [
       "0.21193747013722"
      ],
      "text/markdown": [
       "0.21193747013722"
      ],
      "text/plain": [
       "[1] 0.2119375"
      ]
     },
     "metadata": {},
     "output_type": "display_data"
    }
   ],
   "source": [
    "#Pivote es rango 1\n",
    "odd_rank4=exp(-1.551464)\n",
    "odd_rank4"
   ]
  },
  {
   "cell_type": "markdown",
   "id": "5ba38ce4",
   "metadata": {},
   "source": [
    "¿Qué pasa si en lugar de rank_1, ahora rank_4 es pivote?"
   ]
  },
  {
   "cell_type": "code",
   "execution_count": 44,
   "id": "c4929177",
   "metadata": {},
   "outputs": [
    {
     "data": {
      "text/plain": [
       "\n",
       "Call:\n",
       "glm(formula = admit ~ gre + gpa + rank_1 + rank_2 + rank_3, family = \"binomial\", \n",
       "    data = admission)\n",
       "\n",
       "Deviance Residuals: \n",
       "    Min       1Q   Median       3Q      Max  \n",
       "-1.6268  -0.8662  -0.6388   1.1490   2.0790  \n",
       "\n",
       "Coefficients:\n",
       "             Estimate Std. Error z value Pr(>|z|)    \n",
       "(Intercept) -5.541443   1.138072  -4.869 1.12e-06 ***\n",
       "gre          0.002264   0.001094   2.070 0.038465 *  \n",
       "gpa          0.804038   0.331819   2.423 0.015388 *  \n",
       "rank_1       1.551464   0.417832   3.713 0.000205 ***\n",
       "rank_2       0.876021   0.366735   2.389 0.016908 *  \n",
       "rank_3       0.211260   0.392857   0.538 0.590748    \n",
       "---\n",
       "Signif. codes:  0 '***' 0.001 '**' 0.01 '*' 0.05 '.' 0.1 ' ' 1\n",
       "\n",
       "(Dispersion parameter for binomial family taken to be 1)\n",
       "\n",
       "    Null deviance: 499.98  on 399  degrees of freedom\n",
       "Residual deviance: 458.52  on 394  degrees of freedom\n",
       "AIC: 470.52\n",
       "\n",
       "Number of Fisher Scoring iterations: 4\n"
      ]
     },
     "metadata": {},
     "output_type": "display_data"
    }
   ],
   "source": [
    "#Variable pivote rango=4, contrastando con rango=4\n",
    "logit4=glm(admit~gre+gpa+rank_1+rank_2+rank_3,data=admission,family='binomial')\n",
    "summary(logit4)\n",
    "#https://www.theanalysisfactor.com/odds-ratio-categorical-predictor/"
   ]
  },
  {
   "cell_type": "markdown",
   "id": "bba39036",
   "metadata": {},
   "source": [
    "La interpretación de este odd ratio sería algo como: *'el odd ratio de ser admitido en un programa dado que el postulante viene de un colegio de rank 1 aumenta alrededor de 371.8% en comparación de un postulante que proviene de rank 4'*"
   ]
  },
  {
   "cell_type": "code",
   "execution_count": 45,
   "id": "9cde886b",
   "metadata": {},
   "outputs": [
    {
     "data": {
      "text/html": [
       "4.71837282644048"
      ],
      "text/latex": [
       "4.71837282644048"
      ],
      "text/markdown": [
       "4.71837282644048"
      ],
      "text/plain": [
       "[1] 4.718373"
      ]
     },
     "metadata": {},
     "output_type": "display_data"
    }
   ],
   "source": [
    "odd_rank1=exp(1.551464)\n",
    "odd_rank1"
   ]
  },
  {
   "cell_type": "code",
   "execution_count": 46,
   "id": "947f92e5",
   "metadata": {},
   "outputs": [
    {
     "data": {
      "text/html": [
       "3.71837282644048"
      ],
      "text/latex": [
       "3.71837282644048"
      ],
      "text/markdown": [
       "3.71837282644048"
      ],
      "text/plain": [
       "[1] 3.718373"
      ]
     },
     "metadata": {},
     "output_type": "display_data"
    }
   ],
   "source": [
    "odd_rank1-1"
   ]
  },
  {
   "cell_type": "code",
   "execution_count": 47,
   "id": "4cc1dda6",
   "metadata": {},
   "outputs": [
    {
     "data": {
      "text/html": [
       "2.40132579641086"
      ],
      "text/latex": [
       "2.40132579641086"
      ],
      "text/markdown": [
       "2.40132579641086"
      ],
      "text/plain": [
       "[1] 2.401326"
      ]
     },
     "metadata": {},
     "output_type": "display_data"
    }
   ],
   "source": [
    "odd_rank2=exp(0.876021)\n",
    "odd_rank2"
   ]
  },
  {
   "cell_type": "markdown",
   "id": "daf1da95",
   "metadata": {},
   "source": [
    "Ahora las probabilidades de ser admitido en función del modelo logit3 (rank_1 como pivote)"
   ]
  },
  {
   "cell_type": "code",
   "execution_count": 48,
   "id": "08325609",
   "metadata": {},
   "outputs": [],
   "source": [
    "admission=admission[,(1:8)]"
   ]
  },
  {
   "cell_type": "markdown",
   "id": "835ed83d",
   "metadata": {},
   "source": [
    "Usar la función predict"
   ]
  },
  {
   "cell_type": "code",
   "execution_count": 49,
   "id": "c21d2e95",
   "metadata": {},
   "outputs": [
    {
     "data": {
      "text/html": [
       "<table class=\"dataframe\">\n",
       "<caption>A data.frame: 10 × 10</caption>\n",
       "<thead>\n",
       "\t<tr><th></th><th scope=col>admit</th><th scope=col>gre</th><th scope=col>gpa</th><th scope=col>rank</th><th scope=col>rank_1</th><th scope=col>rank_2</th><th scope=col>rank_3</th><th scope=col>rank_4</th><th scope=col>prob_admit</th><th scope=col>log_odd</th></tr>\n",
       "\t<tr><th></th><th scope=col>&lt;int&gt;</th><th scope=col>&lt;int&gt;</th><th scope=col>&lt;dbl&gt;</th><th scope=col>&lt;fct&gt;</th><th scope=col>&lt;dbl&gt;</th><th scope=col>&lt;dbl&gt;</th><th scope=col>&lt;dbl&gt;</th><th scope=col>&lt;dbl&gt;</th><th scope=col>&lt;dbl&gt;</th><th scope=col>&lt;dbl&gt;</th></tr>\n",
       "</thead>\n",
       "<tbody>\n",
       "\t<tr><th scope=row>1</th><td>0</td><td>380</td><td>3.61</td><td>3</td><td>0</td><td>0</td><td>1</td><td>0</td><td>0.1726265</td><td>-1.56712564</td></tr>\n",
       "\t<tr><th scope=row>2</th><td>1</td><td>660</td><td>3.67</td><td>3</td><td>0</td><td>0</td><td>1</td><td>0</td><td>0.2921750</td><td>-0.88484417</td></tr>\n",
       "\t<tr><th scope=row>3</th><td>1</td><td>800</td><td>4.00</td><td>1</td><td>1</td><td>0</td><td>0</td><td>0</td><td>0.7384082</td><td> 1.03771175</td></tr>\n",
       "\t<tr><th scope=row>4</th><td>1</td><td>640</td><td>3.19</td><td>4</td><td>0</td><td>0</td><td>0</td><td>1</td><td>0.1783846</td><td>-1.52733046</td></tr>\n",
       "\t<tr><th scope=row>5</th><td>0</td><td>520</td><td>2.93</td><td>4</td><td>0</td><td>0</td><td>0</td><td>1</td><td>0.1183539</td><td>-2.00811132</td></tr>\n",
       "\t<tr><th scope=row>6</th><td>1</td><td>760</td><td>3.00</td><td>2</td><td>0</td><td>1</td><td>0</td><td>0</td><td>0.3699699</td><td>-0.53234576</td></tr>\n",
       "\t<tr><th scope=row>7</th><td>1</td><td>560</td><td>2.98</td><td>1</td><td>1</td><td>0</td><td>0</td><td>0</td><td>0.4192462</td><td>-0.32586874</td></tr>\n",
       "\t<tr><th scope=row>8</th><td>0</td><td>400</td><td>3.08</td><td>2</td><td>0</td><td>1</td><td>0</td><td>0</td><td>0.2170033</td><td>-1.28321604</td></tr>\n",
       "\t<tr><th scope=row>9</th><td>1</td><td>540</td><td>3.39</td><td>3</td><td>0</td><td>0</td><td>1</td><td>0</td><td>0.2007352</td><td>-1.38170577</td></tr>\n",
       "\t<tr><th scope=row>10</th><td>0</td><td>700</td><td>3.92</td><td>2</td><td>0</td><td>1</td><td>0</td><td>0</td><td>0.5178682</td><td> 0.07150324</td></tr>\n",
       "</tbody>\n",
       "</table>\n"
      ],
      "text/latex": [
       "A data.frame: 10 × 10\n",
       "\\begin{tabular}{r|llllllllll}\n",
       "  & admit & gre & gpa & rank & rank\\_1 & rank\\_2 & rank\\_3 & rank\\_4 & prob\\_admit & log\\_odd\\\\\n",
       "  & <int> & <int> & <dbl> & <fct> & <dbl> & <dbl> & <dbl> & <dbl> & <dbl> & <dbl>\\\\\n",
       "\\hline\n",
       "\t1 & 0 & 380 & 3.61 & 3 & 0 & 0 & 1 & 0 & 0.1726265 & -1.56712564\\\\\n",
       "\t2 & 1 & 660 & 3.67 & 3 & 0 & 0 & 1 & 0 & 0.2921750 & -0.88484417\\\\\n",
       "\t3 & 1 & 800 & 4.00 & 1 & 1 & 0 & 0 & 0 & 0.7384082 &  1.03771175\\\\\n",
       "\t4 & 1 & 640 & 3.19 & 4 & 0 & 0 & 0 & 1 & 0.1783846 & -1.52733046\\\\\n",
       "\t5 & 0 & 520 & 2.93 & 4 & 0 & 0 & 0 & 1 & 0.1183539 & -2.00811132\\\\\n",
       "\t6 & 1 & 760 & 3.00 & 2 & 0 & 1 & 0 & 0 & 0.3699699 & -0.53234576\\\\\n",
       "\t7 & 1 & 560 & 2.98 & 1 & 1 & 0 & 0 & 0 & 0.4192462 & -0.32586874\\\\\n",
       "\t8 & 0 & 400 & 3.08 & 2 & 0 & 1 & 0 & 0 & 0.2170033 & -1.28321604\\\\\n",
       "\t9 & 1 & 540 & 3.39 & 3 & 0 & 0 & 1 & 0 & 0.2007352 & -1.38170577\\\\\n",
       "\t10 & 0 & 700 & 3.92 & 2 & 0 & 1 & 0 & 0 & 0.5178682 &  0.07150324\\\\\n",
       "\\end{tabular}\n"
      ],
      "text/markdown": [
       "\n",
       "A data.frame: 10 × 10\n",
       "\n",
       "| <!--/--> | admit &lt;int&gt; | gre &lt;int&gt; | gpa &lt;dbl&gt; | rank &lt;fct&gt; | rank_1 &lt;dbl&gt; | rank_2 &lt;dbl&gt; | rank_3 &lt;dbl&gt; | rank_4 &lt;dbl&gt; | prob_admit &lt;dbl&gt; | log_odd &lt;dbl&gt; |\n",
       "|---|---|---|---|---|---|---|---|---|---|---|\n",
       "| 1 | 0 | 380 | 3.61 | 3 | 0 | 0 | 1 | 0 | 0.1726265 | -1.56712564 |\n",
       "| 2 | 1 | 660 | 3.67 | 3 | 0 | 0 | 1 | 0 | 0.2921750 | -0.88484417 |\n",
       "| 3 | 1 | 800 | 4.00 | 1 | 1 | 0 | 0 | 0 | 0.7384082 |  1.03771175 |\n",
       "| 4 | 1 | 640 | 3.19 | 4 | 0 | 0 | 0 | 1 | 0.1783846 | -1.52733046 |\n",
       "| 5 | 0 | 520 | 2.93 | 4 | 0 | 0 | 0 | 1 | 0.1183539 | -2.00811132 |\n",
       "| 6 | 1 | 760 | 3.00 | 2 | 0 | 1 | 0 | 0 | 0.3699699 | -0.53234576 |\n",
       "| 7 | 1 | 560 | 2.98 | 1 | 1 | 0 | 0 | 0 | 0.4192462 | -0.32586874 |\n",
       "| 8 | 0 | 400 | 3.08 | 2 | 0 | 1 | 0 | 0 | 0.2170033 | -1.28321604 |\n",
       "| 9 | 1 | 540 | 3.39 | 3 | 0 | 0 | 1 | 0 | 0.2007352 | -1.38170577 |\n",
       "| 10 | 0 | 700 | 3.92 | 2 | 0 | 1 | 0 | 0 | 0.5178682 |  0.07150324 |\n",
       "\n"
      ],
      "text/plain": [
       "   admit gre gpa  rank rank_1 rank_2 rank_3 rank_4 prob_admit log_odd    \n",
       "1  0     380 3.61 3    0      0      1      0      0.1726265  -1.56712564\n",
       "2  1     660 3.67 3    0      0      1      0      0.2921750  -0.88484417\n",
       "3  1     800 4.00 1    1      0      0      0      0.7384082   1.03771175\n",
       "4  1     640 3.19 4    0      0      0      1      0.1783846  -1.52733046\n",
       "5  0     520 2.93 4    0      0      0      1      0.1183539  -2.00811132\n",
       "6  1     760 3.00 2    0      1      0      0      0.3699699  -0.53234576\n",
       "7  1     560 2.98 1    1      0      0      0      0.4192462  -0.32586874\n",
       "8  0     400 3.08 2    0      1      0      0      0.2170033  -1.28321604\n",
       "9  1     540 3.39 3    0      0      1      0      0.2007352  -1.38170577\n",
       "10 0     700 3.92 2    0      1      0      0      0.5178682   0.07150324"
      ]
     },
     "metadata": {},
     "output_type": "display_data"
    }
   ],
   "source": [
    "admission$prob_admit=predict(logit4,admission,type='response') #probabilidad del evento, en términos de Y \n",
    "admission$log_odd=predict(logit3,admission,type='link') #logs odd ratio, está en términos de mi modelo lineal\n",
    "#¿Cómo haría el odds ratio?\n",
    "head(admission,10)"
   ]
  },
  {
   "cell_type": "code",
   "execution_count": 50,
   "id": "21758491",
   "metadata": {},
   "outputs": [
    {
     "data": {
      "text/html": [
       "<table class=\"dataframe\">\n",
       "<caption>A data.frame: 10 × 11</caption>\n",
       "<thead>\n",
       "\t<tr><th></th><th scope=col>admit</th><th scope=col>gre</th><th scope=col>gpa</th><th scope=col>rank</th><th scope=col>rank_1</th><th scope=col>rank_2</th><th scope=col>rank_3</th><th scope=col>rank_4</th><th scope=col>prob_admit</th><th scope=col>log_odd</th><th scope=col>odds_ratio</th></tr>\n",
       "\t<tr><th></th><th scope=col>&lt;int&gt;</th><th scope=col>&lt;int&gt;</th><th scope=col>&lt;dbl&gt;</th><th scope=col>&lt;fct&gt;</th><th scope=col>&lt;dbl&gt;</th><th scope=col>&lt;dbl&gt;</th><th scope=col>&lt;dbl&gt;</th><th scope=col>&lt;dbl&gt;</th><th scope=col>&lt;dbl&gt;</th><th scope=col>&lt;dbl&gt;</th><th scope=col>&lt;dbl&gt;</th></tr>\n",
       "</thead>\n",
       "<tbody>\n",
       "\t<tr><th scope=row>1</th><td>0</td><td>380</td><td>3.61</td><td>3</td><td>0</td><td>0</td><td>1</td><td>0</td><td>0.1726265</td><td>-1.56712564</td><td>0.2086440</td></tr>\n",
       "\t<tr><th scope=row>2</th><td>1</td><td>660</td><td>3.67</td><td>3</td><td>0</td><td>0</td><td>1</td><td>0</td><td>0.2921750</td><td>-0.88484417</td><td>0.4127785</td></tr>\n",
       "\t<tr><th scope=row>3</th><td>1</td><td>800</td><td>4.00</td><td>1</td><td>1</td><td>0</td><td>0</td><td>0</td><td>0.7384082</td><td> 1.03771175</td><td>2.8227505</td></tr>\n",
       "\t<tr><th scope=row>4</th><td>1</td><td>640</td><td>3.19</td><td>4</td><td>0</td><td>0</td><td>0</td><td>1</td><td>0.1783846</td><td>-1.52733046</td><td>0.2171145</td></tr>\n",
       "\t<tr><th scope=row>5</th><td>0</td><td>520</td><td>2.93</td><td>4</td><td>0</td><td>0</td><td>0</td><td>1</td><td>0.1183539</td><td>-2.00811132</td><td>0.1342420</td></tr>\n",
       "\t<tr><th scope=row>6</th><td>1</td><td>760</td><td>3.00</td><td>2</td><td>0</td><td>1</td><td>0</td><td>0</td><td>0.3699699</td><td>-0.53234576</td><td>0.5872259</td></tr>\n",
       "\t<tr><th scope=row>7</th><td>1</td><td>560</td><td>2.98</td><td>1</td><td>1</td><td>0</td><td>0</td><td>0</td><td>0.4192462</td><td>-0.32586874</td><td>0.7218999</td></tr>\n",
       "\t<tr><th scope=row>8</th><td>0</td><td>400</td><td>3.08</td><td>2</td><td>0</td><td>1</td><td>0</td><td>0</td><td>0.2170033</td><td>-1.28321604</td><td>0.2771446</td></tr>\n",
       "\t<tr><th scope=row>9</th><td>1</td><td>540</td><td>3.39</td><td>3</td><td>0</td><td>0</td><td>1</td><td>0</td><td>0.2007352</td><td>-1.38170577</td><td>0.2511498</td></tr>\n",
       "\t<tr><th scope=row>10</th><td>0</td><td>700</td><td>3.92</td><td>2</td><td>0</td><td>1</td><td>0</td><td>0</td><td>0.5178682</td><td> 0.07150324</td><td>1.0741216</td></tr>\n",
       "</tbody>\n",
       "</table>\n"
      ],
      "text/latex": [
       "A data.frame: 10 × 11\n",
       "\\begin{tabular}{r|lllllllllll}\n",
       "  & admit & gre & gpa & rank & rank\\_1 & rank\\_2 & rank\\_3 & rank\\_4 & prob\\_admit & log\\_odd & odds\\_ratio\\\\\n",
       "  & <int> & <int> & <dbl> & <fct> & <dbl> & <dbl> & <dbl> & <dbl> & <dbl> & <dbl> & <dbl>\\\\\n",
       "\\hline\n",
       "\t1 & 0 & 380 & 3.61 & 3 & 0 & 0 & 1 & 0 & 0.1726265 & -1.56712564 & 0.2086440\\\\\n",
       "\t2 & 1 & 660 & 3.67 & 3 & 0 & 0 & 1 & 0 & 0.2921750 & -0.88484417 & 0.4127785\\\\\n",
       "\t3 & 1 & 800 & 4.00 & 1 & 1 & 0 & 0 & 0 & 0.7384082 &  1.03771175 & 2.8227505\\\\\n",
       "\t4 & 1 & 640 & 3.19 & 4 & 0 & 0 & 0 & 1 & 0.1783846 & -1.52733046 & 0.2171145\\\\\n",
       "\t5 & 0 & 520 & 2.93 & 4 & 0 & 0 & 0 & 1 & 0.1183539 & -2.00811132 & 0.1342420\\\\\n",
       "\t6 & 1 & 760 & 3.00 & 2 & 0 & 1 & 0 & 0 & 0.3699699 & -0.53234576 & 0.5872259\\\\\n",
       "\t7 & 1 & 560 & 2.98 & 1 & 1 & 0 & 0 & 0 & 0.4192462 & -0.32586874 & 0.7218999\\\\\n",
       "\t8 & 0 & 400 & 3.08 & 2 & 0 & 1 & 0 & 0 & 0.2170033 & -1.28321604 & 0.2771446\\\\\n",
       "\t9 & 1 & 540 & 3.39 & 3 & 0 & 0 & 1 & 0 & 0.2007352 & -1.38170577 & 0.2511498\\\\\n",
       "\t10 & 0 & 700 & 3.92 & 2 & 0 & 1 & 0 & 0 & 0.5178682 &  0.07150324 & 1.0741216\\\\\n",
       "\\end{tabular}\n"
      ],
      "text/markdown": [
       "\n",
       "A data.frame: 10 × 11\n",
       "\n",
       "| <!--/--> | admit &lt;int&gt; | gre &lt;int&gt; | gpa &lt;dbl&gt; | rank &lt;fct&gt; | rank_1 &lt;dbl&gt; | rank_2 &lt;dbl&gt; | rank_3 &lt;dbl&gt; | rank_4 &lt;dbl&gt; | prob_admit &lt;dbl&gt; | log_odd &lt;dbl&gt; | odds_ratio &lt;dbl&gt; |\n",
       "|---|---|---|---|---|---|---|---|---|---|---|---|\n",
       "| 1 | 0 | 380 | 3.61 | 3 | 0 | 0 | 1 | 0 | 0.1726265 | -1.56712564 | 0.2086440 |\n",
       "| 2 | 1 | 660 | 3.67 | 3 | 0 | 0 | 1 | 0 | 0.2921750 | -0.88484417 | 0.4127785 |\n",
       "| 3 | 1 | 800 | 4.00 | 1 | 1 | 0 | 0 | 0 | 0.7384082 |  1.03771175 | 2.8227505 |\n",
       "| 4 | 1 | 640 | 3.19 | 4 | 0 | 0 | 0 | 1 | 0.1783846 | -1.52733046 | 0.2171145 |\n",
       "| 5 | 0 | 520 | 2.93 | 4 | 0 | 0 | 0 | 1 | 0.1183539 | -2.00811132 | 0.1342420 |\n",
       "| 6 | 1 | 760 | 3.00 | 2 | 0 | 1 | 0 | 0 | 0.3699699 | -0.53234576 | 0.5872259 |\n",
       "| 7 | 1 | 560 | 2.98 | 1 | 1 | 0 | 0 | 0 | 0.4192462 | -0.32586874 | 0.7218999 |\n",
       "| 8 | 0 | 400 | 3.08 | 2 | 0 | 1 | 0 | 0 | 0.2170033 | -1.28321604 | 0.2771446 |\n",
       "| 9 | 1 | 540 | 3.39 | 3 | 0 | 0 | 1 | 0 | 0.2007352 | -1.38170577 | 0.2511498 |\n",
       "| 10 | 0 | 700 | 3.92 | 2 | 0 | 1 | 0 | 0 | 0.5178682 |  0.07150324 | 1.0741216 |\n",
       "\n"
      ],
      "text/plain": [
       "   admit gre gpa  rank rank_1 rank_2 rank_3 rank_4 prob_admit log_odd    \n",
       "1  0     380 3.61 3    0      0      1      0      0.1726265  -1.56712564\n",
       "2  1     660 3.67 3    0      0      1      0      0.2921750  -0.88484417\n",
       "3  1     800 4.00 1    1      0      0      0      0.7384082   1.03771175\n",
       "4  1     640 3.19 4    0      0      0      1      0.1783846  -1.52733046\n",
       "5  0     520 2.93 4    0      0      0      1      0.1183539  -2.00811132\n",
       "6  1     760 3.00 2    0      1      0      0      0.3699699  -0.53234576\n",
       "7  1     560 2.98 1    1      0      0      0      0.4192462  -0.32586874\n",
       "8  0     400 3.08 2    0      1      0      0      0.2170033  -1.28321604\n",
       "9  1     540 3.39 3    0      0      1      0      0.2007352  -1.38170577\n",
       "10 0     700 3.92 2    0      1      0      0      0.5178682   0.07150324\n",
       "   odds_ratio\n",
       "1  0.2086440 \n",
       "2  0.4127785 \n",
       "3  2.8227505 \n",
       "4  0.2171145 \n",
       "5  0.1342420 \n",
       "6  0.5872259 \n",
       "7  0.7218999 \n",
       "8  0.2771446 \n",
       "9  0.2511498 \n",
       "10 1.0741216 "
      ]
     },
     "metadata": {},
     "output_type": "display_data"
    }
   ],
   "source": [
    "admission$odds_ratio=exp(admission$log_odd)\n",
    "head(admission,10)"
   ]
  },
  {
   "cell_type": "markdown",
   "id": "d50c06f5",
   "metadata": {},
   "source": [
    "Si asignamos el punto de corte como 0.5, podemos etiquetar nuestro eventos (1 si prob>0.5, 0 en otro caso)."
   ]
  },
  {
   "cell_type": "code",
   "execution_count": 51,
   "id": "ed3453d6",
   "metadata": {},
   "outputs": [
    {
     "data": {
      "text/html": [
       "<table class=\"dataframe\">\n",
       "<caption>A data.frame: 10 × 13</caption>\n",
       "<thead>\n",
       "\t<tr><th></th><th scope=col>admit</th><th scope=col>gre</th><th scope=col>gpa</th><th scope=col>rank</th><th scope=col>rank_1</th><th scope=col>rank_2</th><th scope=col>rank_3</th><th scope=col>rank_4</th><th scope=col>prob_admit</th><th scope=col>log_odd</th><th scope=col>odds_ratio</th><th scope=col>lab_admit</th><th scope=col>pred_logical</th></tr>\n",
       "\t<tr><th></th><th scope=col>&lt;int&gt;</th><th scope=col>&lt;int&gt;</th><th scope=col>&lt;dbl&gt;</th><th scope=col>&lt;fct&gt;</th><th scope=col>&lt;dbl&gt;</th><th scope=col>&lt;dbl&gt;</th><th scope=col>&lt;dbl&gt;</th><th scope=col>&lt;dbl&gt;</th><th scope=col>&lt;dbl&gt;</th><th scope=col>&lt;dbl&gt;</th><th scope=col>&lt;dbl&gt;</th><th scope=col>&lt;dbl&gt;</th><th scope=col>&lt;lgl&gt;</th></tr>\n",
       "</thead>\n",
       "<tbody>\n",
       "\t<tr><th scope=row>1</th><td>0</td><td>380</td><td>3.61</td><td>3</td><td>0</td><td>0</td><td>1</td><td>0</td><td>0.1726265</td><td>-1.56712564</td><td>0.2086440</td><td>0</td><td> TRUE</td></tr>\n",
       "\t<tr><th scope=row>2</th><td>1</td><td>660</td><td>3.67</td><td>3</td><td>0</td><td>0</td><td>1</td><td>0</td><td>0.2921750</td><td>-0.88484417</td><td>0.4127785</td><td>0</td><td>FALSE</td></tr>\n",
       "\t<tr><th scope=row>3</th><td>1</td><td>800</td><td>4.00</td><td>1</td><td>1</td><td>0</td><td>0</td><td>0</td><td>0.7384082</td><td> 1.03771175</td><td>2.8227505</td><td>1</td><td> TRUE</td></tr>\n",
       "\t<tr><th scope=row>4</th><td>1</td><td>640</td><td>3.19</td><td>4</td><td>0</td><td>0</td><td>0</td><td>1</td><td>0.1783846</td><td>-1.52733046</td><td>0.2171145</td><td>0</td><td>FALSE</td></tr>\n",
       "\t<tr><th scope=row>5</th><td>0</td><td>520</td><td>2.93</td><td>4</td><td>0</td><td>0</td><td>0</td><td>1</td><td>0.1183539</td><td>-2.00811132</td><td>0.1342420</td><td>0</td><td> TRUE</td></tr>\n",
       "\t<tr><th scope=row>6</th><td>1</td><td>760</td><td>3.00</td><td>2</td><td>0</td><td>1</td><td>0</td><td>0</td><td>0.3699699</td><td>-0.53234576</td><td>0.5872259</td><td>0</td><td>FALSE</td></tr>\n",
       "\t<tr><th scope=row>7</th><td>1</td><td>560</td><td>2.98</td><td>1</td><td>1</td><td>0</td><td>0</td><td>0</td><td>0.4192462</td><td>-0.32586874</td><td>0.7218999</td><td>0</td><td>FALSE</td></tr>\n",
       "\t<tr><th scope=row>8</th><td>0</td><td>400</td><td>3.08</td><td>2</td><td>0</td><td>1</td><td>0</td><td>0</td><td>0.2170033</td><td>-1.28321604</td><td>0.2771446</td><td>0</td><td> TRUE</td></tr>\n",
       "\t<tr><th scope=row>9</th><td>1</td><td>540</td><td>3.39</td><td>3</td><td>0</td><td>0</td><td>1</td><td>0</td><td>0.2007352</td><td>-1.38170577</td><td>0.2511498</td><td>0</td><td>FALSE</td></tr>\n",
       "\t<tr><th scope=row>10</th><td>0</td><td>700</td><td>3.92</td><td>2</td><td>0</td><td>1</td><td>0</td><td>0</td><td>0.5178682</td><td> 0.07150324</td><td>1.0741216</td><td>1</td><td>FALSE</td></tr>\n",
       "</tbody>\n",
       "</table>\n"
      ],
      "text/latex": [
       "A data.frame: 10 × 13\n",
       "\\begin{tabular}{r|lllllllllllll}\n",
       "  & admit & gre & gpa & rank & rank\\_1 & rank\\_2 & rank\\_3 & rank\\_4 & prob\\_admit & log\\_odd & odds\\_ratio & lab\\_admit & pred\\_logical\\\\\n",
       "  & <int> & <int> & <dbl> & <fct> & <dbl> & <dbl> & <dbl> & <dbl> & <dbl> & <dbl> & <dbl> & <dbl> & <lgl>\\\\\n",
       "\\hline\n",
       "\t1 & 0 & 380 & 3.61 & 3 & 0 & 0 & 1 & 0 & 0.1726265 & -1.56712564 & 0.2086440 & 0 &  TRUE\\\\\n",
       "\t2 & 1 & 660 & 3.67 & 3 & 0 & 0 & 1 & 0 & 0.2921750 & -0.88484417 & 0.4127785 & 0 & FALSE\\\\\n",
       "\t3 & 1 & 800 & 4.00 & 1 & 1 & 0 & 0 & 0 & 0.7384082 &  1.03771175 & 2.8227505 & 1 &  TRUE\\\\\n",
       "\t4 & 1 & 640 & 3.19 & 4 & 0 & 0 & 0 & 1 & 0.1783846 & -1.52733046 & 0.2171145 & 0 & FALSE\\\\\n",
       "\t5 & 0 & 520 & 2.93 & 4 & 0 & 0 & 0 & 1 & 0.1183539 & -2.00811132 & 0.1342420 & 0 &  TRUE\\\\\n",
       "\t6 & 1 & 760 & 3.00 & 2 & 0 & 1 & 0 & 0 & 0.3699699 & -0.53234576 & 0.5872259 & 0 & FALSE\\\\\n",
       "\t7 & 1 & 560 & 2.98 & 1 & 1 & 0 & 0 & 0 & 0.4192462 & -0.32586874 & 0.7218999 & 0 & FALSE\\\\\n",
       "\t8 & 0 & 400 & 3.08 & 2 & 0 & 1 & 0 & 0 & 0.2170033 & -1.28321604 & 0.2771446 & 0 &  TRUE\\\\\n",
       "\t9 & 1 & 540 & 3.39 & 3 & 0 & 0 & 1 & 0 & 0.2007352 & -1.38170577 & 0.2511498 & 0 & FALSE\\\\\n",
       "\t10 & 0 & 700 & 3.92 & 2 & 0 & 1 & 0 & 0 & 0.5178682 &  0.07150324 & 1.0741216 & 1 & FALSE\\\\\n",
       "\\end{tabular}\n"
      ],
      "text/markdown": [
       "\n",
       "A data.frame: 10 × 13\n",
       "\n",
       "| <!--/--> | admit &lt;int&gt; | gre &lt;int&gt; | gpa &lt;dbl&gt; | rank &lt;fct&gt; | rank_1 &lt;dbl&gt; | rank_2 &lt;dbl&gt; | rank_3 &lt;dbl&gt; | rank_4 &lt;dbl&gt; | prob_admit &lt;dbl&gt; | log_odd &lt;dbl&gt; | odds_ratio &lt;dbl&gt; | lab_admit &lt;dbl&gt; | pred_logical &lt;lgl&gt; |\n",
       "|---|---|---|---|---|---|---|---|---|---|---|---|---|---|\n",
       "| 1 | 0 | 380 | 3.61 | 3 | 0 | 0 | 1 | 0 | 0.1726265 | -1.56712564 | 0.2086440 | 0 |  TRUE |\n",
       "| 2 | 1 | 660 | 3.67 | 3 | 0 | 0 | 1 | 0 | 0.2921750 | -0.88484417 | 0.4127785 | 0 | FALSE |\n",
       "| 3 | 1 | 800 | 4.00 | 1 | 1 | 0 | 0 | 0 | 0.7384082 |  1.03771175 | 2.8227505 | 1 |  TRUE |\n",
       "| 4 | 1 | 640 | 3.19 | 4 | 0 | 0 | 0 | 1 | 0.1783846 | -1.52733046 | 0.2171145 | 0 | FALSE |\n",
       "| 5 | 0 | 520 | 2.93 | 4 | 0 | 0 | 0 | 1 | 0.1183539 | -2.00811132 | 0.1342420 | 0 |  TRUE |\n",
       "| 6 | 1 | 760 | 3.00 | 2 | 0 | 1 | 0 | 0 | 0.3699699 | -0.53234576 | 0.5872259 | 0 | FALSE |\n",
       "| 7 | 1 | 560 | 2.98 | 1 | 1 | 0 | 0 | 0 | 0.4192462 | -0.32586874 | 0.7218999 | 0 | FALSE |\n",
       "| 8 | 0 | 400 | 3.08 | 2 | 0 | 1 | 0 | 0 | 0.2170033 | -1.28321604 | 0.2771446 | 0 |  TRUE |\n",
       "| 9 | 1 | 540 | 3.39 | 3 | 0 | 0 | 1 | 0 | 0.2007352 | -1.38170577 | 0.2511498 | 0 | FALSE |\n",
       "| 10 | 0 | 700 | 3.92 | 2 | 0 | 1 | 0 | 0 | 0.5178682 |  0.07150324 | 1.0741216 | 1 | FALSE |\n",
       "\n"
      ],
      "text/plain": [
       "   admit gre gpa  rank rank_1 rank_2 rank_3 rank_4 prob_admit log_odd    \n",
       "1  0     380 3.61 3    0      0      1      0      0.1726265  -1.56712564\n",
       "2  1     660 3.67 3    0      0      1      0      0.2921750  -0.88484417\n",
       "3  1     800 4.00 1    1      0      0      0      0.7384082   1.03771175\n",
       "4  1     640 3.19 4    0      0      0      1      0.1783846  -1.52733046\n",
       "5  0     520 2.93 4    0      0      0      1      0.1183539  -2.00811132\n",
       "6  1     760 3.00 2    0      1      0      0      0.3699699  -0.53234576\n",
       "7  1     560 2.98 1    1      0      0      0      0.4192462  -0.32586874\n",
       "8  0     400 3.08 2    0      1      0      0      0.2170033  -1.28321604\n",
       "9  1     540 3.39 3    0      0      1      0      0.2007352  -1.38170577\n",
       "10 0     700 3.92 2    0      1      0      0      0.5178682   0.07150324\n",
       "   odds_ratio lab_admit pred_logical\n",
       "1  0.2086440  0          TRUE       \n",
       "2  0.4127785  0         FALSE       \n",
       "3  2.8227505  1          TRUE       \n",
       "4  0.2171145  0         FALSE       \n",
       "5  0.1342420  0          TRUE       \n",
       "6  0.5872259  0         FALSE       \n",
       "7  0.7218999  0         FALSE       \n",
       "8  0.2771446  0          TRUE       \n",
       "9  0.2511498  0         FALSE       \n",
       "10 1.0741216  1         FALSE       "
      ]
     },
     "metadata": {},
     "output_type": "display_data"
    }
   ],
   "source": [
    "admission$lab_admit=ifelse(admission$prob_admit>0.5,1,0)\n",
    "admission$pred_logical=ifelse(admission$admit==admission$lab_admit,TRUE,FALSE)\n",
    "head(admission,10)"
   ]
  },
  {
   "cell_type": "code",
   "execution_count": 52,
   "id": "9c97cdd0",
   "metadata": {},
   "outputs": [
    {
     "name": "stderr",
     "output_type": "stream",
     "text": [
      "Warning message:\n",
      "\"package 'ggplot2' was built under R version 4.0.5\"\n"
     ]
    },
    {
     "data": {
      "image/png": "[encoded data removed]",
      "text/plain": [
       "plot without title"
      ]
     },
     "metadata": {
      "image/png": {
       "height": 420,
       "width": 420
      }
     },
     "output_type": "display_data"
    }
   ],
   "source": [
    "library(ggplot2)\n",
    "\n",
    "admission%>%\n",
    "    ggplot(aes(x=log_odd,y=prob_admit,col=pred_logical))+\n",
    "    geom_point()+\n",
    "    geom_rug()"
   ]
  },
  {
   "cell_type": "markdown",
   "id": "9f582d1f",
   "metadata": {},
   "source": [
    "### Métricas para evaluar el modelo\n",
    "\n",
    "Finalmente, esto es un modelo de clasificación **binaria**. Entonces, se puede construir una matriz de confusión y en función de ello estimar diversas métricas.\n",
    "\n",
    "Nuestro umbral en 0.5"
   ]
  },
  {
   "cell_type": "code",
   "execution_count": 53,
   "id": "cc27251b",
   "metadata": {},
   "outputs": [
    {
     "data": {
      "text/plain": [
       "   \n",
       "      0   1\n",
       "  0 254  19\n",
       "  1  97  30"
      ]
     },
     "metadata": {},
     "output_type": "display_data"
    }
   ],
   "source": [
    "#Matriz de confusión\n",
    "matrix_val=table(admission$admit,admission$lab_admit)\n",
    "matrix_val "
   ]
  },
  {
   "cell_type": "markdown",
   "id": "ce718573",
   "metadata": {},
   "source": [
    "Predice muy bien la clase 0, pero no la 1 ¿por qué?"
   ]
  },
  {
   "cell_type": "code",
   "execution_count": 54,
   "id": "1223a564",
   "metadata": {},
   "outputs": [
    {
     "data": {
      "text/plain": [
       "\n",
       "  0   1 \n",
       "273 127 "
      ]
     },
     "metadata": {},
     "output_type": "display_data"
    }
   ],
   "source": [
    "table(admission$admit)"
   ]
  },
  {
   "attachments": {
    "image.png": {
     "image/png": "[encoded data removed]"
    }
   },
   "cell_type": "markdown",
   "id": "d2f92295",
   "metadata": {},
   "source": [
    "**Matriz de confusión**\n",
    "![image.png](attachment:image.png)"
   ]
  },
  {
   "cell_type": "markdown",
   "id": "c91d68a1",
   "metadata": {},
   "source": [
    "**Accuracy**\n",
    "\n",
    "Accuracy=TP+TN/(TN+FP+FN+TP)"
   ]
  },
  {
   "cell_type": "code",
   "execution_count": 56,
   "id": "770d4e66",
   "metadata": {},
   "outputs": [
    {
     "data": {
      "text/html": [
       "0.71"
      ],
      "text/latex": [
       "0.71"
      ],
      "text/markdown": [
       "0.71"
      ],
      "text/plain": [
       "[1] 0.71"
      ]
     },
     "metadata": {},
     "output_type": "display_data"
    }
   ],
   "source": [
    "accuracy=round(sum(diag(matrix_val))/sum(matrix_val),4)\n",
    "accuracy"
   ]
  },
  {
   "cell_type": "markdown",
   "id": "fcfd70a8",
   "metadata": {},
   "source": [
    "**Sensibilidad (True Positive Rate, Recall)**\n",
    "\n",
    "Sensibilidad=TP/(TP+FN)\n",
    "\n",
    "**Especificidad (False Positive Rate**\n",
    "\n",
    "Especificidad=TN/(TN+FP)\n",
    "\n",
    "**Valor predictivo positivo (Precision)**\n",
    "\n",
    "VPP=TP/(TP+FP)\n",
    "\n",
    "**¿Valor predictivo negativo?**"
   ]
  },
  {
   "cell_type": "markdown",
   "id": "61162395",
   "metadata": {},
   "source": [
    "**Tarea: Estimar sensibilidad y especificidad**"
   ]
  },
  {
   "cell_type": "markdown",
   "id": "77ef58a5",
   "metadata": {},
   "source": [
    "¿Cómo afecta nuestro punto de corte de probabilidad -para clasificar Y=1- las métricas anteriores?"
   ]
  },
  {
   "cell_type": "markdown",
   "id": "429a8bb7",
   "metadata": {},
   "source": [
    "**Curva ROC y AUC**"
   ]
  },
  {
   "cell_type": "code",
   "execution_count": 57,
   "id": "ed3f4e48",
   "metadata": {},
   "outputs": [
    {
     "name": "stderr",
     "output_type": "stream",
     "text": [
      "Warning message:\n",
      "\"package 'pROC' was built under R version 4.0.5\"\n",
      "Type 'citation(\"pROC\")' for a citation.\n",
      "\n",
      "\n",
      "Attaching package: 'pROC'\n",
      "\n",
      "\n",
      "The following objects are masked from 'package:stats':\n",
      "\n",
      "    cov, smooth, var\n",
      "\n",
      "\n",
      "Setting levels: control = 0, case = 1\n",
      "\n",
      "Setting direction: controls < cases\n",
      "\n"
     ]
    },
    {
     "data": {
      "image/png": "[encoded data removed]",
      "text/plain": [
       "plot without title"
      ]
     },
     "metadata": {
      "image/png": {
       "height": 420,
       "width": 420
      }
     },
     "output_type": "display_data"
    }
   ],
   "source": [
    "#install.packages('pROC')\n",
    "library(pROC)\n",
    "roc_mod=admission%>%\n",
    "    roc(admit,prob_admit,plot=TRUE,legacy.axes=TRUE)"
   ]
  },
  {
   "cell_type": "code",
   "execution_count": 64,
   "id": "4e6aaf6c",
   "metadata": {},
   "outputs": [
    {
     "data": {
      "text/plain": [
       "\n",
       "Call:\n",
       "roc.data.frame(data = ., response = admit, predictor = prob_admit,     plot = TRUE, legacy.axes = TRUE)\n",
       "\n",
       "Data: prob_admit in 273 controls (admit 0) < 127 cases (admit 1).\n",
       "Area under the curve: 0.6928"
      ]
     },
     "metadata": {},
     "output_type": "display_data"
    }
   ],
   "source": [
    "roc_mod"
   ]
  },
  {
   "cell_type": "code",
   "execution_count": 65,
   "id": "5c287375",
   "metadata": {},
   "outputs": [
    {
     "data": {
      "text/plain": [
       "                   Length Class  Mode     \n",
       "percent              1    -none- logical  \n",
       "sensitivities      392    -none- numeric  \n",
       "specificities      392    -none- numeric  \n",
       "thresholds         392    -none- numeric  \n",
       "direction            1    -none- character\n",
       "cases              127    -none- numeric  \n",
       "controls           273    -none- numeric  \n",
       "fun.sesp             1    -none- function \n",
       "auc                  1    auc    numeric  \n",
       "call                 6    -none- call     \n",
       "original.predictor 400    -none- numeric  \n",
       "original.response  400    -none- numeric  \n",
       "predictor          400    -none- numeric  \n",
       "response           400    -none- numeric  \n",
       "levels               2    -none- character"
      ]
     },
     "metadata": {},
     "output_type": "display_data"
    }
   ],
   "source": [
    "summary(roc_mod)"
   ]
  },
  {
   "cell_type": "code",
   "execution_count": 60,
   "id": "85e0df19",
   "metadata": {},
   "outputs": [
    {
     "data": {
      "text/html": [
       "<table class=\"dataframe\">\n",
       "<caption>A data.frame: 40 × 3</caption>\n",
       "<thead>\n",
       "\t<tr><th></th><th scope=col>roc_mod.sensitivities...100</th><th scope=col>X.1...roc_mod.specificities....100</th><th scope=col>roc_mod.thresholds</th></tr>\n",
       "\t<tr><th></th><th scope=col>&lt;dbl&gt;</th><th scope=col>&lt;dbl&gt;</th><th scope=col>&lt;dbl&gt;</th></tr>\n",
       "</thead>\n",
       "<tbody>\n",
       "\t<tr><th scope=row>1</th><td>100.00000</td><td>100.00000</td><td>      -Inf</td></tr>\n",
       "\t<tr><th scope=row>2</th><td>100.00000</td><td> 99.63370</td><td>0.06538595</td></tr>\n",
       "\t<tr><th scope=row>3</th><td>100.00000</td><td> 99.26740</td><td>0.07216964</td></tr>\n",
       "\t<tr><th scope=row>4</th><td>100.00000</td><td> 98.90110</td><td>0.07360691</td></tr>\n",
       "\t<tr><th scope=row>5</th><td>100.00000</td><td> 98.53480</td><td>0.07690667</td></tr>\n",
       "\t<tr><th scope=row>6</th><td>100.00000</td><td> 98.16850</td><td>0.08336010</td></tr>\n",
       "\t<tr><th scope=row>7</th><td>100.00000</td><td> 97.80220</td><td>0.09232511</td></tr>\n",
       "\t<tr><th scope=row>8</th><td>100.00000</td><td> 97.43590</td><td>0.09695523</td></tr>\n",
       "\t<tr><th scope=row>9</th><td>100.00000</td><td> 97.06960</td><td>0.09783085</td></tr>\n",
       "\t<tr><th scope=row>10</th><td>100.00000</td><td> 96.70330</td><td>0.10074167</td></tr>\n",
       "\t<tr><th scope=row>11</th><td>100.00000</td><td> 96.33700</td><td>0.10550402</td></tr>\n",
       "\t<tr><th scope=row>12</th><td>100.00000</td><td> 95.97070</td><td>0.10834534</td></tr>\n",
       "\t<tr><th scope=row>13</th><td>100.00000</td><td> 95.60440</td><td>0.10867444</td></tr>\n",
       "\t<tr><th scope=row>14</th><td>100.00000</td><td> 95.23810</td><td>0.11050282</td></tr>\n",
       "\t<tr><th scope=row>15</th><td>100.00000</td><td> 94.87179</td><td>0.11294871</td></tr>\n",
       "\t<tr><th scope=row>16</th><td>100.00000</td><td> 94.50549</td><td>0.11445774</td></tr>\n",
       "\t<tr><th scope=row>17</th><td> 99.21260</td><td> 94.50549</td><td>0.11572672</td></tr>\n",
       "\t<tr><th scope=row>18</th><td> 99.21260</td><td> 94.13919</td><td>0.11629340</td></tr>\n",
       "\t<tr><th scope=row>19</th><td> 99.21260</td><td> 93.77289</td><td>0.11666527</td></tr>\n",
       "\t<tr><th scope=row>20</th><td> 99.21260</td><td> 93.40659</td><td>0.11767246</td></tr>\n",
       "\t<tr><th scope=row>21</th><td> 99.21260</td><td> 93.04029</td><td>0.11835793</td></tr>\n",
       "\t<tr><th scope=row>22</th><td> 99.21260</td><td> 92.67399</td><td>0.11859811</td></tr>\n",
       "\t<tr><th scope=row>23</th><td> 99.21260</td><td> 92.30769</td><td>0.11913098</td></tr>\n",
       "\t<tr><th scope=row>24</th><td> 98.42520</td><td> 92.30769</td><td>0.11989113</td></tr>\n",
       "\t<tr><th scope=row>25</th><td> 98.42520</td><td> 91.94139</td><td>0.12074188</td></tr>\n",
       "\t<tr><th scope=row>26</th><td> 98.42520</td><td> 91.57509</td><td>0.12191557</td></tr>\n",
       "\t<tr><th scope=row>27</th><td> 98.42520</td><td> 91.20879</td><td>0.12417414</td></tr>\n",
       "\t<tr><th scope=row>28</th><td> 98.42520</td><td> 90.84249</td><td>0.12572269</td></tr>\n",
       "\t<tr><th scope=row>29</th><td> 98.42520</td><td> 90.47619</td><td>0.12584419</td></tr>\n",
       "\t<tr><th scope=row>30</th><td> 98.42520</td><td> 90.10989</td><td>0.12616974</td></tr>\n",
       "\t<tr><th scope=row>31</th><td> 98.42520</td><td> 89.74359</td><td>0.12652264</td></tr>\n",
       "\t<tr><th scope=row>32</th><td> 97.63780</td><td> 89.74359</td><td>0.12675435</td></tr>\n",
       "\t<tr><th scope=row>33</th><td> 96.85039</td><td> 89.74359</td><td>0.12764440</td></tr>\n",
       "\t<tr><th scope=row>34</th><td> 96.85039</td><td> 89.01099</td><td>0.12978367</td></tr>\n",
       "\t<tr><th scope=row>35</th><td> 96.85039</td><td> 88.64469</td><td>0.13145884</td></tr>\n",
       "\t<tr><th scope=row>36</th><td> 96.85039</td><td> 88.27839</td><td>0.13187580</td></tr>\n",
       "\t<tr><th scope=row>37</th><td> 96.85039</td><td> 87.91209</td><td>0.13270147</td></tr>\n",
       "\t<tr><th scope=row>38</th><td> 96.85039</td><td> 87.54579</td><td>0.13397157</td></tr>\n",
       "\t<tr><th scope=row>39</th><td> 96.85039</td><td> 87.17949</td><td>0.13530085</td></tr>\n",
       "\t<tr><th scope=row>40</th><td> 96.85039</td><td> 86.81319</td><td>0.13606890</td></tr>\n",
       "</tbody>\n",
       "</table>\n"
      ],
      "text/latex": [
       "A data.frame: 40 × 3\n",
       "\\begin{tabular}{r|lll}\n",
       "  & roc\\_mod.sensitivities...100 & X.1...roc\\_mod.specificities....100 & roc\\_mod.thresholds\\\\\n",
       "  & <dbl> & <dbl> & <dbl>\\\\\n",
       "\\hline\n",
       "\t1 & 100.00000 & 100.00000 &       -Inf\\\\\n",
       "\t2 & 100.00000 &  99.63370 & 0.06538595\\\\\n",
       "\t3 & 100.00000 &  99.26740 & 0.07216964\\\\\n",
       "\t4 & 100.00000 &  98.90110 & 0.07360691\\\\\n",
       "\t5 & 100.00000 &  98.53480 & 0.07690667\\\\\n",
       "\t6 & 100.00000 &  98.16850 & 0.08336010\\\\\n",
       "\t7 & 100.00000 &  97.80220 & 0.09232511\\\\\n",
       "\t8 & 100.00000 &  97.43590 & 0.09695523\\\\\n",
       "\t9 & 100.00000 &  97.06960 & 0.09783085\\\\\n",
       "\t10 & 100.00000 &  96.70330 & 0.10074167\\\\\n",
       "\t11 & 100.00000 &  96.33700 & 0.10550402\\\\\n",
       "\t12 & 100.00000 &  95.97070 & 0.10834534\\\\\n",
       "\t13 & 100.00000 &  95.60440 & 0.10867444\\\\\n",
       "\t14 & 100.00000 &  95.23810 & 0.11050282\\\\\n",
       "\t15 & 100.00000 &  94.87179 & 0.11294871\\\\\n",
       "\t16 & 100.00000 &  94.50549 & 0.11445774\\\\\n",
       "\t17 &  99.21260 &  94.50549 & 0.11572672\\\\\n",
       "\t18 &  99.21260 &  94.13919 & 0.11629340\\\\\n",
       "\t19 &  99.21260 &  93.77289 & 0.11666527\\\\\n",
       "\t20 &  99.21260 &  93.40659 & 0.11767246\\\\\n",
       "\t21 &  99.21260 &  93.04029 & 0.11835793\\\\\n",
       "\t22 &  99.21260 &  92.67399 & 0.11859811\\\\\n",
       "\t23 &  99.21260 &  92.30769 & 0.11913098\\\\\n",
       "\t24 &  98.42520 &  92.30769 & 0.11989113\\\\\n",
       "\t25 &  98.42520 &  91.94139 & 0.12074188\\\\\n",
       "\t26 &  98.42520 &  91.57509 & 0.12191557\\\\\n",
       "\t27 &  98.42520 &  91.20879 & 0.12417414\\\\\n",
       "\t28 &  98.42520 &  90.84249 & 0.12572269\\\\\n",
       "\t29 &  98.42520 &  90.47619 & 0.12584419\\\\\n",
       "\t30 &  98.42520 &  90.10989 & 0.12616974\\\\\n",
       "\t31 &  98.42520 &  89.74359 & 0.12652264\\\\\n",
       "\t32 &  97.63780 &  89.74359 & 0.12675435\\\\\n",
       "\t33 &  96.85039 &  89.74359 & 0.12764440\\\\\n",
       "\t34 &  96.85039 &  89.01099 & 0.12978367\\\\\n",
       "\t35 &  96.85039 &  88.64469 & 0.13145884\\\\\n",
       "\t36 &  96.85039 &  88.27839 & 0.13187580\\\\\n",
       "\t37 &  96.85039 &  87.91209 & 0.13270147\\\\\n",
       "\t38 &  96.85039 &  87.54579 & 0.13397157\\\\\n",
       "\t39 &  96.85039 &  87.17949 & 0.13530085\\\\\n",
       "\t40 &  96.85039 &  86.81319 & 0.13606890\\\\\n",
       "\\end{tabular}\n"
      ],
      "text/markdown": [
       "\n",
       "A data.frame: 40 × 3\n",
       "\n",
       "| <!--/--> | roc_mod.sensitivities...100 &lt;dbl&gt; | X.1...roc_mod.specificities....100 &lt;dbl&gt; | roc_mod.thresholds &lt;dbl&gt; |\n",
       "|---|---|---|---|\n",
       "| 1 | 100.00000 | 100.00000 |       -Inf |\n",
       "| 2 | 100.00000 |  99.63370 | 0.06538595 |\n",
       "| 3 | 100.00000 |  99.26740 | 0.07216964 |\n",
       "| 4 | 100.00000 |  98.90110 | 0.07360691 |\n",
       "| 5 | 100.00000 |  98.53480 | 0.07690667 |\n",
       "| 6 | 100.00000 |  98.16850 | 0.08336010 |\n",
       "| 7 | 100.00000 |  97.80220 | 0.09232511 |\n",
       "| 8 | 100.00000 |  97.43590 | 0.09695523 |\n",
       "| 9 | 100.00000 |  97.06960 | 0.09783085 |\n",
       "| 10 | 100.00000 |  96.70330 | 0.10074167 |\n",
       "| 11 | 100.00000 |  96.33700 | 0.10550402 |\n",
       "| 12 | 100.00000 |  95.97070 | 0.10834534 |\n",
       "| 13 | 100.00000 |  95.60440 | 0.10867444 |\n",
       "| 14 | 100.00000 |  95.23810 | 0.11050282 |\n",
       "| 15 | 100.00000 |  94.87179 | 0.11294871 |\n",
       "| 16 | 100.00000 |  94.50549 | 0.11445774 |\n",
       "| 17 |  99.21260 |  94.50549 | 0.11572672 |\n",
       "| 18 |  99.21260 |  94.13919 | 0.11629340 |\n",
       "| 19 |  99.21260 |  93.77289 | 0.11666527 |\n",
       "| 20 |  99.21260 |  93.40659 | 0.11767246 |\n",
       "| 21 |  99.21260 |  93.04029 | 0.11835793 |\n",
       "| 22 |  99.21260 |  92.67399 | 0.11859811 |\n",
       "| 23 |  99.21260 |  92.30769 | 0.11913098 |\n",
       "| 24 |  98.42520 |  92.30769 | 0.11989113 |\n",
       "| 25 |  98.42520 |  91.94139 | 0.12074188 |\n",
       "| 26 |  98.42520 |  91.57509 | 0.12191557 |\n",
       "| 27 |  98.42520 |  91.20879 | 0.12417414 |\n",
       "| 28 |  98.42520 |  90.84249 | 0.12572269 |\n",
       "| 29 |  98.42520 |  90.47619 | 0.12584419 |\n",
       "| 30 |  98.42520 |  90.10989 | 0.12616974 |\n",
       "| 31 |  98.42520 |  89.74359 | 0.12652264 |\n",
       "| 32 |  97.63780 |  89.74359 | 0.12675435 |\n",
       "| 33 |  96.85039 |  89.74359 | 0.12764440 |\n",
       "| 34 |  96.85039 |  89.01099 | 0.12978367 |\n",
       "| 35 |  96.85039 |  88.64469 | 0.13145884 |\n",
       "| 36 |  96.85039 |  88.27839 | 0.13187580 |\n",
       "| 37 |  96.85039 |  87.91209 | 0.13270147 |\n",
       "| 38 |  96.85039 |  87.54579 | 0.13397157 |\n",
       "| 39 |  96.85039 |  87.17949 | 0.13530085 |\n",
       "| 40 |  96.85039 |  86.81319 | 0.13606890 |\n",
       "\n"
      ],
      "text/plain": [
       "   roc_mod.sensitivities...100 X.1...roc_mod.specificities....100\n",
       "1  100.00000                   100.00000                         \n",
       "2  100.00000                    99.63370                         \n",
       "3  100.00000                    99.26740                         \n",
       "4  100.00000                    98.90110                         \n",
       "5  100.00000                    98.53480                         \n",
       "6  100.00000                    98.16850                         \n",
       "7  100.00000                    97.80220                         \n",
       "8  100.00000                    97.43590                         \n",
       "9  100.00000                    97.06960                         \n",
       "10 100.00000                    96.70330                         \n",
       "11 100.00000                    96.33700                         \n",
       "12 100.00000                    95.97070                         \n",
       "13 100.00000                    95.60440                         \n",
       "14 100.00000                    95.23810                         \n",
       "15 100.00000                    94.87179                         \n",
       "16 100.00000                    94.50549                         \n",
       "17  99.21260                    94.50549                         \n",
       "18  99.21260                    94.13919                         \n",
       "19  99.21260                    93.77289                         \n",
       "20  99.21260                    93.40659                         \n",
       "21  99.21260                    93.04029                         \n",
       "22  99.21260                    92.67399                         \n",
       "23  99.21260                    92.30769                         \n",
       "24  98.42520                    92.30769                         \n",
       "25  98.42520                    91.94139                         \n",
       "26  98.42520                    91.57509                         \n",
       "27  98.42520                    91.20879                         \n",
       "28  98.42520                    90.84249                         \n",
       "29  98.42520                    90.47619                         \n",
       "30  98.42520                    90.10989                         \n",
       "31  98.42520                    89.74359                         \n",
       "32  97.63780                    89.74359                         \n",
       "33  96.85039                    89.74359                         \n",
       "34  96.85039                    89.01099                         \n",
       "35  96.85039                    88.64469                         \n",
       "36  96.85039                    88.27839                         \n",
       "37  96.85039                    87.91209                         \n",
       "38  96.85039                    87.54579                         \n",
       "39  96.85039                    87.17949                         \n",
       "40  96.85039                    86.81319                         \n",
       "   roc_mod.thresholds\n",
       "1        -Inf        \n",
       "2  0.06538595        \n",
       "3  0.07216964        \n",
       "4  0.07360691        \n",
       "5  0.07690667        \n",
       "6  0.08336010        \n",
       "7  0.09232511        \n",
       "8  0.09695523        \n",
       "9  0.09783085        \n",
       "10 0.10074167        \n",
       "11 0.10550402        \n",
       "12 0.10834534        \n",
       "13 0.10867444        \n",
       "14 0.11050282        \n",
       "15 0.11294871        \n",
       "16 0.11445774        \n",
       "17 0.11572672        \n",
       "18 0.11629340        \n",
       "19 0.11666527        \n",
       "20 0.11767246        \n",
       "21 0.11835793        \n",
       "22 0.11859811        \n",
       "23 0.11913098        \n",
       "24 0.11989113        \n",
       "25 0.12074188        \n",
       "26 0.12191557        \n",
       "27 0.12417414        \n",
       "28 0.12572269        \n",
       "29 0.12584419        \n",
       "30 0.12616974        \n",
       "31 0.12652264        \n",
       "32 0.12675435        \n",
       "33 0.12764440        \n",
       "34 0.12978367        \n",
       "35 0.13145884        \n",
       "36 0.13187580        \n",
       "37 0.13270147        \n",
       "38 0.13397157        \n",
       "39 0.13530085        \n",
       "40 0.13606890        "
      ]
     },
     "metadata": {},
     "output_type": "display_data"
    }
   ],
   "source": [
    "roc_info=data.frame(roc_mod$sensitivities*100,(1-roc_mod$specificities)*100,roc_mod$thresholds)\n",
    "head(roc_info,40)\n",
    "#Qué valores de sensibilidad y 1-esp generan los umbrales (0.5,0.7)"
   ]
  },
  {
   "cell_type": "code",
   "execution_count": 61,
   "id": "fe066915",
   "metadata": {},
   "outputs": [
    {
     "data": {
      "text/plain": [
       "                   Length Class  Mode     \n",
       "percent              1    -none- logical  \n",
       "sensitivities      392    -none- numeric  \n",
       "specificities      392    -none- numeric  \n",
       "thresholds         392    -none- numeric  \n",
       "direction            1    -none- character\n",
       "cases              127    -none- numeric  \n",
       "controls           273    -none- numeric  \n",
       "fun.sesp             1    -none- function \n",
       "auc                  1    auc    numeric  \n",
       "call                 6    -none- call     \n",
       "original.predictor 400    -none- numeric  \n",
       "original.response  400    -none- numeric  \n",
       "predictor          400    -none- numeric  \n",
       "response           400    -none- numeric  \n",
       "levels               2    -none- character"
      ]
     },
     "metadata": {},
     "output_type": "display_data"
    }
   ],
   "source": [
    "summary(roc_mod)"
   ]
  },
  {
   "cell_type": "code",
   "execution_count": 62,
   "id": "b2021936",
   "metadata": {},
   "outputs": [
    {
     "name": "stderr",
     "output_type": "stream",
     "text": [
      "Warning message:\n",
      "\"package 'ROCR' was built under R version 4.0.5\"\n"
     ]
    },
    {
     "data": {
      "image/png": "[encoded data removed]",
      "text/plain": [
       "plot without title"
      ]
     },
     "metadata": {
      "image/png": {
       "height": 420,
       "width": 420
      }
     },
     "output_type": "display_data"
    }
   ],
   "source": [
    "#install.packages('ROCR')\n",
    "library(ROCR)\n",
    "pred=prediction(admission$admit,admission$lab_admit)\n",
    "perf=performance(pred,'tpr','fpr')\n",
    "plot(perf,lty=3,colorize=TRUE)"
   ]
  },
  {
   "cell_type": "code",
   "execution_count": 63,
   "id": "64eccf59",
   "metadata": {},
   "outputs": [
    {
     "data": {
      "text/plain": [
       "     Length       Class        Mode \n",
       "          1 performance          S4 "
      ]
     },
     "metadata": {},
     "output_type": "display_data"
    }
   ],
   "source": [
    "summary(perf)"
   ]
  },
  {
   "cell_type": "markdown",
   "id": "e03eb0bd",
   "metadata": {},
   "source": [
    "**Tarea: Estimar ROC y AUC para el modelo logit1**"
   ]
  },
  {
   "cell_type": "code",
   "execution_count": null,
   "id": "ffb6613d",
   "metadata": {},
   "outputs": [],
   "source": []
  }
 ],
 "metadata": {
  "kernelspec": {
   "display_name": "R",
   "language": "R",
   "name": "ir"
  },
  "language_info": {
   "codemirror_mode": "r",
   "file_extension": ".r",
   "mimetype": "text/x-r-source",
   "name": "R",
   "pygments_lexer": "r",
   "version": "4.0.4"
  }
 },
 "nbformat": 4,
 "nbformat_minor": 5
}
