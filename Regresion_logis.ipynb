{
 "cells": [
  {
   "cell_type": "markdown",
   "id": "62021f69",
   "metadata": {},
   "source": [
    "## Horas de estudio y aprobar el examen de Modelos Lineales Generalizados"
   ]
  },
  {
   "cell_type": "code",
   "execution_count": 16,
   "id": "ca756188",
   "metadata": {},
   "outputs": [],
   "source": [
    "Hours=c(0.5,0.75,1,1.25,1.5,1.75,1.75,2,2.25,2.5,2.75,3,3.25,3.5,4,4.25,4.5,4.75,5,5.5) #horas de estudio\n",
    "Pass=c(0,0,0,0,0,0,1,0,1,0,1,0,1,0,1,1,1,1,1,1) #Aprobar el examen\n",
    "# O es No aprobar\n",
    "# 1 es Sí aprobar"
   ]
  },
  {
   "cell_type": "code",
   "execution_count": 17,
   "id": "6ca72810",
   "metadata": {},
   "outputs": [
    {
     "data": {
      "text/html": [
       "<table class=\"dataframe\">\n",
       "<caption>A data.frame: 20 × 2</caption>\n",
       "<thead>\n",
       "\t<tr><th scope=col>Hours</th><th scope=col>Pass</th></tr>\n",
       "\t<tr><th scope=col>&lt;dbl&gt;</th><th scope=col>&lt;dbl&gt;</th></tr>\n",
       "</thead>\n",
       "<tbody>\n",
       "\t<tr><td>0.50</td><td>0</td></tr>\n",
       "\t<tr><td>0.75</td><td>0</td></tr>\n",
       "\t<tr><td>1.00</td><td>0</td></tr>\n",
       "\t<tr><td>1.25</td><td>0</td></tr>\n",
       "\t<tr><td>1.50</td><td>0</td></tr>\n",
       "\t<tr><td>1.75</td><td>0</td></tr>\n",
       "\t<tr><td>1.75</td><td>1</td></tr>\n",
       "\t<tr><td>2.00</td><td>0</td></tr>\n",
       "\t<tr><td>2.25</td><td>1</td></tr>\n",
       "\t<tr><td>2.50</td><td>0</td></tr>\n",
       "\t<tr><td>2.75</td><td>1</td></tr>\n",
       "\t<tr><td>3.00</td><td>0</td></tr>\n",
       "\t<tr><td>3.25</td><td>1</td></tr>\n",
       "\t<tr><td>3.50</td><td>0</td></tr>\n",
       "\t<tr><td>4.00</td><td>1</td></tr>\n",
       "\t<tr><td>4.25</td><td>1</td></tr>\n",
       "\t<tr><td>4.50</td><td>1</td></tr>\n",
       "\t<tr><td>4.75</td><td>1</td></tr>\n",
       "\t<tr><td>5.00</td><td>1</td></tr>\n",
       "\t<tr><td>5.50</td><td>1</td></tr>\n",
       "</tbody>\n",
       "</table>\n"
      ],
      "text/latex": [
       "A data.frame: 20 × 2\n",
       "\\begin{tabular}{ll}\n",
       " Hours & Pass\\\\\n",
       " <dbl> & <dbl>\\\\\n",
       "\\hline\n",
       "\t 0.50 & 0\\\\\n",
       "\t 0.75 & 0\\\\\n",
       "\t 1.00 & 0\\\\\n",
       "\t 1.25 & 0\\\\\n",
       "\t 1.50 & 0\\\\\n",
       "\t 1.75 & 0\\\\\n",
       "\t 1.75 & 1\\\\\n",
       "\t 2.00 & 0\\\\\n",
       "\t 2.25 & 1\\\\\n",
       "\t 2.50 & 0\\\\\n",
       "\t 2.75 & 1\\\\\n",
       "\t 3.00 & 0\\\\\n",
       "\t 3.25 & 1\\\\\n",
       "\t 3.50 & 0\\\\\n",
       "\t 4.00 & 1\\\\\n",
       "\t 4.25 & 1\\\\\n",
       "\t 4.50 & 1\\\\\n",
       "\t 4.75 & 1\\\\\n",
       "\t 5.00 & 1\\\\\n",
       "\t 5.50 & 1\\\\\n",
       "\\end{tabular}\n"
      ],
      "text/markdown": [
       "\n",
       "A data.frame: 20 × 2\n",
       "\n",
       "| Hours &lt;dbl&gt; | Pass &lt;dbl&gt; |\n",
       "|---|---|\n",
       "| 0.50 | 0 |\n",
       "| 0.75 | 0 |\n",
       "| 1.00 | 0 |\n",
       "| 1.25 | 0 |\n",
       "| 1.50 | 0 |\n",
       "| 1.75 | 0 |\n",
       "| 1.75 | 1 |\n",
       "| 2.00 | 0 |\n",
       "| 2.25 | 1 |\n",
       "| 2.50 | 0 |\n",
       "| 2.75 | 1 |\n",
       "| 3.00 | 0 |\n",
       "| 3.25 | 1 |\n",
       "| 3.50 | 0 |\n",
       "| 4.00 | 1 |\n",
       "| 4.25 | 1 |\n",
       "| 4.50 | 1 |\n",
       "| 4.75 | 1 |\n",
       "| 5.00 | 1 |\n",
       "| 5.50 | 1 |\n",
       "\n"
      ],
      "text/plain": [
       "   Hours Pass\n",
       "1  0.50  0   \n",
       "2  0.75  0   \n",
       "3  1.00  0   \n",
       "4  1.25  0   \n",
       "5  1.50  0   \n",
       "6  1.75  0   \n",
       "7  1.75  1   \n",
       "8  2.00  0   \n",
       "9  2.25  1   \n",
       "10 2.50  0   \n",
       "11 2.75  1   \n",
       "12 3.00  0   \n",
       "13 3.25  1   \n",
       "14 3.50  0   \n",
       "15 4.00  1   \n",
       "16 4.25  1   \n",
       "17 4.50  1   \n",
       "18 4.75  1   \n",
       "19 5.00  1   \n",
       "20 5.50  1   "
      ]
     },
     "metadata": {},
     "output_type": "display_data"
    }
   ],
   "source": [
    "df1=data.frame(Hours,Pass)\n",
    "df1"
   ]
  },
  {
   "cell_type": "code",
   "execution_count": 23,
   "id": "0ec21227",
   "metadata": {},
   "outputs": [
    {
     "data": {
      "text/plain": [
       "\n",
       "Call:\n",
       "glm(formula = Pass ~ Hours, family = \"binomial\", data = df1)\n",
       "\n",
       "Deviance Residuals: \n",
       "     Min        1Q    Median        3Q       Max  \n",
       "-1.70557  -0.57357  -0.04654   0.45470   1.82008  \n",
       "\n",
       "Coefficients:\n",
       "            Estimate Std. Error z value Pr(>|z|)  \n",
       "(Intercept)  -4.0777     1.7610  -2.316   0.0206 *\n",
       "Hours         1.5046     0.6287   2.393   0.0167 *\n",
       "---\n",
       "Signif. codes:  0 '***' 0.001 '**' 0.01 '*' 0.05 '.' 0.1 ' ' 1\n",
       "\n",
       "(Dispersion parameter for binomial family taken to be 1)\n",
       "\n",
       "    Null deviance: 27.726  on 19  degrees of freedom\n",
       "Residual deviance: 16.060  on 18  degrees of freedom\n",
       "AIC: 20.06\n",
       "\n",
       "Number of Fisher Scoring iterations: 5\n"
      ]
     },
     "metadata": {},
     "output_type": "display_data"
    }
   ],
   "source": [
    "#Crear nuestro MLG con glm \n",
    "logit0=glm(Pass~Hours,data=df1,family='binomial') #en rls o rlm, la función es lm\n",
    "#logit0 es un objeto glm \n",
    "summary(logit0)"
   ]
  },
  {
   "cell_type": "code",
   "execution_count": 26,
   "id": "77161b36",
   "metadata": {},
   "outputs": [
    {
     "data": {
      "text/plain": [
       "'log Lik.' -8.029878 (df=2)"
      ]
     },
     "metadata": {},
     "output_type": "display_data"
    }
   ],
   "source": [
    "logLik(logit0) #Esto es la verosimilitud del modelo log0"
   ]
  },
  {
   "cell_type": "code",
   "execution_count": 27,
   "id": "537f2d7b",
   "metadata": {},
   "outputs": [
    {
     "data": {
      "text/plain": [
       "'log Lik.' 16.05976 (df=2)"
      ]
     },
     "metadata": {},
     "output_type": "display_data"
    }
   ],
   "source": [
    "-2*logLik(logit0) #Esto es la devianza del modelo log0 (-2*logLik(log0))"
   ]
  },
  {
   "cell_type": "markdown",
   "id": "fbefc7ae",
   "metadata": {},
   "source": [
    "### Construir el modelo nulo de regresión logística para df1"
   ]
  },
  {
   "cell_type": "code",
   "execution_count": 30,
   "id": "95c07e18",
   "metadata": {},
   "outputs": [
    {
     "data": {
      "text/plain": [
       "\n",
       "Call:\n",
       "glm(formula = Pass ~ 1, family = \"binomial\", data = df1)\n",
       "\n",
       "Deviance Residuals: \n",
       "   Min      1Q  Median      3Q     Max  \n",
       "-1.177  -1.177   0.000   1.177   1.177  \n",
       "\n",
       "Coefficients:\n",
       "              Estimate Std. Error z value Pr(>|z|)\n",
       "(Intercept) -9.930e-17  4.472e-01       0        1\n",
       "\n",
       "(Dispersion parameter for binomial family taken to be 1)\n",
       "\n",
       "    Null deviance: 27.726  on 19  degrees of freedom\n",
       "Residual deviance: 27.726  on 19  degrees of freedom\n",
       "AIC: 29.726\n",
       "\n",
       "Number of Fisher Scoring iterations: 2\n"
      ]
     },
     "metadata": {},
     "output_type": "display_data"
    }
   ],
   "source": [
    "logit_nulo=glm(Pass~1,data=df1,family='binomial')\n",
    "summary(logit_nulo)"
   ]
  },
  {
   "cell_type": "code",
   "execution_count": 33,
   "id": "06e3d070",
   "metadata": {},
   "outputs": [
    {
     "data": {
      "text/plain": [
       "'log Lik.' -13.86294 (df=1)"
      ]
     },
     "metadata": {},
     "output_type": "display_data"
    }
   ],
   "source": [
    "logLik(logit_nulo)"
   ]
  },
  {
   "cell_type": "code",
   "execution_count": 31,
   "id": "440337ef",
   "metadata": {},
   "outputs": [],
   "source": [
    "library(lmtest)"
   ]
  },
  {
   "cell_type": "code",
   "execution_count": 32,
   "id": "89553a8e",
   "metadata": {},
   "outputs": [
    {
     "data": {
      "text/html": [
       "<table class=\"dataframe\">\n",
       "<caption>A anova: 2 × 5</caption>\n",
       "<thead>\n",
       "\t<tr><th></th><th scope=col>#Df</th><th scope=col>LogLik</th><th scope=col>Df</th><th scope=col>Chisq</th><th scope=col>Pr(&gt;Chisq)</th></tr>\n",
       "\t<tr><th></th><th scope=col>&lt;dbl&gt;</th><th scope=col>&lt;dbl&gt;</th><th scope=col>&lt;dbl&gt;</th><th scope=col>&lt;dbl&gt;</th><th scope=col>&lt;dbl&gt;</th></tr>\n",
       "</thead>\n",
       "<tbody>\n",
       "\t<tr><th scope=row>1</th><td>2</td><td> -8.029878</td><td>NA</td><td>      NA</td><td>          NA</td></tr>\n",
       "\t<tr><th scope=row>2</th><td>1</td><td>-13.862944</td><td>-1</td><td>11.66613</td><td>0.0006364826</td></tr>\n",
       "</tbody>\n",
       "</table>\n"
      ],
      "text/latex": [
       "A anova: 2 × 5\n",
       "\\begin{tabular}{r|lllll}\n",
       "  & \\#Df & LogLik & Df & Chisq & Pr(>Chisq)\\\\\n",
       "  & <dbl> & <dbl> & <dbl> & <dbl> & <dbl>\\\\\n",
       "\\hline\n",
       "\t1 & 2 &  -8.029878 & NA &       NA &           NA\\\\\n",
       "\t2 & 1 & -13.862944 & -1 & 11.66613 & 0.0006364826\\\\\n",
       "\\end{tabular}\n"
      ],
      "text/markdown": [
       "\n",
       "A anova: 2 × 5\n",
       "\n",
       "| <!--/--> | #Df &lt;dbl&gt; | LogLik &lt;dbl&gt; | Df &lt;dbl&gt; | Chisq &lt;dbl&gt; | Pr(&gt;Chisq) &lt;dbl&gt; |\n",
       "|---|---|---|---|---|---|\n",
       "| 1 | 2 |  -8.029878 | NA |       NA |           NA |\n",
       "| 2 | 1 | -13.862944 | -1 | 11.66613 | 0.0006364826 |\n",
       "\n"
      ],
      "text/plain": [
       "  #Df LogLik     Df Chisq    Pr(>Chisq)  \n",
       "1 2    -8.029878 NA       NA           NA\n",
       "2 1   -13.862944 -1 11.66613 0.0006364826"
      ]
     },
     "metadata": {},
     "output_type": "display_data"
    }
   ],
   "source": [
    "lrtest(logit0,logit_nulo)"
   ]
  },
  {
   "cell_type": "code",
   "execution_count": 39,
   "id": "afe863ea",
   "metadata": {},
   "outputs": [
    {
     "data": {
      "text/html": [
       "11.6661302937085"
      ],
      "text/latex": [
       "11.6661302937085"
      ],
      "text/markdown": [
       "11.6661302937085"
      ],
      "text/plain": [
       "[1] 11.66613"
      ]
     },
     "metadata": {},
     "output_type": "display_data"
    }
   ],
   "source": [
    "#Deviance\n",
    "with(logit0,null.deviance-deviance) #pull "
   ]
  },
  {
   "cell_type": "code",
   "execution_count": 38,
   "id": "a1908a90",
   "metadata": {},
   "outputs": [
    {
     "data": {
      "text/html": [
       "11.6661302937085"
      ],
      "text/latex": [
       "11.6661302937085"
      ],
      "text/markdown": [
       "11.6661302937085"
      ],
      "text/plain": [
       "[1] 11.66613"
      ]
     },
     "metadata": {},
     "output_type": "display_data"
    }
   ],
   "source": [
    "logit0$null.deviance-logit0$deviance"
   ]
  },
  {
   "cell_type": "code",
   "execution_count": 40,
   "id": "523157cf",
   "metadata": {},
   "outputs": [
    {
     "data": {
      "text/html": [
       "0.000636482618521712"
      ],
      "text/latex": [
       "0.000636482618521712"
      ],
      "text/markdown": [
       "0.000636482618521712"
      ],
      "text/plain": [
       "[1] 0.0006364826"
      ]
     },
     "metadata": {},
     "output_type": "display_data"
    }
   ],
   "source": [
    "with(logit0,pchisq(null.deviance-deviance,df.null-df.residual,lower.tail=FALSE))"
   ]
  },
  {
   "cell_type": "code",
   "execution_count": 34,
   "id": "81a0829e",
   "metadata": {},
   "outputs": [
    {
     "data": {
      "text/html": [
       "<style>\n",
       ".list-inline {list-style: none; margin:0; padding: 0}\n",
       ".list-inline>li {display: inline-block}\n",
       ".list-inline>li:not(:last-child)::after {content: \"\\00b7\"; padding: 0 .5ex}\n",
       "</style>\n",
       "<ol class=list-inline><li>'glm'</li><li>'lm'</li></ol>\n"
      ],
      "text/latex": [
       "\\begin{enumerate*}\n",
       "\\item 'glm'\n",
       "\\item 'lm'\n",
       "\\end{enumerate*}\n"
      ],
      "text/markdown": [
       "1. 'glm'\n",
       "2. 'lm'\n",
       "\n",
       "\n"
      ],
      "text/plain": [
       "[1] \"glm\" \"lm\" "
      ]
     },
     "metadata": {},
     "output_type": "display_data"
    }
   ],
   "source": [
    "class(logit0)"
   ]
  },
  {
   "cell_type": "code",
   "execution_count": 19,
   "id": "c71bafcb",
   "metadata": {},
   "outputs": [],
   "source": [
    "#Hacer las observaciones pronósticadas (y gorrito)\n",
    "df1$fit_logodds=predict(logit0,list(df1$Hours),type='term')\n",
    "df1$fit_prob=predict(logit0,list(df1$Hours),type='response')"
   ]
  },
  {
   "cell_type": "code",
   "execution_count": 20,
   "id": "e1ac5f31",
   "metadata": {},
   "outputs": [
    {
     "data": {
      "text/html": [
       "'D:/PythonSSD'"
      ],
      "text/latex": [
       "'D:/PythonSSD'"
      ],
      "text/markdown": [
       "'D:/PythonSSD'"
      ],
      "text/plain": [
       "[1] \"D:/PythonSSD\""
      ]
     },
     "metadata": {},
     "output_type": "display_data"
    }
   ],
   "source": [
    "getwd()"
   ]
  },
  {
   "cell_type": "code",
   "execution_count": null,
   "id": "a0089363",
   "metadata": {},
   "outputs": [],
   "source": []
  },
  {
   "cell_type": "code",
   "execution_count": 21,
   "id": "6cd34156",
   "metadata": {},
   "outputs": [
    {
     "data": {
      "text/html": [
       "<table class=\"dataframe\">\n",
       "<caption>A data.frame: 20 × 4</caption>\n",
       "<thead>\n",
       "\t<tr><th scope=col>Hours</th><th scope=col>Pass</th><th scope=col>fit_logodds</th><th scope=col>fit_prob</th></tr>\n",
       "\t<tr><th scope=col>&lt;dbl&gt;</th><th scope=col>&lt;dbl&gt;</th><th scope=col>&lt;dbl[,1]&gt;</th><th scope=col>&lt;dbl&gt;</th></tr>\n",
       "</thead>\n",
       "<tbody>\n",
       "\t<tr><td>0.50</td><td>0</td><td>-3.4418764</td><td>0.03471034</td></tr>\n",
       "\t<tr><td>0.75</td><td>0</td><td>-3.0657151</td><td>0.04977295</td></tr>\n",
       "\t<tr><td>1.00</td><td>0</td><td>-2.6895537</td><td>0.07089196</td></tr>\n",
       "\t<tr><td>1.25</td><td>0</td><td>-2.3133923</td><td>0.10002862</td></tr>\n",
       "\t<tr><td>1.50</td><td>0</td><td>-1.9372310</td><td>0.13934447</td></tr>\n",
       "\t<tr><td>1.75</td><td>0</td><td>-1.5610696</td><td>0.19083650</td></tr>\n",
       "\t<tr><td>1.75</td><td>1</td><td>-1.5610696</td><td>0.19083650</td></tr>\n",
       "\t<tr><td>2.00</td><td>0</td><td>-1.1849083</td><td>0.25570318</td></tr>\n",
       "\t<tr><td>2.25</td><td>1</td><td>-0.8087469</td><td>0.33353024</td></tr>\n",
       "\t<tr><td>2.50</td><td>0</td><td>-0.4325856</td><td>0.42162653</td></tr>\n",
       "\t<tr><td>2.75</td><td>1</td><td>-0.0564242</td><td>0.51501086</td></tr>\n",
       "\t<tr><td>3.00</td><td>0</td><td> 0.3197372</td><td>0.60735865</td></tr>\n",
       "\t<tr><td>3.25</td><td>1</td><td> 0.6958985</td><td>0.69261733</td></tr>\n",
       "\t<tr><td>3.50</td><td>0</td><td> 1.0720599</td><td>0.76648084</td></tr>\n",
       "\t<tr><td>4.00</td><td>1</td><td> 1.8243826</td><td>0.87444750</td></tr>\n",
       "\t<tr><td>4.25</td><td>1</td><td> 2.2005439</td><td>0.91027764</td></tr>\n",
       "\t<tr><td>4.50</td><td>1</td><td> 2.5767053</td><td>0.93662366</td></tr>\n",
       "\t<tr><td>4.75</td><td>1</td><td> 2.9528667</td><td>0.95561071</td></tr>\n",
       "\t<tr><td>5.00</td><td>1</td><td> 3.3290280</td><td>0.96909707</td></tr>\n",
       "\t<tr><td>5.50</td><td>1</td><td> 4.0813507</td><td>0.98519444</td></tr>\n",
       "</tbody>\n",
       "</table>\n"
      ],
      "text/latex": [
       "A data.frame: 20 × 4\n",
       "\\begin{tabular}{llll}\n",
       " Hours & Pass & fit\\_logodds & fit\\_prob\\\\\n",
       " <dbl> & <dbl> & <dbl{[},1{]}> & <dbl>\\\\\n",
       "\\hline\n",
       "\t 0.50 & 0 & -3.4418764 & 0.03471034\\\\\n",
       "\t 0.75 & 0 & -3.0657151 & 0.04977295\\\\\n",
       "\t 1.00 & 0 & -2.6895537 & 0.07089196\\\\\n",
       "\t 1.25 & 0 & -2.3133923 & 0.10002862\\\\\n",
       "\t 1.50 & 0 & -1.9372310 & 0.13934447\\\\\n",
       "\t 1.75 & 0 & -1.5610696 & 0.19083650\\\\\n",
       "\t 1.75 & 1 & -1.5610696 & 0.19083650\\\\\n",
       "\t 2.00 & 0 & -1.1849083 & 0.25570318\\\\\n",
       "\t 2.25 & 1 & -0.8087469 & 0.33353024\\\\\n",
       "\t 2.50 & 0 & -0.4325856 & 0.42162653\\\\\n",
       "\t 2.75 & 1 & -0.0564242 & 0.51501086\\\\\n",
       "\t 3.00 & 0 &  0.3197372 & 0.60735865\\\\\n",
       "\t 3.25 & 1 &  0.6958985 & 0.69261733\\\\\n",
       "\t 3.50 & 0 &  1.0720599 & 0.76648084\\\\\n",
       "\t 4.00 & 1 &  1.8243826 & 0.87444750\\\\\n",
       "\t 4.25 & 1 &  2.2005439 & 0.91027764\\\\\n",
       "\t 4.50 & 1 &  2.5767053 & 0.93662366\\\\\n",
       "\t 4.75 & 1 &  2.9528667 & 0.95561071\\\\\n",
       "\t 5.00 & 1 &  3.3290280 & 0.96909707\\\\\n",
       "\t 5.50 & 1 &  4.0813507 & 0.98519444\\\\\n",
       "\\end{tabular}\n"
      ],
      "text/markdown": [
       "\n",
       "A data.frame: 20 × 4\n",
       "\n",
       "| Hours &lt;dbl&gt; | Pass &lt;dbl&gt; | fit_logodds &lt;dbl[,1]&gt; | fit_prob &lt;dbl&gt; |\n",
       "|---|---|---|---|\n",
       "| 0.50 | 0 | -3.4418764 | 0.03471034 |\n",
       "| 0.75 | 0 | -3.0657151 | 0.04977295 |\n",
       "| 1.00 | 0 | -2.6895537 | 0.07089196 |\n",
       "| 1.25 | 0 | -2.3133923 | 0.10002862 |\n",
       "| 1.50 | 0 | -1.9372310 | 0.13934447 |\n",
       "| 1.75 | 0 | -1.5610696 | 0.19083650 |\n",
       "| 1.75 | 1 | -1.5610696 | 0.19083650 |\n",
       "| 2.00 | 0 | -1.1849083 | 0.25570318 |\n",
       "| 2.25 | 1 | -0.8087469 | 0.33353024 |\n",
       "| 2.50 | 0 | -0.4325856 | 0.42162653 |\n",
       "| 2.75 | 1 | -0.0564242 | 0.51501086 |\n",
       "| 3.00 | 0 |  0.3197372 | 0.60735865 |\n",
       "| 3.25 | 1 |  0.6958985 | 0.69261733 |\n",
       "| 3.50 | 0 |  1.0720599 | 0.76648084 |\n",
       "| 4.00 | 1 |  1.8243826 | 0.87444750 |\n",
       "| 4.25 | 1 |  2.2005439 | 0.91027764 |\n",
       "| 4.50 | 1 |  2.5767053 | 0.93662366 |\n",
       "| 4.75 | 1 |  2.9528667 | 0.95561071 |\n",
       "| 5.00 | 1 |  3.3290280 | 0.96909707 |\n",
       "| 5.50 | 1 |  4.0813507 | 0.98519444 |\n",
       "\n"
      ],
      "text/plain": [
       "   Hours Pass fit_logodds fit_prob  \n",
       "1  0.50  0    -3.4418764  0.03471034\n",
       "2  0.75  0    -3.0657151  0.04977295\n",
       "3  1.00  0    -2.6895537  0.07089196\n",
       "4  1.25  0    -2.3133923  0.10002862\n",
       "5  1.50  0    -1.9372310  0.13934447\n",
       "6  1.75  0    -1.5610696  0.19083650\n",
       "7  1.75  1    -1.5610696  0.19083650\n",
       "8  2.00  0    -1.1849083  0.25570318\n",
       "9  2.25  1    -0.8087469  0.33353024\n",
       "10 2.50  0    -0.4325856  0.42162653\n",
       "11 2.75  1    -0.0564242  0.51501086\n",
       "12 3.00  0     0.3197372  0.60735865\n",
       "13 3.25  1     0.6958985  0.69261733\n",
       "14 3.50  0     1.0720599  0.76648084\n",
       "15 4.00  1     1.8243826  0.87444750\n",
       "16 4.25  1     2.2005439  0.91027764\n",
       "17 4.50  1     2.5767053  0.93662366\n",
       "18 4.75  1     2.9528667  0.95561071\n",
       "19 5.00  1     3.3290280  0.96909707\n",
       "20 5.50  1     4.0813507  0.98519444"
      ]
     },
     "metadata": {},
     "output_type": "display_data"
    }
   ],
   "source": [
    "df1\n",
    "write.csv(df1,'logistica.csv')"
   ]
  },
  {
   "cell_type": "code",
   "execution_count": 22,
   "id": "76b87e4a",
   "metadata": {},
   "outputs": [
    {
     "ename": "ERROR",
     "evalue": "Error in `$<-.data.frame`(`*tmp*`, pass_pred, value = logical(0)): replacement has 0 rows, data has 20\n",
     "output_type": "error",
     "traceback": [
      "Error in `$<-.data.frame`(`*tmp*`, pass_pred, value = logical(0)): replacement has 0 rows, data has 20\nTraceback:\n",
      "1. `$<-`(`*tmp*`, pass_pred, value = logical(0))",
      "2. `$<-.data.frame`(`*tmp*`, pass_pred, value = logical(0))",
      "3. stop(sprintf(ngettext(N, \"replacement has %d row, data has %d\", \n .     \"replacement has %d rows, data has %d\"), N, nrows), domain = NA)"
     ]
    }
   ],
   "source": [
    "df1$pass_pred=ifelse(df1$fitted<0.5,0,1)"
   ]
  },
  {
   "cell_type": "code",
   "execution_count": null,
   "id": "710331de",
   "metadata": {},
   "outputs": [],
   "source": [
    "df1"
   ]
  },
  {
   "cell_type": "code",
   "execution_count": 41,
   "id": "599a40fe",
   "metadata": {},
   "outputs": [
    {
     "data": {
      "image/png": "[encoded data removed]",
      "text/plain": [
       "Plot with title \"Normal Q-Q Plot\""
      ]
     },
     "metadata": {
      "image/png": {
       "height": 420,
       "width": 420
      }
     },
     "output_type": "display_data"
    }
   ],
   "source": [
    "#Ayuda visual de los residuos\n",
    "layout(matrix(c(1,1,2,3),2,2,byrow=T)) #matriz para layout\n",
    "plot(logit0$resid~df1$Pass[order(df1$Pass)],\n",
    " main=\"Predict x Residuals\\nfor Simple Regression\",\n",
    " xlab=\"Predict\", ylab=\"Residuals\")\n",
    "abline(h=0,lty=2)\n",
    "#Histogram of Residuals\n",
    "hist(logit0$resid, main=\"Histogram of Residuals\",\n",
    " ylab=\"Residuals\")\n",
    "#Q-Q Plot\n",
    "qqnorm(logit0$resid)\n",
    "qqline(logit0$resid)"
   ]
  },
  {
   "cell_type": "code",
   "execution_count": null,
   "id": "5ee63888",
   "metadata": {},
   "outputs": [],
   "source": [
    "#Deviance\n",
    "with(logit0,null.deviance-deviance)"
   ]
  },
  {
   "cell_type": "code",
   "execution_count": null,
   "id": "a1225a7e",
   "metadata": {},
   "outputs": [],
   "source": [
    "with(logit0,df.null-df.residual)"
   ]
  },
  {
   "cell_type": "code",
   "execution_count": null,
   "id": "8097718e",
   "metadata": {},
   "outputs": [],
   "source": [
    "with(logit0,pchisq(null.deviance-deviance,df.null-df.residual,lower.tail=FALSE))"
   ]
  },
  {
   "cell_type": "code",
   "execution_count": null,
   "id": "dcdcaef6",
   "metadata": {},
   "outputs": [],
   "source": [
    "library(lmtest)"
   ]
  },
  {
   "cell_type": "code",
   "execution_count": 29,
   "id": "90c3dd30",
   "metadata": {},
   "outputs": [
    {
     "data": {
      "text/plain": [
       "\n",
       "Call:\n",
       "glm(formula = Pass ~ 1, family = \"binomial\", data = df1)\n",
       "\n",
       "Deviance Residuals: \n",
       "   Min      1Q  Median      3Q     Max  \n",
       "-1.177  -1.177   0.000   1.177   1.177  \n",
       "\n",
       "Coefficients:\n",
       "              Estimate Std. Error z value Pr(>|z|)\n",
       "(Intercept) -9.930e-17  4.472e-01       0        1\n",
       "\n",
       "(Dispersion parameter for binomial family taken to be 1)\n",
       "\n",
       "    Null deviance: 27.726  on 19  degrees of freedom\n",
       "Residual deviance: 27.726  on 19  degrees of freedom\n",
       "AIC: 29.726\n",
       "\n",
       "Number of Fisher Scoring iterations: 2\n"
      ]
     },
     "metadata": {},
     "output_type": "display_data"
    }
   ],
   "source": [
    "logit00=glm(Pass~1,data=df1,family='binomial')\n",
    "summary(logit00)"
   ]
  },
  {
   "cell_type": "code",
   "execution_count": 24,
   "id": "5383f8f5",
   "metadata": {},
   "outputs": [
    {
     "data": {
      "text/html": [
       "<table class=\"dataframe\">\n",
       "<caption>A anova: 2 × 5</caption>\n",
       "<thead>\n",
       "\t<tr><th></th><th scope=col>#Df</th><th scope=col>LogLik</th><th scope=col>Df</th><th scope=col>Chisq</th><th scope=col>Pr(&gt;Chisq)</th></tr>\n",
       "\t<tr><th></th><th scope=col>&lt;dbl&gt;</th><th scope=col>&lt;dbl&gt;</th><th scope=col>&lt;dbl&gt;</th><th scope=col>&lt;dbl&gt;</th><th scope=col>&lt;dbl&gt;</th></tr>\n",
       "</thead>\n",
       "<tbody>\n",
       "\t<tr><th scope=row>1</th><td>2</td><td> -8.029878</td><td>NA</td><td>      NA</td><td>          NA</td></tr>\n",
       "\t<tr><th scope=row>2</th><td>1</td><td>-13.862944</td><td>-1</td><td>11.66613</td><td>0.0006364826</td></tr>\n",
       "</tbody>\n",
       "</table>\n"
      ],
      "text/latex": [
       "A anova: 2 × 5\n",
       "\\begin{tabular}{r|lllll}\n",
       "  & \\#Df & LogLik & Df & Chisq & Pr(>Chisq)\\\\\n",
       "  & <dbl> & <dbl> & <dbl> & <dbl> & <dbl>\\\\\n",
       "\\hline\n",
       "\t1 & 2 &  -8.029878 & NA &       NA &           NA\\\\\n",
       "\t2 & 1 & -13.862944 & -1 & 11.66613 & 0.0006364826\\\\\n",
       "\\end{tabular}\n"
      ],
      "text/markdown": [
       "\n",
       "A anova: 2 × 5\n",
       "\n",
       "| <!--/--> | #Df &lt;dbl&gt; | LogLik &lt;dbl&gt; | Df &lt;dbl&gt; | Chisq &lt;dbl&gt; | Pr(&gt;Chisq) &lt;dbl&gt; |\n",
       "|---|---|---|---|---|---|\n",
       "| 1 | 2 |  -8.029878 | NA |       NA |           NA |\n",
       "| 2 | 1 | -13.862944 | -1 | 11.66613 | 0.0006364826 |\n",
       "\n"
      ],
      "text/plain": [
       "  #Df LogLik     Df Chisq    Pr(>Chisq)  \n",
       "1 2    -8.029878 NA       NA           NA\n",
       "2 1   -13.862944 -1 11.66613 0.0006364826"
      ]
     },
     "metadata": {},
     "output_type": "display_data"
    }
   ],
   "source": [
    "lrtest(logit0,logit00)"
   ]
  },
  {
   "cell_type": "code",
   "execution_count": 25,
   "id": "8e5f9b34",
   "metadata": {},
   "outputs": [
    {
     "data": {
      "text/plain": [
       "'log Lik.' -8.029878 (df=2)"
      ]
     },
     "metadata": {},
     "output_type": "display_data"
    }
   ],
   "source": [
    "logLik(logit0)"
   ]
  },
  {
   "cell_type": "markdown",
   "id": "255ab98e",
   "metadata": {},
   "source": [
    "## Ejercicio 2\n",
    "\n",
    "A researcher is interested in how variables, such as GRE (Graduate Record Exam scores), GPA (grade point average) and prestige of the undergraduate institution, effect admission into graduate school. The response variable, admit/don’t admit, is a binary variable.\n",
    "\n",
    "### Tarea: Construir un modelo de regresión logística para este ejemplo\n"
   ]
  },
  {
   "cell_type": "code",
   "execution_count": 44,
   "id": "e44c63e9",
   "metadata": {},
   "outputs": [
    {
     "data": {
      "text/html": [
       "<table class=\"dataframe\">\n",
       "<caption>A data.frame: 10 × 4</caption>\n",
       "<thead>\n",
       "\t<tr><th></th><th scope=col>admit</th><th scope=col>gre</th><th scope=col>gpa</th><th scope=col>rank</th></tr>\n",
       "\t<tr><th></th><th scope=col>&lt;int&gt;</th><th scope=col>&lt;int&gt;</th><th scope=col>&lt;dbl&gt;</th><th scope=col>&lt;int&gt;</th></tr>\n",
       "</thead>\n",
       "<tbody>\n",
       "\t<tr><th scope=row>1</th><td>0</td><td>380</td><td>3.61</td><td>3</td></tr>\n",
       "\t<tr><th scope=row>2</th><td>1</td><td>660</td><td>3.67</td><td>3</td></tr>\n",
       "\t<tr><th scope=row>3</th><td>1</td><td>800</td><td>4.00</td><td>1</td></tr>\n",
       "\t<tr><th scope=row>4</th><td>1</td><td>640</td><td>3.19</td><td>4</td></tr>\n",
       "\t<tr><th scope=row>5</th><td>0</td><td>520</td><td>2.93</td><td>4</td></tr>\n",
       "\t<tr><th scope=row>6</th><td>1</td><td>760</td><td>3.00</td><td>2</td></tr>\n",
       "\t<tr><th scope=row>7</th><td>1</td><td>560</td><td>2.98</td><td>1</td></tr>\n",
       "\t<tr><th scope=row>8</th><td>0</td><td>400</td><td>3.08</td><td>2</td></tr>\n",
       "\t<tr><th scope=row>9</th><td>1</td><td>540</td><td>3.39</td><td>3</td></tr>\n",
       "\t<tr><th scope=row>10</th><td>0</td><td>700</td><td>3.92</td><td>2</td></tr>\n",
       "</tbody>\n",
       "</table>\n"
      ],
      "text/latex": [
       "A data.frame: 10 × 4\n",
       "\\begin{tabular}{r|llll}\n",
       "  & admit & gre & gpa & rank\\\\\n",
       "  & <int> & <int> & <dbl> & <int>\\\\\n",
       "\\hline\n",
       "\t1 & 0 & 380 & 3.61 & 3\\\\\n",
       "\t2 & 1 & 660 & 3.67 & 3\\\\\n",
       "\t3 & 1 & 800 & 4.00 & 1\\\\\n",
       "\t4 & 1 & 640 & 3.19 & 4\\\\\n",
       "\t5 & 0 & 520 & 2.93 & 4\\\\\n",
       "\t6 & 1 & 760 & 3.00 & 2\\\\\n",
       "\t7 & 1 & 560 & 2.98 & 1\\\\\n",
       "\t8 & 0 & 400 & 3.08 & 2\\\\\n",
       "\t9 & 1 & 540 & 3.39 & 3\\\\\n",
       "\t10 & 0 & 700 & 3.92 & 2\\\\\n",
       "\\end{tabular}\n"
      ],
      "text/markdown": [
       "\n",
       "A data.frame: 10 × 4\n",
       "\n",
       "| <!--/--> | admit &lt;int&gt; | gre &lt;int&gt; | gpa &lt;dbl&gt; | rank &lt;int&gt; |\n",
       "|---|---|---|---|---|\n",
       "| 1 | 0 | 380 | 3.61 | 3 |\n",
       "| 2 | 1 | 660 | 3.67 | 3 |\n",
       "| 3 | 1 | 800 | 4.00 | 1 |\n",
       "| 4 | 1 | 640 | 3.19 | 4 |\n",
       "| 5 | 0 | 520 | 2.93 | 4 |\n",
       "| 6 | 1 | 760 | 3.00 | 2 |\n",
       "| 7 | 1 | 560 | 2.98 | 1 |\n",
       "| 8 | 0 | 400 | 3.08 | 2 |\n",
       "| 9 | 1 | 540 | 3.39 | 3 |\n",
       "| 10 | 0 | 700 | 3.92 | 2 |\n",
       "\n"
      ],
      "text/plain": [
       "   admit gre gpa  rank\n",
       "1  0     380 3.61 3   \n",
       "2  1     660 3.67 3   \n",
       "3  1     800 4.00 1   \n",
       "4  1     640 3.19 4   \n",
       "5  0     520 2.93 4   \n",
       "6  1     760 3.00 2   \n",
       "7  1     560 2.98 1   \n",
       "8  0     400 3.08 2   \n",
       "9  1     540 3.39 3   \n",
       "10 0     700 3.92 2   "
      ]
     },
     "metadata": {},
     "output_type": "display_data"
    }
   ],
   "source": [
    "mydata<- read.csv(\"https://stats.idre.ucla.edu/stat/data/binary.csv\")\n",
    "head(mydata,10)"
   ]
  },
  {
   "cell_type": "code",
   "execution_count": 48,
   "id": "fc359c80",
   "metadata": {},
   "outputs": [
    {
     "data": {
      "text/plain": [
       "     admit             gre             gpa             rank      \n",
       " Min.   :0.0000   Min.   :220.0   Min.   :2.260   Min.   :1.000  \n",
       " 1st Qu.:0.0000   1st Qu.:520.0   1st Qu.:3.130   1st Qu.:2.000  \n",
       " Median :0.0000   Median :580.0   Median :3.395   Median :2.000  \n",
       " Mean   :0.3175   Mean   :587.7   Mean   :3.390   Mean   :2.485  \n",
       " 3rd Qu.:1.0000   3rd Qu.:660.0   3rd Qu.:3.670   3rd Qu.:3.000  \n",
       " Max.   :1.0000   Max.   :800.0   Max.   :4.000   Max.   :4.000  "
      ]
     },
     "metadata": {},
     "output_type": "display_data"
    }
   ],
   "source": [
    "summary(mydata)"
   ]
  },
  {
   "cell_type": "code",
   "execution_count": 49,
   "id": "e74283ae",
   "metadata": {},
   "outputs": [
    {
     "data": {
      "text/html": [
       "<style>\n",
       ".dl-inline {width: auto; margin:0; padding: 0}\n",
       ".dl-inline>dt, .dl-inline>dd {float: none; width: auto; display: inline-block}\n",
       ".dl-inline>dt::after {content: \":\\0020\"; padding-right: .5ex}\n",
       ".dl-inline>dt:not(:first-of-type) {padding-left: .5ex}\n",
       "</style><dl class=dl-inline><dt>admit</dt><dd>0.3175</dd><dt>gre</dt><dd>587.7</dd><dt>gpa</dt><dd>3.3899</dd><dt>rank</dt><dd>2.485</dd></dl>\n"
      ],
      "text/latex": [
       "\\begin{description*}\n",
       "\\item[admit] 0.3175\n",
       "\\item[gre] 587.7\n",
       "\\item[gpa] 3.3899\n",
       "\\item[rank] 2.485\n",
       "\\end{description*}\n"
      ],
      "text/markdown": [
       "admit\n",
       ":   0.3175gre\n",
       ":   587.7gpa\n",
       ":   3.3899rank\n",
       ":   2.485\n",
       "\n"
      ],
      "text/plain": [
       "   admit      gre      gpa     rank \n",
       "  0.3175 587.7000   3.3899   2.4850 "
      ]
     },
     "metadata": {},
     "output_type": "display_data"
    }
   ],
   "source": [
    "sapply(mydata,mean) #apply(mydata,2,mean)"
   ]
  },
  {
   "cell_type": "code",
   "execution_count": null,
   "id": "e7200501",
   "metadata": {},
   "outputs": [],
   "source": [
    "admit_count=count()\n",
    "gre_mean=mean(mydata$gre)\n",
    "gpa_mean=mean(mydata$gre)\n"
   ]
  },
  {
   "cell_type": "code",
   "execution_count": 52,
   "id": "e7319f6c",
   "metadata": {},
   "outputs": [
    {
     "name": "stderr",
     "output_type": "stream",
     "text": [
      "Warning message:\n",
      "\"package 'tidyverse' was built under R version 4.0.5\"\n",
      "-- \u001b[1mAttaching packages\u001b[22m --------------------------------------- tidyverse 1.3.1 --\n",
      "\n",
      "\u001b[32mv\u001b[39m \u001b[34mggplot2\u001b[39m 3.3.3     \u001b[32mv\u001b[39m \u001b[34mpurrr  \u001b[39m 0.3.4\n",
      "\u001b[32mv\u001b[39m \u001b[34mtibble \u001b[39m 3.1.1     \u001b[32mv\u001b[39m \u001b[34mdplyr  \u001b[39m 1.0.6\n",
      "\u001b[32mv\u001b[39m \u001b[34mtidyr  \u001b[39m 1.1.3     \u001b[32mv\u001b[39m \u001b[34mstringr\u001b[39m 1.4.0\n",
      "\u001b[32mv\u001b[39m \u001b[34mreadr  \u001b[39m 1.4.0     \u001b[32mv\u001b[39m \u001b[34mforcats\u001b[39m 0.5.1\n",
      "\n",
      "Warning message:\n",
      "\"package 'ggplot2' was built under R version 4.0.5\"\n",
      "Warning message:\n",
      "\"package 'tibble' was built under R version 4.0.5\"\n",
      "Warning message:\n",
      "\"package 'tidyr' was built under R version 4.0.5\"\n",
      "Warning message:\n",
      "\"package 'readr' was built under R version 4.0.5\"\n",
      "Warning message:\n",
      "\"package 'purrr' was built under R version 4.0.5\"\n",
      "Warning message:\n",
      "\"package 'dplyr' was built under R version 4.0.5\"\n",
      "Warning message:\n",
      "\"package 'stringr' was built under R version 4.0.5\"\n",
      "Warning message:\n",
      "\"package 'forcats' was built under R version 4.0.5\"\n",
      "-- \u001b[1mConflicts\u001b[22m ------------------------------------------ tidyverse_conflicts() --\n",
      "\u001b[31mx\u001b[39m \u001b[34mdplyr\u001b[39m::\u001b[32mfilter()\u001b[39m masks \u001b[34mstats\u001b[39m::filter()\n",
      "\u001b[31mx\u001b[39m \u001b[34mdplyr\u001b[39m::\u001b[32mlag()\u001b[39m    masks \u001b[34mstats\u001b[39m::lag()\n",
      "\n"
     ]
    }
   ],
   "source": [
    "library(tidyverse)"
   ]
  },
  {
   "cell_type": "code",
   "execution_count": 54,
   "id": "fa836ae2",
   "metadata": {},
   "outputs": [],
   "source": [
    "library(dplyr)"
   ]
  },
  {
   "cell_type": "code",
   "execution_count": 69,
   "id": "2e28d220",
   "metadata": {},
   "outputs": [
    {
     "data": {
      "text/plain": [
       "\n",
       "  0   1 \n",
       "273 127 "
      ]
     },
     "metadata": {},
     "output_type": "display_data"
    }
   ],
   "source": [
    "a=table(mydata$admit)\n",
    "a"
   ]
  },
  {
   "cell_type": "code",
   "execution_count": 70,
   "id": "48e8d65c",
   "metadata": {},
   "outputs": [
    {
     "data": {
      "text/plain": [
       "\n",
       "     0      1 \n",
       "0.6825 0.3175 "
      ]
     },
     "metadata": {},
     "output_type": "display_data"
    }
   ],
   "source": [
    "a/length(mydata$admit) #Datos desbalanceados"
   ]
  },
  {
   "cell_type": "code",
   "execution_count": 71,
   "id": "9fe13ad8",
   "metadata": {},
   "outputs": [
    {
     "data": {
      "text/plain": [
       "\n",
       "     1      2      3      4 \n",
       "0.1525 0.3775 0.3025 0.1675 "
      ]
     },
     "metadata": {},
     "output_type": "display_data"
    }
   ],
   "source": [
    "rank_count=table(mydata$rank)/length(mydata$rank)\n",
    "rank_count"
   ]
  },
  {
   "cell_type": "code",
   "execution_count": 77,
   "id": "8f39d43e",
   "metadata": {},
   "outputs": [
    {
     "name": "stderr",
     "output_type": "stream",
     "text": [
      "`summarise()` has grouped output by 'admit'. You can override using the `.groups` argument.\n",
      "\n"
     ]
    },
    {
     "data": {
      "text/html": [
       "<table class=\"dataframe\">\n",
       "<caption>A grouped_df: 8 × 5</caption>\n",
       "<thead>\n",
       "\t<tr><th scope=col>admit</th><th scope=col>rank</th><th scope=col>count_rank</th><th scope=col>mean_gre</th><th scope=col>mean_gpa</th></tr>\n",
       "\t<tr><th scope=col>&lt;int&gt;</th><th scope=col>&lt;int&gt;</th><th scope=col>&lt;int&gt;</th><th scope=col>&lt;dbl&gt;</th><th scope=col>&lt;dbl&gt;</th></tr>\n",
       "</thead>\n",
       "<tbody>\n",
       "\t<tr><td>0</td><td>1</td><td>28</td><td>582.9</td><td>3.3</td></tr>\n",
       "\t<tr><td>0</td><td>2</td><td>97</td><td>586.6</td><td>3.3</td></tr>\n",
       "\t<tr><td>0</td><td>3</td><td>93</td><td>562.4</td><td>3.4</td></tr>\n",
       "\t<tr><td>0</td><td>4</td><td>55</td><td>562.9</td><td>3.3</td></tr>\n",
       "\t<tr><td>1</td><td>1</td><td>33</td><td>636.4</td><td>3.5</td></tr>\n",
       "\t<tr><td>1</td><td>2</td><td>54</td><td>613.0</td><td>3.4</td></tr>\n",
       "\t<tr><td>1</td><td>3</td><td>28</td><td>616.4</td><td>3.5</td></tr>\n",
       "\t<tr><td>1</td><td>4</td><td>12</td><td>603.3</td><td>3.4</td></tr>\n",
       "</tbody>\n",
       "</table>\n"
      ],
      "text/latex": [
       "A grouped\\_df: 8 × 5\n",
       "\\begin{tabular}{lllll}\n",
       " admit & rank & count\\_rank & mean\\_gre & mean\\_gpa\\\\\n",
       " <int> & <int> & <int> & <dbl> & <dbl>\\\\\n",
       "\\hline\n",
       "\t 0 & 1 & 28 & 582.9 & 3.3\\\\\n",
       "\t 0 & 2 & 97 & 586.6 & 3.3\\\\\n",
       "\t 0 & 3 & 93 & 562.4 & 3.4\\\\\n",
       "\t 0 & 4 & 55 & 562.9 & 3.3\\\\\n",
       "\t 1 & 1 & 33 & 636.4 & 3.5\\\\\n",
       "\t 1 & 2 & 54 & 613.0 & 3.4\\\\\n",
       "\t 1 & 3 & 28 & 616.4 & 3.5\\\\\n",
       "\t 1 & 4 & 12 & 603.3 & 3.4\\\\\n",
       "\\end{tabular}\n"
      ],
      "text/markdown": [
       "\n",
       "A grouped_df: 8 × 5\n",
       "\n",
       "| admit &lt;int&gt; | rank &lt;int&gt; | count_rank &lt;int&gt; | mean_gre &lt;dbl&gt; | mean_gpa &lt;dbl&gt; |\n",
       "|---|---|---|---|---|\n",
       "| 0 | 1 | 28 | 582.9 | 3.3 |\n",
       "| 0 | 2 | 97 | 586.6 | 3.3 |\n",
       "| 0 | 3 | 93 | 562.4 | 3.4 |\n",
       "| 0 | 4 | 55 | 562.9 | 3.3 |\n",
       "| 1 | 1 | 33 | 636.4 | 3.5 |\n",
       "| 1 | 2 | 54 | 613.0 | 3.4 |\n",
       "| 1 | 3 | 28 | 616.4 | 3.5 |\n",
       "| 1 | 4 | 12 | 603.3 | 3.4 |\n",
       "\n"
      ],
      "text/plain": [
       "  admit rank count_rank mean_gre mean_gpa\n",
       "1 0     1    28         582.9    3.3     \n",
       "2 0     2    97         586.6    3.3     \n",
       "3 0     3    93         562.4    3.4     \n",
       "4 0     4    55         562.9    3.3     \n",
       "5 1     1    33         636.4    3.5     \n",
       "6 1     2    54         613.0    3.4     \n",
       "7 1     3    28         616.4    3.5     \n",
       "8 1     4    12         603.3    3.4     "
      ]
     },
     "metadata": {},
     "output_type": "display_data"
    }
   ],
   "source": [
    "mydata%>% #operador %>% pipe\n",
    " group_by(admit,rank)%>%\n",
    " summarize(count_rank=n(),\n",
    "           mean_gre=round(mean(gre),1),\n",
    "           mean_gpa=round(mean(gpa),1)) #¿Cómo ponemos rank?"
   ]
  },
  {
   "cell_type": "code",
   "execution_count": 78,
   "id": "6f740742",
   "metadata": {},
   "outputs": [
    {
     "data": {
      "text/html": [
       "<table class=\"dataframe\">\n",
       "<caption>A data.frame: 10 × 8</caption>\n",
       "<thead>\n",
       "\t<tr><th></th><th scope=col>admit</th><th scope=col>gre</th><th scope=col>gpa</th><th scope=col>rank</th><th scope=col>rank_1</th><th scope=col>rank_2</th><th scope=col>rank_3</th><th scope=col>rank_4</th></tr>\n",
       "\t<tr><th></th><th scope=col>&lt;int&gt;</th><th scope=col>&lt;int&gt;</th><th scope=col>&lt;dbl&gt;</th><th scope=col>&lt;int&gt;</th><th scope=col>&lt;dbl&gt;</th><th scope=col>&lt;dbl&gt;</th><th scope=col>&lt;dbl&gt;</th><th scope=col>&lt;dbl&gt;</th></tr>\n",
       "</thead>\n",
       "<tbody>\n",
       "\t<tr><th scope=row>1</th><td>0</td><td>380</td><td>3.61</td><td>3</td><td>0</td><td>0</td><td>1</td><td>0</td></tr>\n",
       "\t<tr><th scope=row>2</th><td>1</td><td>660</td><td>3.67</td><td>3</td><td>0</td><td>0</td><td>1</td><td>0</td></tr>\n",
       "\t<tr><th scope=row>3</th><td>1</td><td>800</td><td>4.00</td><td>1</td><td>1</td><td>0</td><td>0</td><td>0</td></tr>\n",
       "\t<tr><th scope=row>4</th><td>1</td><td>640</td><td>3.19</td><td>4</td><td>0</td><td>0</td><td>0</td><td>1</td></tr>\n",
       "\t<tr><th scope=row>5</th><td>0</td><td>520</td><td>2.93</td><td>4</td><td>0</td><td>0</td><td>0</td><td>1</td></tr>\n",
       "\t<tr><th scope=row>6</th><td>1</td><td>760</td><td>3.00</td><td>2</td><td>0</td><td>1</td><td>0</td><td>0</td></tr>\n",
       "\t<tr><th scope=row>7</th><td>1</td><td>560</td><td>2.98</td><td>1</td><td>1</td><td>0</td><td>0</td><td>0</td></tr>\n",
       "\t<tr><th scope=row>8</th><td>0</td><td>400</td><td>3.08</td><td>2</td><td>0</td><td>1</td><td>0</td><td>0</td></tr>\n",
       "\t<tr><th scope=row>9</th><td>1</td><td>540</td><td>3.39</td><td>3</td><td>0</td><td>0</td><td>1</td><td>0</td></tr>\n",
       "\t<tr><th scope=row>10</th><td>0</td><td>700</td><td>3.92</td><td>2</td><td>0</td><td>1</td><td>0</td><td>0</td></tr>\n",
       "</tbody>\n",
       "</table>\n"
      ],
      "text/latex": [
       "A data.frame: 10 × 8\n",
       "\\begin{tabular}{r|llllllll}\n",
       "  & admit & gre & gpa & rank & rank\\_1 & rank\\_2 & rank\\_3 & rank\\_4\\\\\n",
       "  & <int> & <int> & <dbl> & <int> & <dbl> & <dbl> & <dbl> & <dbl>\\\\\n",
       "\\hline\n",
       "\t1 & 0 & 380 & 3.61 & 3 & 0 & 0 & 1 & 0\\\\\n",
       "\t2 & 1 & 660 & 3.67 & 3 & 0 & 0 & 1 & 0\\\\\n",
       "\t3 & 1 & 800 & 4.00 & 1 & 1 & 0 & 0 & 0\\\\\n",
       "\t4 & 1 & 640 & 3.19 & 4 & 0 & 0 & 0 & 1\\\\\n",
       "\t5 & 0 & 520 & 2.93 & 4 & 0 & 0 & 0 & 1\\\\\n",
       "\t6 & 1 & 760 & 3.00 & 2 & 0 & 1 & 0 & 0\\\\\n",
       "\t7 & 1 & 560 & 2.98 & 1 & 1 & 0 & 0 & 0\\\\\n",
       "\t8 & 0 & 400 & 3.08 & 2 & 0 & 1 & 0 & 0\\\\\n",
       "\t9 & 1 & 540 & 3.39 & 3 & 0 & 0 & 1 & 0\\\\\n",
       "\t10 & 0 & 700 & 3.92 & 2 & 0 & 1 & 0 & 0\\\\\n",
       "\\end{tabular}\n"
      ],
      "text/markdown": [
       "\n",
       "A data.frame: 10 × 8\n",
       "\n",
       "| <!--/--> | admit &lt;int&gt; | gre &lt;int&gt; | gpa &lt;dbl&gt; | rank &lt;int&gt; | rank_1 &lt;dbl&gt; | rank_2 &lt;dbl&gt; | rank_3 &lt;dbl&gt; | rank_4 &lt;dbl&gt; |\n",
       "|---|---|---|---|---|---|---|---|---|\n",
       "| 1 | 0 | 380 | 3.61 | 3 | 0 | 0 | 1 | 0 |\n",
       "| 2 | 1 | 660 | 3.67 | 3 | 0 | 0 | 1 | 0 |\n",
       "| 3 | 1 | 800 | 4.00 | 1 | 1 | 0 | 0 | 0 |\n",
       "| 4 | 1 | 640 | 3.19 | 4 | 0 | 0 | 0 | 1 |\n",
       "| 5 | 0 | 520 | 2.93 | 4 | 0 | 0 | 0 | 1 |\n",
       "| 6 | 1 | 760 | 3.00 | 2 | 0 | 1 | 0 | 0 |\n",
       "| 7 | 1 | 560 | 2.98 | 1 | 1 | 0 | 0 | 0 |\n",
       "| 8 | 0 | 400 | 3.08 | 2 | 0 | 1 | 0 | 0 |\n",
       "| 9 | 1 | 540 | 3.39 | 3 | 0 | 0 | 1 | 0 |\n",
       "| 10 | 0 | 700 | 3.92 | 2 | 0 | 1 | 0 | 0 |\n",
       "\n"
      ],
      "text/plain": [
       "   admit gre gpa  rank rank_1 rank_2 rank_3 rank_4\n",
       "1  0     380 3.61 3    0      0      1      0     \n",
       "2  1     660 3.67 3    0      0      1      0     \n",
       "3  1     800 4.00 1    1      0      0      0     \n",
       "4  1     640 3.19 4    0      0      0      1     \n",
       "5  0     520 2.93 4    0      0      0      1     \n",
       "6  1     760 3.00 2    0      1      0      0     \n",
       "7  1     560 2.98 1    1      0      0      0     \n",
       "8  0     400 3.08 2    0      1      0      0     \n",
       "9  1     540 3.39 3    0      0      1      0     \n",
       "10 0     700 3.92 2    0      1      0      0     "
      ]
     },
     "metadata": {},
     "output_type": "display_data"
    }
   ],
   "source": [
    "#Hacer dummy rank (1:4)...varios paquetes, pero es sencillo con base R\n",
    "mydata$rank_1=ifelse(mydata$rank==1,1,0)\n",
    "mydata$rank_2=ifelse(mydata$rank==2,1,0)\n",
    "mydata$rank_3=ifelse(mydata$rank==3,1,0)\n",
    "mydata$rank_4=ifelse(mydata$rank==4,1,0)\n",
    "head(mydata,10)"
   ]
  },
  {
   "cell_type": "markdown",
   "id": "40bad3b5",
   "metadata": {},
   "source": [
    "### Tarea: Hacer gráficas para ver la distribución de GPA & GRE según ranks y admitidos (diagrama de cajas)"
   ]
  },
  {
   "cell_type": "code",
   "execution_count": 79,
   "id": "a4fc812a",
   "metadata": {},
   "outputs": [
    {
     "data": {
      "text/plain": [
       "\n",
       "Call:\n",
       "glm(formula = admit ~ gre + gpa, family = \"binomial\", data = mydata)\n",
       "\n",
       "Deviance Residuals: \n",
       "    Min       1Q   Median       3Q      Max  \n",
       "-1.2730  -0.8988  -0.7206   1.3013   2.0620  \n",
       "\n",
       "Coefficients:\n",
       "             Estimate Std. Error z value Pr(>|z|)    \n",
       "(Intercept) -4.949378   1.075093  -4.604 4.15e-06 ***\n",
       "gre          0.002691   0.001057   2.544   0.0109 *  \n",
       "gpa          0.754687   0.319586   2.361   0.0182 *  \n",
       "---\n",
       "Signif. codes:  0 '***' 0.001 '**' 0.01 '*' 0.05 '.' 0.1 ' ' 1\n",
       "\n",
       "(Dispersion parameter for binomial family taken to be 1)\n",
       "\n",
       "    Null deviance: 499.98  on 399  degrees of freedom\n",
       "Residual deviance: 480.34  on 397  degrees of freedom\n",
       "AIC: 486.34\n",
       "\n",
       "Number of Fisher Scoring iterations: 4\n"
      ]
     },
     "metadata": {},
     "output_type": "display_data"
    }
   ],
   "source": [
    "logit1=glm(admit~gre+gpa,data=mydata,family='binomial')\n",
    "summary(logit1)"
   ]
  },
  {
   "cell_type": "code",
   "execution_count": 82,
   "id": "9932af6a",
   "metadata": {},
   "outputs": [
    {
     "data": {
      "text/plain": [
       "\n",
       "Call:\n",
       "glm(formula = admit ~ gre + gpa + rank, family = \"binomial\", \n",
       "    data = mydata)\n",
       "\n",
       "Deviance Residuals: \n",
       "    Min       1Q   Median       3Q      Max  \n",
       "-1.6268  -0.8662  -0.6388   1.1490   2.0790  \n",
       "\n",
       "Coefficients:\n",
       "             Estimate Std. Error z value Pr(>|z|)    \n",
       "(Intercept) -3.989979   1.139951  -3.500 0.000465 ***\n",
       "gre          0.002264   0.001094   2.070 0.038465 *  \n",
       "gpa          0.804038   0.331819   2.423 0.015388 *  \n",
       "rank2       -0.675443   0.316490  -2.134 0.032829 *  \n",
       "rank3       -1.340204   0.345306  -3.881 0.000104 ***\n",
       "rank4       -1.551464   0.417832  -3.713 0.000205 ***\n",
       "---\n",
       "Signif. codes:  0 '***' 0.001 '**' 0.01 '*' 0.05 '.' 0.1 ' ' 1\n",
       "\n",
       "(Dispersion parameter for binomial family taken to be 1)\n",
       "\n",
       "    Null deviance: 499.98  on 399  degrees of freedom\n",
       "Residual deviance: 458.52  on 394  degrees of freedom\n",
       "AIC: 470.52\n",
       "\n",
       "Number of Fisher Scoring iterations: 4\n"
      ]
     },
     "metadata": {},
     "output_type": "display_data"
    }
   ],
   "source": [
    "mydata$rank=as.factor(mydata$rank)\n",
    "logit2=glm(admit~gre+gpa+rank,data=mydata,family='binomial')\n",
    "summary(logit2)"
   ]
  },
  {
   "cell_type": "code",
   "execution_count": 83,
   "id": "365dc26b",
   "metadata": {},
   "outputs": [
    {
     "data": {
      "text/plain": [
       "\n",
       "Call:\n",
       "glm(formula = admit ~ gre + gpa + rank_2 + rank_3 + rank_4, family = \"binomial\", \n",
       "    data = mydata)\n",
       "\n",
       "Deviance Residuals: \n",
       "    Min       1Q   Median       3Q      Max  \n",
       "-1.6268  -0.8662  -0.6388   1.1490   2.0790  \n",
       "\n",
       "Coefficients:\n",
       "             Estimate Std. Error z value Pr(>|z|)    \n",
       "(Intercept) -3.989979   1.139951  -3.500 0.000465 ***\n",
       "gre          0.002264   0.001094   2.070 0.038465 *  \n",
       "gpa          0.804038   0.331819   2.423 0.015388 *  \n",
       "rank_2      -0.675443   0.316490  -2.134 0.032829 *  \n",
       "rank_3      -1.340204   0.345306  -3.881 0.000104 ***\n",
       "rank_4      -1.551464   0.417832  -3.713 0.000205 ***\n",
       "---\n",
       "Signif. codes:  0 '***' 0.001 '**' 0.01 '*' 0.05 '.' 0.1 ' ' 1\n",
       "\n",
       "(Dispersion parameter for binomial family taken to be 1)\n",
       "\n",
       "    Null deviance: 499.98  on 399  degrees of freedom\n",
       "Residual deviance: 458.52  on 394  degrees of freedom\n",
       "AIC: 470.52\n",
       "\n",
       "Number of Fisher Scoring iterations: 4\n"
      ]
     },
     "metadata": {},
     "output_type": "display_data"
    }
   ],
   "source": [
    "logit3=glm(admit~gre+gpa+rank_2+rank_3+rank_4,data=mydata,family='binomial')\n",
    "summary(logit3)\n",
    "#https://www.theanalysisfactor.com/odds-ratio-categorical-predictor/"
   ]
  },
  {
   "cell_type": "code",
   "execution_count": 84,
   "id": "ac47f43f",
   "metadata": {},
   "outputs": [
    {
     "data": {
      "text/plain": [
       "\n",
       "Call:\n",
       "glm(formula = admit ~ gre + gpa + rank_1 + rank_2 + rank_3, family = \"binomial\", \n",
       "    data = mydata)\n",
       "\n",
       "Deviance Residuals: \n",
       "    Min       1Q   Median       3Q      Max  \n",
       "-1.6268  -0.8662  -0.6388   1.1490   2.0790  \n",
       "\n",
       "Coefficients:\n",
       "             Estimate Std. Error z value Pr(>|z|)    \n",
       "(Intercept) -5.541443   1.138072  -4.869 1.12e-06 ***\n",
       "gre          0.002264   0.001094   2.070 0.038465 *  \n",
       "gpa          0.804038   0.331819   2.423 0.015388 *  \n",
       "rank_1       1.551464   0.417832   3.713 0.000205 ***\n",
       "rank_2       0.876021   0.366735   2.389 0.016908 *  \n",
       "rank_3       0.211260   0.392857   0.538 0.590748    \n",
       "---\n",
       "Signif. codes:  0 '***' 0.001 '**' 0.01 '*' 0.05 '.' 0.1 ' ' 1\n",
       "\n",
       "(Dispersion parameter for binomial family taken to be 1)\n",
       "\n",
       "    Null deviance: 499.98  on 399  degrees of freedom\n",
       "Residual deviance: 458.52  on 394  degrees of freedom\n",
       "AIC: 470.52\n",
       "\n",
       "Number of Fisher Scoring iterations: 4\n"
      ]
     },
     "metadata": {},
     "output_type": "display_data"
    }
   ],
   "source": [
    "logit4=glm(admit~gre+gpa+rank_1+rank_2+rank_3,data=mydata,family='binomial')\n",
    "summary(logit4)\n",
    "#https://www.theanalysisfactor.com/odds-ratio-categorical-predictor/"
   ]
  },
  {
   "cell_type": "code",
   "execution_count": 86,
   "id": "c1906fce",
   "metadata": {},
   "outputs": [
    {
     "data": {
      "text/html": [
       "<table class=\"dataframe\">\n",
       "<caption>A data.frame: 10 × 9</caption>\n",
       "<thead>\n",
       "\t<tr><th></th><th scope=col>admit</th><th scope=col>gre</th><th scope=col>gpa</th><th scope=col>rank</th><th scope=col>rank_1</th><th scope=col>rank_2</th><th scope=col>rank_3</th><th scope=col>rank_4</th><th scope=col>prob_admit</th></tr>\n",
       "\t<tr><th></th><th scope=col>&lt;int&gt;</th><th scope=col>&lt;int&gt;</th><th scope=col>&lt;dbl&gt;</th><th scope=col>&lt;fct&gt;</th><th scope=col>&lt;dbl&gt;</th><th scope=col>&lt;dbl&gt;</th><th scope=col>&lt;dbl&gt;</th><th scope=col>&lt;dbl&gt;</th><th scope=col>&lt;dbl&gt;</th></tr>\n",
       "</thead>\n",
       "<tbody>\n",
       "\t<tr><th scope=row>1</th><td>0</td><td>380</td><td>3.61</td><td>3</td><td>0</td><td>0</td><td>1</td><td>0</td><td>0.1726265</td></tr>\n",
       "\t<tr><th scope=row>2</th><td>1</td><td>660</td><td>3.67</td><td>3</td><td>0</td><td>0</td><td>1</td><td>0</td><td>0.2921750</td></tr>\n",
       "\t<tr><th scope=row>3</th><td>1</td><td>800</td><td>4.00</td><td>1</td><td>1</td><td>0</td><td>0</td><td>0</td><td>0.7384082</td></tr>\n",
       "\t<tr><th scope=row>4</th><td>1</td><td>640</td><td>3.19</td><td>4</td><td>0</td><td>0</td><td>0</td><td>1</td><td>0.1783846</td></tr>\n",
       "\t<tr><th scope=row>5</th><td>0</td><td>520</td><td>2.93</td><td>4</td><td>0</td><td>0</td><td>0</td><td>1</td><td>0.1183539</td></tr>\n",
       "\t<tr><th scope=row>6</th><td>1</td><td>760</td><td>3.00</td><td>2</td><td>0</td><td>1</td><td>0</td><td>0</td><td>0.3699699</td></tr>\n",
       "\t<tr><th scope=row>7</th><td>1</td><td>560</td><td>2.98</td><td>1</td><td>1</td><td>0</td><td>0</td><td>0</td><td>0.4192462</td></tr>\n",
       "\t<tr><th scope=row>8</th><td>0</td><td>400</td><td>3.08</td><td>2</td><td>0</td><td>1</td><td>0</td><td>0</td><td>0.2170033</td></tr>\n",
       "\t<tr><th scope=row>9</th><td>1</td><td>540</td><td>3.39</td><td>3</td><td>0</td><td>0</td><td>1</td><td>0</td><td>0.2007352</td></tr>\n",
       "\t<tr><th scope=row>10</th><td>0</td><td>700</td><td>3.92</td><td>2</td><td>0</td><td>1</td><td>0</td><td>0</td><td>0.5178682</td></tr>\n",
       "</tbody>\n",
       "</table>\n"
      ],
      "text/latex": [
       "A data.frame: 10 × 9\n",
       "\\begin{tabular}{r|lllllllll}\n",
       "  & admit & gre & gpa & rank & rank\\_1 & rank\\_2 & rank\\_3 & rank\\_4 & prob\\_admit\\\\\n",
       "  & <int> & <int> & <dbl> & <fct> & <dbl> & <dbl> & <dbl> & <dbl> & <dbl>\\\\\n",
       "\\hline\n",
       "\t1 & 0 & 380 & 3.61 & 3 & 0 & 0 & 1 & 0 & 0.1726265\\\\\n",
       "\t2 & 1 & 660 & 3.67 & 3 & 0 & 0 & 1 & 0 & 0.2921750\\\\\n",
       "\t3 & 1 & 800 & 4.00 & 1 & 1 & 0 & 0 & 0 & 0.7384082\\\\\n",
       "\t4 & 1 & 640 & 3.19 & 4 & 0 & 0 & 0 & 1 & 0.1783846\\\\\n",
       "\t5 & 0 & 520 & 2.93 & 4 & 0 & 0 & 0 & 1 & 0.1183539\\\\\n",
       "\t6 & 1 & 760 & 3.00 & 2 & 0 & 1 & 0 & 0 & 0.3699699\\\\\n",
       "\t7 & 1 & 560 & 2.98 & 1 & 1 & 0 & 0 & 0 & 0.4192462\\\\\n",
       "\t8 & 0 & 400 & 3.08 & 2 & 0 & 1 & 0 & 0 & 0.2170033\\\\\n",
       "\t9 & 1 & 540 & 3.39 & 3 & 0 & 0 & 1 & 0 & 0.2007352\\\\\n",
       "\t10 & 0 & 700 & 3.92 & 2 & 0 & 1 & 0 & 0 & 0.5178682\\\\\n",
       "\\end{tabular}\n"
      ],
      "text/markdown": [
       "\n",
       "A data.frame: 10 × 9\n",
       "\n",
       "| <!--/--> | admit &lt;int&gt; | gre &lt;int&gt; | gpa &lt;dbl&gt; | rank &lt;fct&gt; | rank_1 &lt;dbl&gt; | rank_2 &lt;dbl&gt; | rank_3 &lt;dbl&gt; | rank_4 &lt;dbl&gt; | prob_admit &lt;dbl&gt; |\n",
       "|---|---|---|---|---|---|---|---|---|---|\n",
       "| 1 | 0 | 380 | 3.61 | 3 | 0 | 0 | 1 | 0 | 0.1726265 |\n",
       "| 2 | 1 | 660 | 3.67 | 3 | 0 | 0 | 1 | 0 | 0.2921750 |\n",
       "| 3 | 1 | 800 | 4.00 | 1 | 1 | 0 | 0 | 0 | 0.7384082 |\n",
       "| 4 | 1 | 640 | 3.19 | 4 | 0 | 0 | 0 | 1 | 0.1783846 |\n",
       "| 5 | 0 | 520 | 2.93 | 4 | 0 | 0 | 0 | 1 | 0.1183539 |\n",
       "| 6 | 1 | 760 | 3.00 | 2 | 0 | 1 | 0 | 0 | 0.3699699 |\n",
       "| 7 | 1 | 560 | 2.98 | 1 | 1 | 0 | 0 | 0 | 0.4192462 |\n",
       "| 8 | 0 | 400 | 3.08 | 2 | 0 | 1 | 0 | 0 | 0.2170033 |\n",
       "| 9 | 1 | 540 | 3.39 | 3 | 0 | 0 | 1 | 0 | 0.2007352 |\n",
       "| 10 | 0 | 700 | 3.92 | 2 | 0 | 1 | 0 | 0 | 0.5178682 |\n",
       "\n"
      ],
      "text/plain": [
       "   admit gre gpa  rank rank_1 rank_2 rank_3 rank_4 prob_admit\n",
       "1  0     380 3.61 3    0      0      1      0      0.1726265 \n",
       "2  1     660 3.67 3    0      0      1      0      0.2921750 \n",
       "3  1     800 4.00 1    1      0      0      0      0.7384082 \n",
       "4  1     640 3.19 4    0      0      0      1      0.1783846 \n",
       "5  0     520 2.93 4    0      0      0      1      0.1183539 \n",
       "6  1     760 3.00 2    0      1      0      0      0.3699699 \n",
       "7  1     560 2.98 1    1      0      0      0      0.4192462 \n",
       "8  0     400 3.08 2    0      1      0      0      0.2170033 \n",
       "9  1     540 3.39 3    0      0      1      0      0.2007352 \n",
       "10 0     700 3.92 2    0      1      0      0      0.5178682 "
      ]
     },
     "metadata": {},
     "output_type": "display_data"
    }
   ],
   "source": [
    "mydata$prob_admit=predict(logit3,mydata,type='response')\n",
    "head(mydata,10)"
   ]
  },
  {
   "cell_type": "code",
   "execution_count": 87,
   "id": "4dc3bd6e",
   "metadata": {},
   "outputs": [
    {
     "data": {
      "text/html": [
       "<table class=\"dataframe\">\n",
       "<caption>A data.frame: 10 × 10</caption>\n",
       "<thead>\n",
       "\t<tr><th></th><th scope=col>admit</th><th scope=col>gre</th><th scope=col>gpa</th><th scope=col>rank</th><th scope=col>rank_1</th><th scope=col>rank_2</th><th scope=col>rank_3</th><th scope=col>rank_4</th><th scope=col>prob_admit</th><th scope=col>lab_admit</th></tr>\n",
       "\t<tr><th></th><th scope=col>&lt;int&gt;</th><th scope=col>&lt;int&gt;</th><th scope=col>&lt;dbl&gt;</th><th scope=col>&lt;fct&gt;</th><th scope=col>&lt;dbl&gt;</th><th scope=col>&lt;dbl&gt;</th><th scope=col>&lt;dbl&gt;</th><th scope=col>&lt;dbl&gt;</th><th scope=col>&lt;dbl&gt;</th><th scope=col>&lt;dbl&gt;</th></tr>\n",
       "</thead>\n",
       "<tbody>\n",
       "\t<tr><th scope=row>1</th><td>0</td><td>380</td><td>3.61</td><td>3</td><td>0</td><td>0</td><td>1</td><td>0</td><td>0.1726265</td><td>0</td></tr>\n",
       "\t<tr><th scope=row>2</th><td>1</td><td>660</td><td>3.67</td><td>3</td><td>0</td><td>0</td><td>1</td><td>0</td><td>0.2921750</td><td>0</td></tr>\n",
       "\t<tr><th scope=row>3</th><td>1</td><td>800</td><td>4.00</td><td>1</td><td>1</td><td>0</td><td>0</td><td>0</td><td>0.7384082</td><td>1</td></tr>\n",
       "\t<tr><th scope=row>4</th><td>1</td><td>640</td><td>3.19</td><td>4</td><td>0</td><td>0</td><td>0</td><td>1</td><td>0.1783846</td><td>0</td></tr>\n",
       "\t<tr><th scope=row>5</th><td>0</td><td>520</td><td>2.93</td><td>4</td><td>0</td><td>0</td><td>0</td><td>1</td><td>0.1183539</td><td>0</td></tr>\n",
       "\t<tr><th scope=row>6</th><td>1</td><td>760</td><td>3.00</td><td>2</td><td>0</td><td>1</td><td>0</td><td>0</td><td>0.3699699</td><td>0</td></tr>\n",
       "\t<tr><th scope=row>7</th><td>1</td><td>560</td><td>2.98</td><td>1</td><td>1</td><td>0</td><td>0</td><td>0</td><td>0.4192462</td><td>0</td></tr>\n",
       "\t<tr><th scope=row>8</th><td>0</td><td>400</td><td>3.08</td><td>2</td><td>0</td><td>1</td><td>0</td><td>0</td><td>0.2170033</td><td>0</td></tr>\n",
       "\t<tr><th scope=row>9</th><td>1</td><td>540</td><td>3.39</td><td>3</td><td>0</td><td>0</td><td>1</td><td>0</td><td>0.2007352</td><td>0</td></tr>\n",
       "\t<tr><th scope=row>10</th><td>0</td><td>700</td><td>3.92</td><td>2</td><td>0</td><td>1</td><td>0</td><td>0</td><td>0.5178682</td><td>1</td></tr>\n",
       "</tbody>\n",
       "</table>\n"
      ],
      "text/latex": [
       "A data.frame: 10 × 10\n",
       "\\begin{tabular}{r|llllllllll}\n",
       "  & admit & gre & gpa & rank & rank\\_1 & rank\\_2 & rank\\_3 & rank\\_4 & prob\\_admit & lab\\_admit\\\\\n",
       "  & <int> & <int> & <dbl> & <fct> & <dbl> & <dbl> & <dbl> & <dbl> & <dbl> & <dbl>\\\\\n",
       "\\hline\n",
       "\t1 & 0 & 380 & 3.61 & 3 & 0 & 0 & 1 & 0 & 0.1726265 & 0\\\\\n",
       "\t2 & 1 & 660 & 3.67 & 3 & 0 & 0 & 1 & 0 & 0.2921750 & 0\\\\\n",
       "\t3 & 1 & 800 & 4.00 & 1 & 1 & 0 & 0 & 0 & 0.7384082 & 1\\\\\n",
       "\t4 & 1 & 640 & 3.19 & 4 & 0 & 0 & 0 & 1 & 0.1783846 & 0\\\\\n",
       "\t5 & 0 & 520 & 2.93 & 4 & 0 & 0 & 0 & 1 & 0.1183539 & 0\\\\\n",
       "\t6 & 1 & 760 & 3.00 & 2 & 0 & 1 & 0 & 0 & 0.3699699 & 0\\\\\n",
       "\t7 & 1 & 560 & 2.98 & 1 & 1 & 0 & 0 & 0 & 0.4192462 & 0\\\\\n",
       "\t8 & 0 & 400 & 3.08 & 2 & 0 & 1 & 0 & 0 & 0.2170033 & 0\\\\\n",
       "\t9 & 1 & 540 & 3.39 & 3 & 0 & 0 & 1 & 0 & 0.2007352 & 0\\\\\n",
       "\t10 & 0 & 700 & 3.92 & 2 & 0 & 1 & 0 & 0 & 0.5178682 & 1\\\\\n",
       "\\end{tabular}\n"
      ],
      "text/markdown": [
       "\n",
       "A data.frame: 10 × 10\n",
       "\n",
       "| <!--/--> | admit &lt;int&gt; | gre &lt;int&gt; | gpa &lt;dbl&gt; | rank &lt;fct&gt; | rank_1 &lt;dbl&gt; | rank_2 &lt;dbl&gt; | rank_3 &lt;dbl&gt; | rank_4 &lt;dbl&gt; | prob_admit &lt;dbl&gt; | lab_admit &lt;dbl&gt; |\n",
       "|---|---|---|---|---|---|---|---|---|---|---|\n",
       "| 1 | 0 | 380 | 3.61 | 3 | 0 | 0 | 1 | 0 | 0.1726265 | 0 |\n",
       "| 2 | 1 | 660 | 3.67 | 3 | 0 | 0 | 1 | 0 | 0.2921750 | 0 |\n",
       "| 3 | 1 | 800 | 4.00 | 1 | 1 | 0 | 0 | 0 | 0.7384082 | 1 |\n",
       "| 4 | 1 | 640 | 3.19 | 4 | 0 | 0 | 0 | 1 | 0.1783846 | 0 |\n",
       "| 5 | 0 | 520 | 2.93 | 4 | 0 | 0 | 0 | 1 | 0.1183539 | 0 |\n",
       "| 6 | 1 | 760 | 3.00 | 2 | 0 | 1 | 0 | 0 | 0.3699699 | 0 |\n",
       "| 7 | 1 | 560 | 2.98 | 1 | 1 | 0 | 0 | 0 | 0.4192462 | 0 |\n",
       "| 8 | 0 | 400 | 3.08 | 2 | 0 | 1 | 0 | 0 | 0.2170033 | 0 |\n",
       "| 9 | 1 | 540 | 3.39 | 3 | 0 | 0 | 1 | 0 | 0.2007352 | 0 |\n",
       "| 10 | 0 | 700 | 3.92 | 2 | 0 | 1 | 0 | 0 | 0.5178682 | 1 |\n",
       "\n"
      ],
      "text/plain": [
       "   admit gre gpa  rank rank_1 rank_2 rank_3 rank_4 prob_admit lab_admit\n",
       "1  0     380 3.61 3    0      0      1      0      0.1726265  0        \n",
       "2  1     660 3.67 3    0      0      1      0      0.2921750  0        \n",
       "3  1     800 4.00 1    1      0      0      0      0.7384082  1        \n",
       "4  1     640 3.19 4    0      0      0      1      0.1783846  0        \n",
       "5  0     520 2.93 4    0      0      0      1      0.1183539  0        \n",
       "6  1     760 3.00 2    0      1      0      0      0.3699699  0        \n",
       "7  1     560 2.98 1    1      0      0      0      0.4192462  0        \n",
       "8  0     400 3.08 2    0      1      0      0      0.2170033  0        \n",
       "9  1     540 3.39 3    0      0      1      0      0.2007352  0        \n",
       "10 0     700 3.92 2    0      1      0      0      0.5178682  1        "
      ]
     },
     "metadata": {},
     "output_type": "display_data"
    }
   ],
   "source": [
    "mydata$lab_admit=ifelse(mydata$prob_admit>0.5,1,0)\n",
    "head(mydata,10)"
   ]
  },
  {
   "cell_type": "code",
   "execution_count": 88,
   "id": "1d6e8f14",
   "metadata": {},
   "outputs": [
    {
     "data": {
      "text/plain": [
       "   \n",
       "      0   1\n",
       "  0 254  19\n",
       "  1  97  30"
      ]
     },
     "metadata": {},
     "output_type": "display_data"
    }
   ],
   "source": [
    "matrix_val=table(mydata$admit,mydata$lab_admit)\n",
    "matrix_val "
   ]
  },
  {
   "cell_type": "markdown",
   "id": "a5c9ac10",
   "metadata": {},
   "source": [
    "Predice muy bien la clase 0, pero no la 1 ¿por qué?"
   ]
  },
  {
   "cell_type": "code",
   "execution_count": 89,
   "id": "3e951081",
   "metadata": {},
   "outputs": [
    {
     "data": {
      "text/plain": [
       "\n",
       "  0   1 \n",
       "273 127 "
      ]
     },
     "metadata": {},
     "output_type": "display_data"
    }
   ],
   "source": [
    "table(mydata$admit)"
   ]
  },
  {
   "attachments": {
    "image.png": {
     "image/png": "[encoded data removed]"
    }
   },
   "cell_type": "markdown",
   "id": "e82f42a4",
   "metadata": {},
   "source": [
    "**Matriz de confusión**\n",
    "![image.png](attachment:image.png)"
   ]
  },
  {
   "cell_type": "markdown",
   "id": "a265857d",
   "metadata": {},
   "source": [
    "**Accuracy**\n",
    "\n",
    "Accuracy=TP+TN/(TN+FP+FN+TP)"
   ]
  },
  {
   "cell_type": "code",
   "execution_count": 91,
   "id": "66d914fb",
   "metadata": {},
   "outputs": [
    {
     "data": {
      "text/html": [
       "0.71"
      ],
      "text/latex": [
       "0.71"
      ],
      "text/markdown": [
       "0.71"
      ],
      "text/plain": [
       "[1] 0.71"
      ]
     },
     "metadata": {},
     "output_type": "display_data"
    }
   ],
   "source": [
    "accuracy=round(sum(diag(matrix_val))/sum(matrix_val),2)\n",
    "accuracy"
   ]
  },
  {
   "cell_type": "markdown",
   "id": "e499c208",
   "metadata": {},
   "source": [
    "**Sensibilidad (True Positive Rate, Recall)**\n",
    "\n",
    "Sensibilidad=TP/(TP+FN)\n",
    "\n",
    "**Especificidad (False Positive Rate**\n",
    "\n",
    "Especificidad=TN/(TN+FP)\n",
    "\n",
    "**Valor predictivo positivo (Precision)**\n",
    "\n",
    "VPP=TP/(TP+FP)\n",
    "\n",
    "**¿Valor predictivo negativo?**"
   ]
  },
  {
   "cell_type": "markdown",
   "id": "a8e62f41",
   "metadata": {},
   "source": [
    "¿Cómo afecta nuestro punto de corte de probabilidad -para clasificar Y=1- las métricas anteriores?"
   ]
  },
  {
   "cell_type": "code",
   "execution_count": null,
   "id": "52399c35",
   "metadata": {},
   "outputs": [],
   "source": []
  }
 ],
 "metadata": {
  "kernelspec": {
   "display_name": "R",
   "language": "R",
   "name": "ir"
  },
  "language_info": {
   "codemirror_mode": "r",
   "file_extension": ".r",
   "mimetype": "text/x-r-source",
   "name": "R",
   "pygments_lexer": "r",
   "version": "4.0.4"
  }
 },
 "nbformat": 4,
 "nbformat_minor": 5
}
